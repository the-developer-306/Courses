{
 "cells": [
  {
   "cell_type": "markdown",
   "metadata": {
    "id": "ehJOIvMZlraz"
   },
   "source": [
    "<h1 style=\"background-color:rgb(255,250,250); color:brown; padding:15px; border-top-style:solid; border-width:1px;\"> 👨‍💻 Continue Learning: Build Advanced Multi AI Agent Use Cases</h1>\n",
    "<img  style=\"display: block; \" src=\"images/next-step-7.png\" alt=\"next-step\" border=\"0\" width=\"400px\"></img>\n",
    "\n",
    "Congratulations on completing the **Multi AI Agent Systems with crewAI** course!\n",
    "\n",
    "To keep the momentum going, dive in and build new practical multi AI agents and work on advanced use cases with crewAI.\n"
   ]
  },
  {
   "cell_type": "markdown",
   "metadata": {
    "id": "k3cebfBdn31n"
   },
   "source": [
    "\n",
    "<h1 style=\"background-color:rgb(255,250,250); color:brown; padding:15px; border-top-style:solid; border-width:1px;\"> 📚  &nbsp; Practical Multi AI Agents and Advanced Use Cases with crewAI</h1>\n",
    "\n",
    "<a href=\"https://learn.deeplearning.ai/courses/practical-multi-ai-agents-and-advanced-use-cases-with-crewai/\"><img width=\"700px\" src=\"images/crewai-c2.png\" alt=\"crewai-c2-image\" border=\"0\"></a>\n",
    "\n",
    "- Create a chatbot to interface with your private data and documents using LangChain.\n",
    "\n",
    "- Build agents that collaborate in complex workflows, integrating external tools and using different models to handle specific tasks efficiently.\n",
    "\n",
    "- Learn to evaluate and enhance your agents by conducting performance tests and providing human feedback to train and optimize their performance.\n",
    "\n",
    "- Create multi-agent systems to automate tasks, such as project planning, lead scoring, data reporting, and large-scale content creation.\n",
    "\n",
    "- Language: **Python**\n",
    "\n",
    "<span style=\"padding: 18px 12px; background-color:rgb(255, 245,245); border-radius:8px; border-color:rgb(255,220,220); border-width:2px; border-style:solid; margin-bottom:10px\"><b>📚 Practical Multi AI Agents and Advanced Use Cases with crewAI &nbsp; ➡️ </b> &nbsp;&nbsp; <a href=\"https://learn.deeplearning.ai/courses/practical-multi-ai-agents-and-advanced-use-cases-with-crewai/\" style=\"background-color: #F65B66; border-radius:7px; color: white; padding: 8px 12px; text-align: center; text-decoration: none; display: inline-block;\">\n",
    "        <b>Enroll Now</b>\n",
    "    </a></span>\n",
    "<p></p>\n",
    "<br>"
   ]
  }
 ],
 "metadata": {
  "colab": {
   "provenance": []
  },
  "kernelspec": {
   "display_name": "Python 3 (ipykernel)",
   "language": "python",
   "name": "python3"
  },
  "language_info": {
   "codemirror_mode": {
    "name": "ipython",
    "version": 3
   },
   "file_extension": ".py",
   "mimetype": "text/x-python",
   "name": "python",
   "nbconvert_exporter": "python",
   "pygments_lexer": "ipython3",
   "version": "3.9.19"
  }
 },
 "nbformat": 4,
 "nbformat_minor": 4
}
