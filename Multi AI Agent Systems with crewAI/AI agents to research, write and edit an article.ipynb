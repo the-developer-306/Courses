{
 "cells": [
  {
   "cell_type": "markdown",
   "metadata": {},
   "source": [
    "You can download the `requirements.txt` for this course from the workspace of this lab. `File --> Open...`"
   ]
  },
  {
   "cell_type": "markdown",
   "metadata": {},
   "source": [
    "# L2: Create Agents to Research and Write an Article\n",
    "\n",
    "In this lesson, you will be introduced to the foundational concepts of multi-agent systems and get an overview of the crewAI framework."
   ]
  },
  {
   "cell_type": "markdown",
   "metadata": {},
   "source": [
    "The libraries are already installed in the classroom. If you're running this notebook on your own machine, you can install the following:\n",
    "```Python\n",
    "!pip install crewai==0.28.8 crewai_tools==0.1.6 langchain_community==0.0.29\n",
    "```"
   ]
  },
  {
   "cell_type": "code",
   "execution_count": 1,
   "metadata": {
    "height": 64
   },
   "outputs": [],
   "source": [
    "# Warning control\n",
    "import warnings\n",
    "warnings.filterwarnings('ignore')"
   ]
  },
  {
   "cell_type": "markdown",
   "metadata": {},
   "source": [
    "- Import from the crewAI libray."
   ]
  },
  {
   "cell_type": "code",
   "execution_count": 2,
   "metadata": {
    "height": 30
   },
   "outputs": [],
   "source": [
    "from crewai import Agent, Task, Crew"
   ]
  },
  {
   "cell_type": "markdown",
   "metadata": {},
   "source": [
    "- As a LLM for your agents, you'll be using OpenAI's `gpt-3.5-turbo`.\n",
    "\n",
    "**Optional Note:** crewAI also allow other popular models to be used as a LLM for your Agents. You can see some of the examples at the [bottom of the notebook](#1)."
   ]
  },
  {
   "cell_type": "code",
   "execution_count": 3,
   "metadata": {
    "height": 98
   },
   "outputs": [],
   "source": [
    "import os\n",
    "from utils import get_openai_api_key\n",
    "\n",
    "openai_api_key = get_openai_api_key()\n",
    "os.environ[\"OPENAI_MODEL_NAME\"] = 'gpt-3.5-turbo'"
   ]
  },
  {
   "cell_type": "markdown",
   "metadata": {},
   "source": [
    "## Creating Agents\n",
    "\n",
    "- Define your Agents, and provide them a `role`, `goal` and `backstory`.\n",
    "- It has been seen that LLMs perform better when they are role playing."
   ]
  },
  {
   "cell_type": "markdown",
   "metadata": {},
   "source": [
    "### Agent: Planner\n",
    "\n",
    "**Note**: The benefit of using _multiple strings_ :\n",
    "```Python\n",
    "varname = \"line 1 of text\"\n",
    "          \"line 2 of text\"\n",
    "```\n",
    "\n",
    "versus the _triple quote docstring_:\n",
    "```Python\n",
    "varname = \"\"\"line 1 of text\n",
    "             line 2 of text\n",
    "          \"\"\"\n",
    "```\n",
    "is that it can avoid adding those whitespaces and newline characters, making it better formatted to be passed to the LLM."
   ]
  },
  {
   "cell_type": "code",
   "execution_count": 4,
   "metadata": {
    "height": 251
   },
   "outputs": [],
   "source": [
    "planner = Agent(\n",
    "    role=\"Content Planner\",\n",
    "    goal=\"Plan engaging and factually accurate content on {topic}\",\n",
    "    backstory=\"You're working on planning a blog article \"\n",
    "              \"about the topic: {topic}.\"\n",
    "              \"You collect information that helps the \"\n",
    "              \"audience learn something \"\n",
    "              \"and make informed decisions. \"\n",
    "              \"Your work is the basis for \"\n",
    "              \"the Content Writer to write an article on this topic.\",\n",
    "    allow_delegation=False,\n",
    "\tverbose=True\n",
    ")"
   ]
  },
  {
   "cell_type": "markdown",
   "metadata": {},
   "source": [
    "### Agent: Writer"
   ]
  },
  {
   "cell_type": "code",
   "execution_count": 5,
   "metadata": {
    "height": 370
   },
   "outputs": [],
   "source": [
    "writer = Agent(\n",
    "    role=\"Content Writer\",\n",
    "    goal=\"Write insightful and factually accurate \"\n",
    "         \"opinion piece about the topic: {topic}\",\n",
    "    backstory=\"You're working on a writing \"\n",
    "              \"a new opinion piece about the topic: {topic}. \"\n",
    "              \"You base your writing on the work of \"\n",
    "              \"the Content Planner, who provides an outline \"\n",
    "              \"and relevant context about the topic. \"\n",
    "              \"You follow the main objectives and \"\n",
    "              \"direction of the outline, \"\n",
    "              \"as provide by the Content Planner. \"\n",
    "              \"You also provide objective and impartial insights \"\n",
    "              \"and back them up with information \"\n",
    "              \"provide by the Content Planner. \"\n",
    "              \"You acknowledge in your opinion piece \"\n",
    "              \"when your statements are opinions \"\n",
    "              \"as opposed to objective statements.\",\n",
    "    allow_delegation=False,\n",
    "    verbose=True\n",
    ")"
   ]
  },
  {
   "cell_type": "markdown",
   "metadata": {},
   "source": [
    "### Agent: Editor"
   ]
  },
  {
   "cell_type": "code",
   "execution_count": 6,
   "metadata": {
    "height": 285
   },
   "outputs": [],
   "source": [
    "editor = Agent(\n",
    "    role=\"Editor\",\n",
    "    goal=\"Edit a given blog post to align with \"\n",
    "         \"the writing style of the organization. \",\n",
    "    backstory=\"You are an editor who receives a blog post \"\n",
    "              \"from the Content Writer. \"\n",
    "              \"Your goal is to review the blog post \"\n",
    "              \"to ensure that it follows journalistic best practices,\"\n",
    "              \"provides balanced viewpoints \"\n",
    "              \"when providing opinions or assertions, \"\n",
    "              \"and also avoids major controversial topics \"\n",
    "              \"or opinions when possible.\",\n",
    "    allow_delegation=False,\n",
    "    verbose=True\n",
    ")"
   ]
  },
  {
   "cell_type": "markdown",
   "metadata": {},
   "source": [
    "## Creating Tasks\n",
    "\n",
    "- Define your Tasks, and provide them a `description`, `expected_output` and `agent`."
   ]
  },
  {
   "cell_type": "markdown",
   "metadata": {},
   "source": [
    "### Task: Plan"
   ]
  },
  {
   "cell_type": "code",
   "execution_count": 7,
   "metadata": {
    "height": 268
   },
   "outputs": [],
   "source": [
    "plan = Task(\n",
    "    description=(\n",
    "        \"1. Prioritize the latest trends, key players, \"\n",
    "            \"and noteworthy news on {topic}.\\n\"\n",
    "        \"2. Identify the target audience, considering \"\n",
    "            \"their interests and pain points.\\n\"\n",
    "        \"3. Develop a detailed content outline including \"\n",
    "            \"an introduction, key points, and a call to action.\\n\"\n",
    "        \"4. Include SEO keywords and relevant data or sources.\"\n",
    "    ),\n",
    "    expected_output=\"A comprehensive content plan document \"\n",
    "        \"with an outline, audience analysis, \"\n",
    "        \"SEO keywords, and resources.\",\n",
    "    agent=planner,\n",
    ")"
   ]
  },
  {
   "cell_type": "markdown",
   "metadata": {},
   "source": [
    "### Task: Write"
   ]
  },
  {
   "cell_type": "code",
   "execution_count": 8,
   "metadata": {
    "height": 319
   },
   "outputs": [],
   "source": [
    "write = Task(\n",
    "    description=(\n",
    "        \"1. Use the content plan to craft a compelling \"\n",
    "            \"blog post on {topic}.\\n\"\n",
    "        \"2. Incorporate SEO keywords naturally.\\n\"\n",
    "\t\t\"3. Sections/Subtitles are properly named \"\n",
    "            \"in an engaging manner.\\n\"\n",
    "        \"4. Ensure the post is structured with an \"\n",
    "            \"engaging introduction, insightful body, \"\n",
    "            \"and a summarizing conclusion.\\n\"\n",
    "        \"5. Proofread for grammatical errors and \"\n",
    "            \"alignment with the brand's voice.\\n\"\n",
    "    ),\n",
    "    expected_output=\"A well-written blog post \"\n",
    "        \"in markdown format, ready for publication, \"\n",
    "        \"each section should have 2 or 3 paragraphs.\",\n",
    "    agent=writer,\n",
    ")"
   ]
  },
  {
   "cell_type": "markdown",
   "metadata": {},
   "source": [
    "### Task: Edit"
   ]
  },
  {
   "cell_type": "code",
   "execution_count": 9,
   "metadata": {
    "height": 166
   },
   "outputs": [],
   "source": [
    "edit = Task(\n",
    "    description=(\"Proofread the given blog post for \"\n",
    "                 \"grammatical errors and \"\n",
    "                 \"alignment with the brand's voice.\"),\n",
    "    expected_output=\"A well-written blog post in markdown format, \"\n",
    "                    \"ready for publication, \"\n",
    "                    \"each section should have 2 or 3 paragraphs.\",\n",
    "    agent=editor\n",
    ")"
   ]
  },
  {
   "cell_type": "markdown",
   "metadata": {},
   "source": [
    "## Creating the Crew\n",
    "\n",
    "- Create your crew of Agents\n",
    "- Pass the tasks to be performed by those agents.\n",
    "    - **Note**: *For this simple example*, the tasks will be performed sequentially (i.e they are dependent on each other), so the _order_ of the task in the list _matters_.\n",
    "- `verbose=2` allows you to see all the logs of the execution. "
   ]
  },
  {
   "cell_type": "code",
   "execution_count": 10,
   "metadata": {
    "height": 98
   },
   "outputs": [],
   "source": [
    "crew = Crew(\n",
    "    agents=[planner, writer, editor],\n",
    "    tasks=[plan, write, edit],\n",
    "    verbose=2\n",
    ")"
   ]
  },
  {
   "cell_type": "markdown",
   "metadata": {},
   "source": [
    "## Running the Crew"
   ]
  },
  {
   "cell_type": "markdown",
   "metadata": {},
   "source": [
    "**Note**: LLMs can provide different outputs for they same input, so what you get might be different than what you see in the video."
   ]
  },
  {
   "cell_type": "code",
   "execution_count": 11,
   "metadata": {
    "height": 30
   },
   "outputs": [
    {
     "name": "stdout",
     "output_type": "stream",
     "text": [
      "\u001b[1m\u001b[95m [DEBUG]: == Working Agent: Content Planner\u001b[00m\n",
      "\u001b[1m\u001b[95m [INFO]: == Starting Task: 1. Prioritize the latest trends, key players, and noteworthy news on Artificial Intelligence.\n",
      "2. Identify the target audience, considering their interests and pain points.\n",
      "3. Develop a detailed content outline including an introduction, key points, and a call to action.\n",
      "4. Include SEO keywords and relevant data or sources.\u001b[00m\n",
      "\n",
      "\n",
      "\u001b[1m> Entering new CrewAgentExecutor chain...\u001b[0m\n",
      "\u001b[32;1m\u001b[1;3mI now can give a great answer\n",
      "\n",
      "Final Answer:\n",
      "\n",
      "Content Plan Document\n",
      "\n",
      "Title: The Latest Trends and Key Players in Artificial Intelligence\n",
      "\n",
      "Introduction:\n",
      "- Brief overview of Artificial Intelligence (AI) and its significance in today's world\n",
      "- Mention of the rapid advancements and ongoing developments in the field\n",
      "\n",
      "Key Points:\n",
      "1. Latest Trends in Artificial Intelligence\n",
      "- Emphasis on the rise of machine learning and deep learning technologies\n",
      "- Discussion on the increasing integration of AI in various industries such as healthcare, finance, and transportation\n",
      "- Exploration of the impact of AI on job automation and workforce transformation\n",
      "\n",
      "2. Key Players in the AI Industry\n",
      "- Overview of leading companies such as Google, Amazon, Microsoft, and IBM\n",
      "- Analysis of their contributions to AI research and development\n",
      "- Highlighting key partnerships and collaborations within the industry\n",
      "\n",
      "3. Noteworthy News in Artificial Intelligence\n",
      "- Summary of recent breakthroughs in AI technology\n",
      "- Coverage of major AI conferences, events, and announcements\n",
      "- Insights into the future of AI and potential challenges ahead\n",
      "\n",
      "Audience Analysis:\n",
      "- Target Audience: Professionals in technology, business leaders, students, and AI enthusiasts\n",
      "- Interests: Latest advancements in AI, key players in the industry, and practical applications of AI technology\n",
      "- Pain Points: Understanding complex AI concepts, staying updated on industry trends, and identifying opportunities for career growth in AI\n",
      "\n",
      "Outline:\n",
      "I. Introduction\n",
      "- Definition of Artificial Intelligence\n",
      "- Importance of AI in today's world\n",
      "\n",
      "II. Latest Trends in Artificial Intelligence\n",
      "A. Rise of machine learning and deep learning technologies\n",
      "B. Integration of AI in various industries\n",
      "C. Impact on job automation and workforce transformation\n",
      "\n",
      "III. Key Players in the AI Industry\n",
      "A. Leading companies in AI\n",
      "B. Contributions to AI research and development\n",
      "C. Partnerships and collaborations\n",
      "\n",
      "IV. Noteworthy News in Artificial Intelligence\n",
      "A. Recent breakthroughs in AI technology\n",
      "B. Major AI conferences and events\n",
      "C. Future of AI and potential challenges\n",
      "\n",
      "Call to Action:\n",
      "- Encourage readers to stay informed about the latest trends in AI\n",
      "- Invite them to explore career opportunities in the field of Artificial Intelligence\n",
      "\n",
      "SEO Keywords:\n",
      "- Artificial Intelligence trends\n",
      "- Key players in AI industry\n",
      "- Latest news in AI technology\n",
      "- Machine learning advancements\n",
      "- Deep learning applications\n",
      "- AI conferences and events\n",
      "\n",
      "Resources:\n",
      "- Industry reports from research firms like Gartner and IDC\n",
      "- Articles from reputable sources such as Forbes and TechCrunch\n",
      "- Research papers from leading AI research institutions like OpenAI and DeepMind\n",
      "\n",
      "Conclusion:\n",
      "This content plan aims to provide valuable insights into the latest trends and key players in Artificial Intelligence, catering to a diverse audience interested in the advancements and applications of AI technology. By incorporating SEO keywords and relevant resources, the blog article will offer a comprehensive overview of the dynamic AI landscape, empowering readers to make informed decisions and stay ahead in the rapidly evolving field of Artificial Intelligence.\u001b[0m\n",
      "\n",
      "\u001b[1m> Finished chain.\u001b[0m\n",
      "\u001b[1m\u001b[92m [DEBUG]: == [Content Planner] Task output: Content Plan Document\n",
      "\n",
      "Title: The Latest Trends and Key Players in Artificial Intelligence\n",
      "\n",
      "Introduction:\n",
      "- Brief overview of Artificial Intelligence (AI) and its significance in today's world\n",
      "- Mention of the rapid advancements and ongoing developments in the field\n",
      "\n",
      "Key Points:\n",
      "1. Latest Trends in Artificial Intelligence\n",
      "- Emphasis on the rise of machine learning and deep learning technologies\n",
      "- Discussion on the increasing integration of AI in various industries such as healthcare, finance, and transportation\n",
      "- Exploration of the impact of AI on job automation and workforce transformation\n",
      "\n",
      "2. Key Players in the AI Industry\n",
      "- Overview of leading companies such as Google, Amazon, Microsoft, and IBM\n",
      "- Analysis of their contributions to AI research and development\n",
      "- Highlighting key partnerships and collaborations within the industry\n",
      "\n",
      "3. Noteworthy News in Artificial Intelligence\n",
      "- Summary of recent breakthroughs in AI technology\n",
      "- Coverage of major AI conferences, events, and announcements\n",
      "- Insights into the future of AI and potential challenges ahead\n",
      "\n",
      "Audience Analysis:\n",
      "- Target Audience: Professionals in technology, business leaders, students, and AI enthusiasts\n",
      "- Interests: Latest advancements in AI, key players in the industry, and practical applications of AI technology\n",
      "- Pain Points: Understanding complex AI concepts, staying updated on industry trends, and identifying opportunities for career growth in AI\n",
      "\n",
      "Outline:\n",
      "I. Introduction\n",
      "- Definition of Artificial Intelligence\n",
      "- Importance of AI in today's world\n",
      "\n",
      "II. Latest Trends in Artificial Intelligence\n",
      "A. Rise of machine learning and deep learning technologies\n",
      "B. Integration of AI in various industries\n",
      "C. Impact on job automation and workforce transformation\n",
      "\n",
      "III. Key Players in the AI Industry\n",
      "A. Leading companies in AI\n",
      "B. Contributions to AI research and development\n",
      "C. Partnerships and collaborations\n",
      "\n",
      "IV. Noteworthy News in Artificial Intelligence\n",
      "A. Recent breakthroughs in AI technology\n",
      "B. Major AI conferences and events\n",
      "C. Future of AI and potential challenges\n",
      "\n",
      "Call to Action:\n",
      "- Encourage readers to stay informed about the latest trends in AI\n",
      "- Invite them to explore career opportunities in the field of Artificial Intelligence\n",
      "\n",
      "SEO Keywords:\n",
      "- Artificial Intelligence trends\n",
      "- Key players in AI industry\n",
      "- Latest news in AI technology\n",
      "- Machine learning advancements\n",
      "- Deep learning applications\n",
      "- AI conferences and events\n",
      "\n",
      "Resources:\n",
      "- Industry reports from research firms like Gartner and IDC\n",
      "- Articles from reputable sources such as Forbes and TechCrunch\n",
      "- Research papers from leading AI research institutions like OpenAI and DeepMind\n",
      "\n",
      "Conclusion:\n",
      "This content plan aims to provide valuable insights into the latest trends and key players in Artificial Intelligence, catering to a diverse audience interested in the advancements and applications of AI technology. By incorporating SEO keywords and relevant resources, the blog article will offer a comprehensive overview of the dynamic AI landscape, empowering readers to make informed decisions and stay ahead in the rapidly evolving field of Artificial Intelligence.\n",
      "\n",
      "\u001b[00m\n",
      "\u001b[1m\u001b[95m [DEBUG]: == Working Agent: Content Writer\u001b[00m\n",
      "\u001b[1m\u001b[95m [INFO]: == Starting Task: 1. Use the content plan to craft a compelling blog post on Artificial Intelligence.\n",
      "2. Incorporate SEO keywords naturally.\n",
      "3. Sections/Subtitles are properly named in an engaging manner.\n",
      "4. Ensure the post is structured with an engaging introduction, insightful body, and a summarizing conclusion.\n",
      "5. Proofread for grammatical errors and alignment with the brand's voice.\n",
      "\u001b[00m\n",
      "\n",
      "\n",
      "\u001b[1m> Entering new CrewAgentExecutor chain...\u001b[0m\n",
      "\u001b[32;1m\u001b[1;3mI now can give a great answer\n",
      "\n",
      "Final Answer:\n",
      "\n",
      "# The Latest Trends and Key Players in Artificial Intelligence\n",
      "\n",
      "## Introduction\n",
      "Artificial Intelligence (AI) has become an integral part of our modern world, revolutionizing various industries and shaping the way we interact with technology. With rapid advancements and ongoing developments, AI is at the forefront of innovation, driving progress and efficiency in a wide range of applications.\n",
      "\n",
      "## Latest Trends in Artificial Intelligence\n",
      "One of the most significant trends in AI is the rise of machine learning and deep learning technologies. These technologies have enabled computers to learn from data and make intelligent decisions, leading to breakthroughs in areas such as image recognition, natural language processing, and predictive analytics. Moreover, the integration of AI in industries such as healthcare, finance, and transportation has brought about significant improvements in efficiency, accuracy, and decision-making processes. However, this integration also raises concerns about job automation and the transformation of the workforce, as AI systems increasingly take on tasks traditionally performed by humans.\n",
      "\n",
      "## Key Players in the AI Industry\n",
      "Leading companies such as Google, Amazon, Microsoft, and IBM are at the forefront of AI research and development, driving innovation and pushing the boundaries of what is possible with artificial intelligence. These companies have made significant contributions to the field, developing cutting-edge technologies and solutions that have the potential to transform industries and improve the way we live and work. Additionally, partnerships and collaborations within the industry have played a crucial role in advancing AI capabilities, enabling companies to leverage each other's strengths and resources to drive innovation and achieve common goals.\n",
      "\n",
      "## Noteworthy News in Artificial Intelligence\n",
      "Recent breakthroughs in AI technology have included advancements in areas such as autonomous vehicles, healthcare diagnostics, and personalized recommendations. Major AI conferences and events have provided platforms for researchers, industry experts, and enthusiasts to share knowledge, exchange ideas, and explore the latest trends and developments in artificial intelligence. Looking ahead, the future of AI holds immense promise, but also presents challenges such as ethical considerations, regulatory frameworks, and societal impact, which will need to be addressed as the technology continues to evolve.\n",
      "\n",
      "## Conclusion\n",
      "As AI continues to shape the future of technology and society, staying informed about the latest trends and key players in the industry is essential for professionals, business leaders, students, and enthusiasts alike. By exploring the dynamic landscape of artificial intelligence and understanding its implications for various industries and applications, readers can gain valuable insights and identify opportunities for career growth and innovation in this rapidly evolving field. I encourage you to delve deeper into the world of AI, explore its possibilities, and contribute to the exciting journey of artificial intelligence.\u001b[0m\n",
      "\n",
      "\u001b[1m> Finished chain.\u001b[0m\n",
      "\u001b[1m\u001b[92m [DEBUG]: == [Content Writer] Task output: # The Latest Trends and Key Players in Artificial Intelligence\n",
      "\n",
      "## Introduction\n",
      "Artificial Intelligence (AI) has become an integral part of our modern world, revolutionizing various industries and shaping the way we interact with technology. With rapid advancements and ongoing developments, AI is at the forefront of innovation, driving progress and efficiency in a wide range of applications.\n",
      "\n",
      "## Latest Trends in Artificial Intelligence\n",
      "One of the most significant trends in AI is the rise of machine learning and deep learning technologies. These technologies have enabled computers to learn from data and make intelligent decisions, leading to breakthroughs in areas such as image recognition, natural language processing, and predictive analytics. Moreover, the integration of AI in industries such as healthcare, finance, and transportation has brought about significant improvements in efficiency, accuracy, and decision-making processes. However, this integration also raises concerns about job automation and the transformation of the workforce, as AI systems increasingly take on tasks traditionally performed by humans.\n",
      "\n",
      "## Key Players in the AI Industry\n",
      "Leading companies such as Google, Amazon, Microsoft, and IBM are at the forefront of AI research and development, driving innovation and pushing the boundaries of what is possible with artificial intelligence. These companies have made significant contributions to the field, developing cutting-edge technologies and solutions that have the potential to transform industries and improve the way we live and work. Additionally, partnerships and collaborations within the industry have played a crucial role in advancing AI capabilities, enabling companies to leverage each other's strengths and resources to drive innovation and achieve common goals.\n",
      "\n",
      "## Noteworthy News in Artificial Intelligence\n",
      "Recent breakthroughs in AI technology have included advancements in areas such as autonomous vehicles, healthcare diagnostics, and personalized recommendations. Major AI conferences and events have provided platforms for researchers, industry experts, and enthusiasts to share knowledge, exchange ideas, and explore the latest trends and developments in artificial intelligence. Looking ahead, the future of AI holds immense promise, but also presents challenges such as ethical considerations, regulatory frameworks, and societal impact, which will need to be addressed as the technology continues to evolve.\n",
      "\n",
      "## Conclusion\n",
      "As AI continues to shape the future of technology and society, staying informed about the latest trends and key players in the industry is essential for professionals, business leaders, students, and enthusiasts alike. By exploring the dynamic landscape of artificial intelligence and understanding its implications for various industries and applications, readers can gain valuable insights and identify opportunities for career growth and innovation in this rapidly evolving field. I encourage you to delve deeper into the world of AI, explore its possibilities, and contribute to the exciting journey of artificial intelligence.\n",
      "\n",
      "\u001b[00m\n",
      "\u001b[1m\u001b[95m [DEBUG]: == Working Agent: Editor\u001b[00m\n",
      "\u001b[1m\u001b[95m [INFO]: == Starting Task: Proofread the given blog post for grammatical errors and alignment with the brand's voice.\u001b[00m\n",
      "\n",
      "\n",
      "\u001b[1m> Entering new CrewAgentExecutor chain...\u001b[0m\n"
     ]
    },
    {
     "name": "stdout",
     "output_type": "stream",
     "text": [
      "\u001b[32;1m\u001b[1;3mI now can give a great answer.\n",
      "\n",
      "Final Answer: \n",
      "\n",
      "# The Latest Trends and Key Players in Artificial Intelligence\n",
      "\n",
      "## Introduction\n",
      "Artificial Intelligence (AI) has become a fundamental component of our modern society, revolutionizing numerous industries and reshaping the way we interact with technology. With its rapid advancements and ongoing developments, AI stands at the forefront of innovation, catalyzing progress and efficiency across a wide array of applications.\n",
      "\n",
      "## Latest Trends in Artificial Intelligence\n",
      "A prominent trend in AI is the ascension of machine learning and deep learning technologies. These breakthroughs have empowered computers to learn from data and make intelligent decisions, resulting in significant advancements in areas like image recognition, natural language processing, and predictive analytics. The integration of AI in sectors such as healthcare, finance, and transportation has brought about substantial enhancements in efficiency, accuracy, and decision-making processes. Nevertheless, this integration also raises concerns about job automation and the reconfiguration of the workforce, as AI systems progressively assume responsibilities traditionally carried out by humans.\n",
      "\n",
      "## Key Players in the AI Industry\n",
      "Pioneering companies like Google, Amazon, Microsoft, and IBM are spearheading AI research and development, propelling innovation and expanding the boundaries of what is achievable with artificial intelligence. These industry leaders have made notable contributions to the field, crafting cutting-edge technologies and solutions that hold the potential to revolutionize industries and enhance the quality of our lives and work. Furthermore, partnerships and collaborations within the industry have played a pivotal role in advancing AI capabilities, enabling companies to harness one another's strengths and resources to drive innovation and attain common objectives.\n",
      "\n",
      "## Noteworthy News in Artificial Intelligence\n",
      "Recent breakthroughs in AI technology have encompassed progress in areas such as autonomous vehicles, healthcare diagnostics, and personalized recommendations. Significant AI conferences and events have provided platforms for researchers, industry experts, and enthusiasts to exchange knowledge, ideas, and explore the latest trends and developments in artificial intelligence. Looking ahead, the future of AI brims with promise, yet it also poses challenges such as ethical considerations, regulatory frameworks, and societal impact, which will necessitate attention as the technology continues to evolve.\n",
      "\n",
      "## Conclusion\n",
      "As AI continues to mold the future of technology and society, keeping abreast of the latest trends and key players in the industry is imperative for professionals, business leaders, students, and enthusiasts alike. By delving into the dynamic landscape of artificial intelligence and grasping its implications for diverse industries and applications, readers can glean valuable insights and pinpoint opportunities for career advancement and innovation in this swiftly evolving field. I urge you to delve deeper into the realm of AI, explore its possibilities, and contribute to the exhilarating odyssey of artificial intelligence.\u001b[0m\n",
      "\n",
      "\u001b[1m> Finished chain.\u001b[0m\n",
      "\u001b[1m\u001b[92m [DEBUG]: == [Editor] Task output: # The Latest Trends and Key Players in Artificial Intelligence\n",
      "\n",
      "## Introduction\n",
      "Artificial Intelligence (AI) has become a fundamental component of our modern society, revolutionizing numerous industries and reshaping the way we interact with technology. With its rapid advancements and ongoing developments, AI stands at the forefront of innovation, catalyzing progress and efficiency across a wide array of applications.\n",
      "\n",
      "## Latest Trends in Artificial Intelligence\n",
      "A prominent trend in AI is the ascension of machine learning and deep learning technologies. These breakthroughs have empowered computers to learn from data and make intelligent decisions, resulting in significant advancements in areas like image recognition, natural language processing, and predictive analytics. The integration of AI in sectors such as healthcare, finance, and transportation has brought about substantial enhancements in efficiency, accuracy, and decision-making processes. Nevertheless, this integration also raises concerns about job automation and the reconfiguration of the workforce, as AI systems progressively assume responsibilities traditionally carried out by humans.\n",
      "\n",
      "## Key Players in the AI Industry\n",
      "Pioneering companies like Google, Amazon, Microsoft, and IBM are spearheading AI research and development, propelling innovation and expanding the boundaries of what is achievable with artificial intelligence. These industry leaders have made notable contributions to the field, crafting cutting-edge technologies and solutions that hold the potential to revolutionize industries and enhance the quality of our lives and work. Furthermore, partnerships and collaborations within the industry have played a pivotal role in advancing AI capabilities, enabling companies to harness one another's strengths and resources to drive innovation and attain common objectives.\n",
      "\n",
      "## Noteworthy News in Artificial Intelligence\n",
      "Recent breakthroughs in AI technology have encompassed progress in areas such as autonomous vehicles, healthcare diagnostics, and personalized recommendations. Significant AI conferences and events have provided platforms for researchers, industry experts, and enthusiasts to exchange knowledge, ideas, and explore the latest trends and developments in artificial intelligence. Looking ahead, the future of AI brims with promise, yet it also poses challenges such as ethical considerations, regulatory frameworks, and societal impact, which will necessitate attention as the technology continues to evolve.\n",
      "\n",
      "## Conclusion\n",
      "As AI continues to mold the future of technology and society, keeping abreast of the latest trends and key players in the industry is imperative for professionals, business leaders, students, and enthusiasts alike. By delving into the dynamic landscape of artificial intelligence and grasping its implications for diverse industries and applications, readers can glean valuable insights and pinpoint opportunities for career advancement and innovation in this swiftly evolving field. I urge you to delve deeper into the realm of AI, explore its possibilities, and contribute to the exhilarating odyssey of artificial intelligence.\n",
      "\n",
      "\u001b[00m\n"
     ]
    }
   ],
   "source": [
    "result = crew.kickoff(inputs={\"topic\": \"Artificial Intelligence\"})"
   ]
  },
  {
   "cell_type": "markdown",
   "metadata": {},
   "source": [
    "- Display the results of your execution as markdown in the notebook."
   ]
  },
  {
   "cell_type": "code",
   "execution_count": 12,
   "metadata": {
    "height": 47
   },
   "outputs": [
    {
     "data": {
      "text/markdown": [
       "# The Latest Trends and Key Players in Artificial Intelligence\n",
       "\n",
       "## Introduction\n",
       "Artificial Intelligence (AI) has become a fundamental component of our modern society, revolutionizing numerous industries and reshaping the way we interact with technology. With its rapid advancements and ongoing developments, AI stands at the forefront of innovation, catalyzing progress and efficiency across a wide array of applications.\n",
       "\n",
       "## Latest Trends in Artificial Intelligence\n",
       "A prominent trend in AI is the ascension of machine learning and deep learning technologies. These breakthroughs have empowered computers to learn from data and make intelligent decisions, resulting in significant advancements in areas like image recognition, natural language processing, and predictive analytics. The integration of AI in sectors such as healthcare, finance, and transportation has brought about substantial enhancements in efficiency, accuracy, and decision-making processes. Nevertheless, this integration also raises concerns about job automation and the reconfiguration of the workforce, as AI systems progressively assume responsibilities traditionally carried out by humans.\n",
       "\n",
       "## Key Players in the AI Industry\n",
       "Pioneering companies like Google, Amazon, Microsoft, and IBM are spearheading AI research and development, propelling innovation and expanding the boundaries of what is achievable with artificial intelligence. These industry leaders have made notable contributions to the field, crafting cutting-edge technologies and solutions that hold the potential to revolutionize industries and enhance the quality of our lives and work. Furthermore, partnerships and collaborations within the industry have played a pivotal role in advancing AI capabilities, enabling companies to harness one another's strengths and resources to drive innovation and attain common objectives.\n",
       "\n",
       "## Noteworthy News in Artificial Intelligence\n",
       "Recent breakthroughs in AI technology have encompassed progress in areas such as autonomous vehicles, healthcare diagnostics, and personalized recommendations. Significant AI conferences and events have provided platforms for researchers, industry experts, and enthusiasts to exchange knowledge, ideas, and explore the latest trends and developments in artificial intelligence. Looking ahead, the future of AI brims with promise, yet it also poses challenges such as ethical considerations, regulatory frameworks, and societal impact, which will necessitate attention as the technology continues to evolve.\n",
       "\n",
       "## Conclusion\n",
       "As AI continues to mold the future of technology and society, keeping abreast of the latest trends and key players in the industry is imperative for professionals, business leaders, students, and enthusiasts alike. By delving into the dynamic landscape of artificial intelligence and grasping its implications for diverse industries and applications, readers can glean valuable insights and pinpoint opportunities for career advancement and innovation in this swiftly evolving field. I urge you to delve deeper into the realm of AI, explore its possibilities, and contribute to the exhilarating odyssey of artificial intelligence."
      ],
      "text/plain": [
       "<IPython.core.display.Markdown object>"
      ]
     },
     "execution_count": 12,
     "metadata": {},
     "output_type": "execute_result"
    }
   ],
   "source": [
    "from IPython.display import Markdown\n",
    "Markdown(result)"
   ]
  },
  {
   "cell_type": "markdown",
   "metadata": {},
   "source": [
    "## Try it Yourself\n",
    "\n",
    "- Pass in a topic of your choice and see what the agents come up with!"
   ]
  },
  {
   "cell_type": "code",
   "execution_count": 21,
   "metadata": {
    "height": 47
   },
   "outputs": [
    {
     "name": "stdout",
     "output_type": "stream",
     "text": [
      "\u001b[1m\u001b[95m [DEBUG]: == Working Agent: Content Planner\u001b[00m\n",
      "\u001b[1m\u001b[95m [INFO]: == Starting Task: 1. Prioritize the latest trends, key players, and noteworthy news on Time Travel.\n",
      "2. Identify the target audience, considering their interests and pain points.\n",
      "3. Develop a detailed content outline including an introduction, key points, and a call to action.\n",
      "4. Include SEO keywords and relevant data or sources.\u001b[00m\n",
      "\n",
      "\n",
      "\u001b[1m> Entering new CrewAgentExecutor chain...\u001b[0m\n",
      "\u001b[32;1m\u001b[1;3mI now can give a great answer\n",
      "\n",
      "Final Answer:\n",
      "\n",
      "Content Plan: \n",
      "Title: Exploring the Possibilities of Time Travel\n",
      "\n",
      "Introduction:\n",
      "- Brief explanation of the concept of time travel\n",
      "- Mention of popular culture references to time travel\n",
      "- Statement of the purpose of the article\n",
      "\n",
      "Key Points:\n",
      "1. Latest Trends in Time Travel:\n",
      "- Discussion of current scientific research and theories on time travel\n",
      "- Exploration of advancements in technology that may make time travel possible in the future\n",
      "- Examples of recent breakthroughs in the field of quantum physics related to time travel\n",
      "\n",
      "2. Key Players in Time Travel:\n",
      "- Profiles of prominent scientists and researchers in the field of time travel\n",
      "- Overview of organizations or institutions dedicated to studying time travel\n",
      "- Interviews with experts in the field to provide insights on the current state of time travel research\n",
      "\n",
      "3. Noteworthy News on Time Travel:\n",
      "- Coverage of recent events or discoveries related to time travel\n",
      "- Analysis of media coverage of time travel topics\n",
      "- Discussion of any controversies or debates surrounding the concept of time travel\n",
      "\n",
      "Target Audience:\n",
      "- Science enthusiasts interested in cutting-edge research and technology\n",
      "- Fans of science fiction and fantasy genres intrigued by the concept of time travel\n",
      "- Individuals curious about the possibilities and implications of time travel in the real world\n",
      "\n",
      "Call to Action:\n",
      "- Encourage readers to further explore the topic of time travel through recommended books, documentaries, and online resources\n",
      "- Invite readers to share their thoughts and opinions on time travel in the comments section\n",
      "- Prompt readers to stay updated on future developments in the field of time travel by subscribing to the blog or newsletter\n",
      "\n",
      "SEO Keywords:\n",
      "- Time travel, time travel research, quantum physics, time travel theories, time travel technology, time travel news, time travel experts\n",
      "\n",
      "Resources:\n",
      "1. Scientific American - www.scientificamerican.com\n",
      "2. National Geographic - www.nationalgeographic.com\n",
      "3. Popular Science - www.popsci.com\n",
      "\n",
      "Overall, this content plan aims to provide a comprehensive overview of time travel, catering to a diverse audience interested in exploring the possibilities and implications of this fascinating concept. By incorporating the latest trends, key players, and noteworthy news on time travel, this article will engage readers and empower them to make informed decisions about the topic.\u001b[0m\n",
      "\n",
      "\u001b[1m> Finished chain.\u001b[0m\n",
      "\u001b[1m\u001b[92m [DEBUG]: == [Content Planner] Task output: Content Plan: \n",
      "Title: Exploring the Possibilities of Time Travel\n",
      "\n",
      "Introduction:\n",
      "- Brief explanation of the concept of time travel\n",
      "- Mention of popular culture references to time travel\n",
      "- Statement of the purpose of the article\n",
      "\n",
      "Key Points:\n",
      "1. Latest Trends in Time Travel:\n",
      "- Discussion of current scientific research and theories on time travel\n",
      "- Exploration of advancements in technology that may make time travel possible in the future\n",
      "- Examples of recent breakthroughs in the field of quantum physics related to time travel\n",
      "\n",
      "2. Key Players in Time Travel:\n",
      "- Profiles of prominent scientists and researchers in the field of time travel\n",
      "- Overview of organizations or institutions dedicated to studying time travel\n",
      "- Interviews with experts in the field to provide insights on the current state of time travel research\n",
      "\n",
      "3. Noteworthy News on Time Travel:\n",
      "- Coverage of recent events or discoveries related to time travel\n",
      "- Analysis of media coverage of time travel topics\n",
      "- Discussion of any controversies or debates surrounding the concept of time travel\n",
      "\n",
      "Target Audience:\n",
      "- Science enthusiasts interested in cutting-edge research and technology\n",
      "- Fans of science fiction and fantasy genres intrigued by the concept of time travel\n",
      "- Individuals curious about the possibilities and implications of time travel in the real world\n",
      "\n",
      "Call to Action:\n",
      "- Encourage readers to further explore the topic of time travel through recommended books, documentaries, and online resources\n",
      "- Invite readers to share their thoughts and opinions on time travel in the comments section\n",
      "- Prompt readers to stay updated on future developments in the field of time travel by subscribing to the blog or newsletter\n",
      "\n",
      "SEO Keywords:\n",
      "- Time travel, time travel research, quantum physics, time travel theories, time travel technology, time travel news, time travel experts\n",
      "\n",
      "Resources:\n",
      "1. Scientific American - www.scientificamerican.com\n",
      "2. National Geographic - www.nationalgeographic.com\n",
      "3. Popular Science - www.popsci.com\n",
      "\n",
      "Overall, this content plan aims to provide a comprehensive overview of time travel, catering to a diverse audience interested in exploring the possibilities and implications of this fascinating concept. By incorporating the latest trends, key players, and noteworthy news on time travel, this article will engage readers and empower them to make informed decisions about the topic.\n",
      "\n",
      "\u001b[00m\n",
      "\u001b[1m\u001b[95m [DEBUG]: == Working Agent: Content Writer\u001b[00m\n",
      "\u001b[1m\u001b[95m [INFO]: == Starting Task: 1. Use the content plan to craft a compelling blog post on Time Travel.\n",
      "2. Incorporate SEO keywords naturally.\n",
      "3. Sections/Subtitles are properly named in an engaging manner.\n",
      "4. Ensure the post is structured with an engaging introduction, insightful body, and a summarizing conclusion.\n",
      "5. Proofread for grammatical errors and alignment with the brand's voice.\n",
      "\u001b[00m\n",
      "\n",
      "\n",
      "\u001b[1m> Entering new CrewAgentExecutor chain...\u001b[0m\n",
      "\u001b[32;1m\u001b[1;3mI have a solid understanding of the content plan and the key points to cover in my blog post on time travel. By incorporating the latest research, profiles of key players, and recent news on time travel, I can create an engaging and informative piece for a diverse audience.\n",
      "\n",
      "Final Answer:\n",
      "\n",
      "# Exploring the Possibilities of Time Travel\n",
      "\n",
      "## Introduction\n",
      "\n",
      "Time travel has long been a captivating concept in both scientific research and popular culture. From the iconic \"Back to the Future\" films to the intriguing theories proposed by renowned physicists, the idea of traversing through time has fascinated audiences around the world. In this article, we will delve into the latest trends, key players, and noteworthy news in the field of time travel, shedding light on the advancements and controversies surrounding this intriguing topic.\n",
      "\n",
      "## Latest Trends in Time Travel\n",
      "\n",
      "In recent years, scientific research on time travel has gained momentum, with experts exploring cutting-edge theories and technologies that may one day make time travel a reality. Advancements in quantum physics, such as the study of wormholes and black holes, have sparked new possibilities for manipulating time. Breakthroughs in quantum computing and teleportation have further pushed the boundaries of what was once deemed impossible. As we continue to unlock the mysteries of the universe, the prospect of time travel becomes increasingly plausible.\n",
      "\n",
      "## Key Players in Time Travel\n",
      "\n",
      "Prominent scientists and researchers in the field of time travel play a crucial role in shaping our understanding of this complex phenomenon. Individuals like Dr. Michio Kaku and Dr. Ronald Mallett have dedicated their careers to unraveling the mysteries of time travel, offering valuable insights and perspectives on the subject. Organizations like the Time Travel Institute and the Perimeter Institute for Theoretical Physics have provided platforms for collaboration and innovation in the field. Through interviews with these experts, we can gain a deeper understanding of the current state of time travel research and the challenges that lie ahead.\n",
      "\n",
      "## Noteworthy News on Time Travel\n",
      "\n",
      "Recent events and discoveries related to time travel have generated significant interest and debate among the scientific community and the general public. From the controversial claims of time travelers to the discovery of ancient artifacts that hint at time manipulation, the realm of time travel is rife with intrigue. Media coverage of time travel topics, both in mainstream outlets and niche publications, has further fueled discussions and speculations about the possibilities and implications of time travel in our world. By staying informed and critically analyzing these developments, we can better navigate the complexities of this fascinating subject.\n",
      "\n",
      "## Conclusion\n",
      "\n",
      "In conclusion, the concept of time travel continues to captivate our imaginations and challenge our understanding of the universe. By exploring the latest trends, key players, and noteworthy news in the field of time travel, we can expand our knowledge and appreciation for this intriguing topic. Whether you are a science enthusiast, a fan of science fiction, or simply curious about the mysteries of time, there is much to discover and discuss in the realm of time travel. As we continue to push the boundaries of scientific exploration, the possibilities of time travel may one day become a reality.\n",
      "\n",
      "Remember to always stay curious and open-minded when exploring the possibilities of time travel, and feel free to share your thoughts and opinions on this captivating subject. Thank you for joining us on this journey through the fascinating world of time travel.\u001b[0m\n",
      "\n",
      "\u001b[1m> Finished chain.\u001b[0m\n",
      "\u001b[1m\u001b[92m [DEBUG]: == [Content Writer] Task output: # Exploring the Possibilities of Time Travel\n",
      "\n",
      "## Introduction\n",
      "\n",
      "Time travel has long been a captivating concept in both scientific research and popular culture. From the iconic \"Back to the Future\" films to the intriguing theories proposed by renowned physicists, the idea of traversing through time has fascinated audiences around the world. In this article, we will delve into the latest trends, key players, and noteworthy news in the field of time travel, shedding light on the advancements and controversies surrounding this intriguing topic.\n",
      "\n",
      "## Latest Trends in Time Travel\n",
      "\n",
      "In recent years, scientific research on time travel has gained momentum, with experts exploring cutting-edge theories and technologies that may one day make time travel a reality. Advancements in quantum physics, such as the study of wormholes and black holes, have sparked new possibilities for manipulating time. Breakthroughs in quantum computing and teleportation have further pushed the boundaries of what was once deemed impossible. As we continue to unlock the mysteries of the universe, the prospect of time travel becomes increasingly plausible.\n",
      "\n",
      "## Key Players in Time Travel\n",
      "\n",
      "Prominent scientists and researchers in the field of time travel play a crucial role in shaping our understanding of this complex phenomenon. Individuals like Dr. Michio Kaku and Dr. Ronald Mallett have dedicated their careers to unraveling the mysteries of time travel, offering valuable insights and perspectives on the subject. Organizations like the Time Travel Institute and the Perimeter Institute for Theoretical Physics have provided platforms for collaboration and innovation in the field. Through interviews with these experts, we can gain a deeper understanding of the current state of time travel research and the challenges that lie ahead.\n",
      "\n",
      "## Noteworthy News on Time Travel\n",
      "\n",
      "Recent events and discoveries related to time travel have generated significant interest and debate among the scientific community and the general public. From the controversial claims of time travelers to the discovery of ancient artifacts that hint at time manipulation, the realm of time travel is rife with intrigue. Media coverage of time travel topics, both in mainstream outlets and niche publications, has further fueled discussions and speculations about the possibilities and implications of time travel in our world. By staying informed and critically analyzing these developments, we can better navigate the complexities of this fascinating subject.\n",
      "\n",
      "## Conclusion\n",
      "\n",
      "In conclusion, the concept of time travel continues to captivate our imaginations and challenge our understanding of the universe. By exploring the latest trends, key players, and noteworthy news in the field of time travel, we can expand our knowledge and appreciation for this intriguing topic. Whether you are a science enthusiast, a fan of science fiction, or simply curious about the mysteries of time, there is much to discover and discuss in the realm of time travel. As we continue to push the boundaries of scientific exploration, the possibilities of time travel may one day become a reality.\n",
      "\n",
      "Remember to always stay curious and open-minded when exploring the possibilities of time travel, and feel free to share your thoughts and opinions on this captivating subject. Thank you for joining us on this journey through the fascinating world of time travel.\n",
      "\n",
      "\u001b[00m\n",
      "\u001b[1m\u001b[95m [DEBUG]: == Working Agent: Editor\u001b[00m\n",
      "\u001b[1m\u001b[95m [INFO]: == Starting Task: Proofread the given blog post for grammatical errors and alignment with the brand's voice.\u001b[00m\n",
      "\n",
      "\n",
      "\u001b[1m> Entering new CrewAgentExecutor chain...\u001b[0m\n"
     ]
    },
    {
     "name": "stdout",
     "output_type": "stream",
     "text": [
      "\u001b[32;1m\u001b[1;3mI now can give a great answer.\n",
      "\n",
      "Final Answer:\n",
      "\n",
      "# Exploring the Possibilities of Time Travel\n",
      "\n",
      "## Introduction\n",
      "\n",
      "The concept of time travel has long been a source of fascination, captivating both scientific minds and popular culture enthusiasts alike. From the beloved \"Back to the Future\" films to the thought-provoking theories proposed by leading physicists, the idea of journeying through time has sparked curiosity worldwide. In this article, we will delve into the latest developments, influential figures, and significant news within the realm of time travel, shedding light on the advancements and debates surrounding this intriguing topic.\n",
      "\n",
      "## Latest Trends in Time Travel\n",
      "\n",
      "In recent years, scientific exploration of time travel has gained momentum, with experts delving into cutting-edge theories and technologies that hold the promise of making time travel a tangible reality. Progress in quantum physics, particularly in the study of wormholes and black holes, has opened up new avenues for manipulating time. Breakthroughs in quantum computing and teleportation have further expanded the horizons of what was once considered beyond the realm of possibility. As we continue to unravel the mysteries of the cosmos, the feasibility of time travel becomes increasingly conceivable.\n",
      "\n",
      "## Key Players in Time Travel\n",
      "\n",
      "Distinguished scientists and researchers within the field of time travel play a pivotal role in shaping our comprehension of this intricate phenomenon. Visionaries such as Dr. Michio Kaku and Dr. Ronald Mallett have devoted their expertise to unraveling the enigmas of time travel, offering valuable insights and perspectives on the subject. Institutions like the Time Travel Institute and the Perimeter Institute for Theoretical Physics have served as catalysts for collaboration and innovation in the field. Through engaging with these experts via interviews, we can gain a deeper insight into the current landscape of time travel research and the obstacles that lie ahead.\u001b[0m\n",
      "\n",
      "\u001b[1m> Finished chain.\u001b[0m\n",
      "\u001b[1m\u001b[92m [DEBUG]: == [Editor] Task output: # Exploring the Possibilities of Time Travel\n",
      "\n",
      "## Introduction\n",
      "\n",
      "The concept of time travel has long been a source of fascination, captivating both scientific minds and popular culture enthusiasts alike. From the beloved \"Back to the Future\" films to the thought-provoking theories proposed by leading physicists, the idea of journeying through time has sparked curiosity worldwide. In this article, we will delve into the latest developments, influential figures, and significant news within the realm of time travel, shedding light on the advancements and debates surrounding this intriguing topic.\n",
      "\n",
      "## Latest Trends in Time Travel\n",
      "\n",
      "In recent years, scientific exploration of time travel has gained momentum, with experts delving into cutting-edge theories and technologies that hold the promise of making time travel a tangible reality. Progress in quantum physics, particularly in the study of wormholes and black holes, has opened up new avenues for manipulating time. Breakthroughs in quantum computing and teleportation have further expanded the horizons of what was once considered beyond the realm of possibility. As we continue to unravel the mysteries of the cosmos, the feasibility of time travel becomes increasingly conceivable.\n",
      "\n",
      "## Key Players in Time Travel\n",
      "\n",
      "Distinguished scientists and researchers within the field of time travel play a pivotal role in shaping our comprehension of this intricate phenomenon. Visionaries such as Dr. Michio Kaku and Dr. Ronald Mallett have devoted their expertise to unraveling the enigmas of time travel, offering valuable insights and perspectives on the subject. Institutions like the Time Travel Institute and the Perimeter Institute for Theoretical Physics have served as catalysts for collaboration and innovation in the field. Through engaging with these experts via interviews, we can gain a deeper insight into the current landscape of time travel research and the obstacles that lie ahead.\n",
      "\n",
      "\u001b[00m\n"
     ]
    }
   ],
   "source": [
    "topic = \"Time Travel\"\n",
    "result = crew.kickoff(inputs={\"topic\": topic})"
   ]
  },
  {
   "cell_type": "code",
   "execution_count": 22,
   "metadata": {
    "height": 30
   },
   "outputs": [
    {
     "data": {
      "text/markdown": [
       "# Exploring the Possibilities of Time Travel\n",
       "\n",
       "## Introduction\n",
       "\n",
       "The concept of time travel has long been a source of fascination, captivating both scientific minds and popular culture enthusiasts alike. From the beloved \"Back to the Future\" films to the thought-provoking theories proposed by leading physicists, the idea of journeying through time has sparked curiosity worldwide. In this article, we will delve into the latest developments, influential figures, and significant news within the realm of time travel, shedding light on the advancements and debates surrounding this intriguing topic.\n",
       "\n",
       "## Latest Trends in Time Travel\n",
       "\n",
       "In recent years, scientific exploration of time travel has gained momentum, with experts delving into cutting-edge theories and technologies that hold the promise of making time travel a tangible reality. Progress in quantum physics, particularly in the study of wormholes and black holes, has opened up new avenues for manipulating time. Breakthroughs in quantum computing and teleportation have further expanded the horizons of what was once considered beyond the realm of possibility. As we continue to unravel the mysteries of the cosmos, the feasibility of time travel becomes increasingly conceivable.\n",
       "\n",
       "## Key Players in Time Travel\n",
       "\n",
       "Distinguished scientists and researchers within the field of time travel play a pivotal role in shaping our comprehension of this intricate phenomenon. Visionaries such as Dr. Michio Kaku and Dr. Ronald Mallett have devoted their expertise to unraveling the enigmas of time travel, offering valuable insights and perspectives on the subject. Institutions like the Time Travel Institute and the Perimeter Institute for Theoretical Physics have served as catalysts for collaboration and innovation in the field. Through engaging with these experts via interviews, we can gain a deeper insight into the current landscape of time travel research and the obstacles that lie ahead."
      ],
      "text/plain": [
       "<IPython.core.display.Markdown object>"
      ]
     },
     "execution_count": 22,
     "metadata": {},
     "output_type": "execute_result"
    }
   ],
   "source": [
    "Markdown(result)"
   ]
  },
  {
   "cell_type": "markdown",
   "metadata": {},
   "source": [
    "<a name='1'></a>\n",
    " ## Other Popular Models as LLM for your Agents"
   ]
  },
  {
   "cell_type": "markdown",
   "metadata": {},
   "source": [
    "#### Hugging Face (HuggingFaceHub endpoint)\n",
    "\n",
    "```Python\n",
    "from langchain_community.llms import HuggingFaceHub\n",
    "\n",
    "llm = HuggingFaceHub(\n",
    "    repo_id=\"HuggingFaceH4/zephyr-7b-beta\",\n",
    "    huggingfacehub_api_token=\"<HF_TOKEN_HERE>\",\n",
    "    task=\"text-generation\",\n",
    ")\n",
    "\n",
    "### you will pass \"llm\" to your agent function\n",
    "```"
   ]
  },
  {
   "cell_type": "markdown",
   "metadata": {},
   "source": [
    "#### Mistral API\n",
    "\n",
    "```Python\n",
    "OPENAI_API_KEY=your-mistral-api-key\n",
    "OPENAI_API_BASE=https://api.mistral.ai/v1\n",
    "OPENAI_MODEL_NAME=\"mistral-small\"\n",
    "```"
   ]
  },
  {
   "cell_type": "markdown",
   "metadata": {},
   "source": [
    "#### Cohere\n",
    "\n",
    "```Python\n",
    "from langchain_community.chat_models import ChatCohere\n",
    "# Initialize language model\n",
    "os.environ[\"COHERE_API_KEY\"] = \"your-cohere-api-key\"\n",
    "llm = ChatCohere()\n",
    "\n",
    "### you will pass \"llm\" to your agent function\n",
    "```"
   ]
  },
  {
   "cell_type": "markdown",
   "metadata": {},
   "source": [
    "### For using Llama locally with Ollama and more, checkout the crewAI documentation on [Connecting to any LLM](https://docs.crewai.com/how-to/LLM-Connections/)."
   ]
  },
  {
   "cell_type": "code",
   "execution_count": null,
   "metadata": {
    "height": 30
   },
   "outputs": [],
   "source": []
  },
  {
   "cell_type": "code",
   "execution_count": null,
   "metadata": {
    "height": 30
   },
   "outputs": [],
   "source": []
  },
  {
   "cell_type": "code",
   "execution_count": null,
   "metadata": {
    "height": 30
   },
   "outputs": [],
   "source": []
  }
 ],
 "metadata": {
  "colab": {
   "gpuType": "T4",
   "provenance": []
  },
  "kernelspec": {
   "display_name": "Python 3 (ipykernel)",
   "language": "python",
   "name": "python3"
  },
  "language_info": {
   "codemirror_mode": {
    "name": "ipython",
    "version": 3
   },
   "file_extension": ".py",
   "mimetype": "text/x-python",
   "name": "python",
   "nbconvert_exporter": "python",
   "pygments_lexer": "ipython3",
   "version": "3.11.9"
  }
 },
 "nbformat": 4,
 "nbformat_minor": 4
}
