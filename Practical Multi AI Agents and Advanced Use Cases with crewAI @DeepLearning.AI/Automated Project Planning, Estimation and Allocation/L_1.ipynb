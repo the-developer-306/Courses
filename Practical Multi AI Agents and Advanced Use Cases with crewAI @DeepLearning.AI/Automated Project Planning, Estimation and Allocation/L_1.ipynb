{
 "cells": [
  {
   "cell_type": "markdown",
   "id": "bae53a09-c04c-4916-a146-00e0bb188954",
   "metadata": {},
   "source": [
    "# L1: Automated Project: Planning, Estimation, and Allocation"
   ]
  },
  {
   "cell_type": "markdown",
   "id": "2a4058e8-a52c-4365-ac27-da08b67d7fb8",
   "metadata": {},
   "source": [
    "<p style=\"background-color:#fff6e4; padding:15px; border-width:3px; border-color:#f5ecda; border-style:solid; border-radius:6px\"> ⏳ <b>Note <code>(Kernel Starting)</code>:</b> This notebook takes about 30 seconds to be ready to use. You may start and watch the video while you wait.</p>"
   ]
  },
  {
   "cell_type": "markdown",
   "id": "30ada5b1-06ec-41e8-8f60-5e0e0d389ffb",
   "metadata": {},
   "source": [
    "## Initial Imports"
   ]
  },
  {
   "cell_type": "code",
   "execution_count": 1,
   "id": "4193708e-9802-4161-844a-735f6361e24d",
   "metadata": {
    "height": 200
   },
   "outputs": [],
   "source": [
    "# Warning control\n",
    "import warnings\n",
    "warnings.filterwarnings('ignore')\n",
    "\n",
    "# Load environment variables\n",
    "from helper import load_env\n",
    "load_env()\n",
    "\n",
    "import os\n",
    "import yaml\n",
    "from crewai import Agent, Task, Crew"
   ]
  },
  {
   "cell_type": "markdown",
   "id": "66752d49-82ae-4b58-b76b-fc57c6b5f23e",
   "metadata": {},
   "source": [
    "<p style=\"background-color:#fff6ff; padding:15px; border-width:3px; border-color:#efe6ef; border-style:solid; border-radius:6px\"> 💻 &nbsp; <b>Access <code>requirements.txt</code> and <code>helper.py</code> files:</b> 1) click on the <em>\"File\"</em> option on the top menu of the notebook and then 2) click on <em>\"Open\"</em>. For more help, please see the <em>\"Appendix - Tips and Help\"</em> Lesson.</p>"
   ]
  },
  {
   "cell_type": "markdown",
   "id": "b930b575-a2d5-467b-878f-de78e10b6ba5",
   "metadata": {},
   "source": [
    "## Set OpenAI Model"
   ]
  },
  {
   "cell_type": "code",
   "execution_count": 2,
   "id": "91cb8100-3058-4cdc-969b-c64a46a408e4",
   "metadata": {
    "height": 30
   },
   "outputs": [],
   "source": [
    "os.environ['OPENAI_MODEL_NAME'] = 'gpt-4o-mini'"
   ]
  },
  {
   "cell_type": "markdown",
   "id": "96b83836-9ccb-47d7-a97b-9a68aebfaa42",
   "metadata": {},
   "source": [
    "## Loading Tasks and Agents YAML files"
   ]
  },
  {
   "cell_type": "code",
   "execution_count": 3,
   "id": "5a4e362d-c010-43dd-88c4-e7db87834fb4",
   "metadata": {
    "height": 268
   },
   "outputs": [],
   "source": [
    "# Define file paths for YAML configurations\n",
    "files = {\n",
    "    'agents': 'config/agents.yaml',\n",
    "    'tasks': 'config/tasks.yaml'\n",
    "}\n",
    "\n",
    "# Load configurations from YAML files\n",
    "configs = {}\n",
    "for config_type, file_path in files.items():\n",
    "    with open(file_path, 'r') as file:\n",
    "        configs[config_type] = yaml.safe_load(file)\n",
    "\n",
    "# Assign loaded configurations to specific variables\n",
    "agents_config = configs['agents']\n",
    "tasks_config = configs['tasks']"
   ]
  },
  {
   "cell_type": "markdown",
   "id": "c5f50c89-a326-4e4c-93a1-79be3fcda14b",
   "metadata": {},
   "source": [
    "## Create Pydantic Models for Structured Output"
   ]
  },
  {
   "cell_type": "code",
   "execution_count": 4,
   "id": "0e8626d2-e48a-4b7e-a061-a8eb492c9036",
   "metadata": {
    "height": 285
   },
   "outputs": [],
   "source": [
    "from typing import List\n",
    "from pydantic import BaseModel, Field\n",
    "\n",
    "class TaskEstimate(BaseModel):\n",
    "    task_name: str = Field(..., description=\"Name of the task\")\n",
    "    estimated_time_hours: float = Field(..., description=\"Estimated time to complete the task in hours\")\n",
    "    required_resources: List[str] = Field(..., description=\"List of resources required to complete the task\")\n",
    "\n",
    "class Milestone(BaseModel):\n",
    "    milestone_name: str = Field(..., description=\"Name of the milestone\")\n",
    "    tasks: List[str] = Field(..., description=\"List of task IDs associated with this milestone\")\n",
    "\n",
    "class ProjectPlan(BaseModel):\n",
    "    tasks: List[TaskEstimate] = Field(..., description=\"List of tasks with their estimates\")\n",
    "    milestones: List[Milestone] = Field(..., description=\"List of project milestones\")"
   ]
  },
  {
   "cell_type": "markdown",
   "id": "92d6524c-48e7-460e-8345-3b7a872b714a",
   "metadata": {},
   "source": [
    "## Create Crew, Agents and Tasks"
   ]
  },
  {
   "cell_type": "code",
   "execution_count": 5,
   "id": "a655927f-c10c-4c06-852a-d9c96fdfbfb9",
   "metadata": {
    "height": 778
   },
   "outputs": [],
   "source": [
    "# Creating Agents\n",
    "project_planning_agent = Agent(\n",
    "  config=agents_config['project_planning_agent']\n",
    ")\n",
    "\n",
    "estimation_agent = Agent(\n",
    "  config=agents_config['estimation_agent']\n",
    ")\n",
    "\n",
    "resource_allocation_agent = Agent(\n",
    "  config=agents_config['resource_allocation_agent']\n",
    ")\n",
    "\n",
    "# Creating Tasks\n",
    "task_breakdown = Task(\n",
    "  config=tasks_config['task_breakdown'],\n",
    "  agent=project_planning_agent\n",
    ")\n",
    "\n",
    "time_resource_estimation = Task(\n",
    "  config=tasks_config['time_resource_estimation'],\n",
    "  agent=estimation_agent\n",
    ")\n",
    "\n",
    "resource_allocation = Task(\n",
    "  config=tasks_config['resource_allocation'],\n",
    "  agent=resource_allocation_agent,\n",
    "  output_pydantic=ProjectPlan # This is the structured output we want\n",
    ")\n",
    "\n",
    "# Creating Crew\n",
    "crew = Crew(\n",
    "  agents=[\n",
    "    project_planning_agent,\n",
    "    estimation_agent,\n",
    "    resource_allocation_agent\n",
    "  ],\n",
    "  tasks=[\n",
    "    task_breakdown,\n",
    "    time_resource_estimation,\n",
    "    resource_allocation\n",
    "  ],\n",
    "  verbose=True\n",
    ")"
   ]
  },
  {
   "cell_type": "markdown",
   "id": "51b901cf-3630-4662-81a7-762da6773d3b",
   "metadata": {},
   "source": [
    "## Crew's Inputs"
   ]
  },
  {
   "cell_type": "code",
   "execution_count": 6,
   "id": "9e861574-0f9b-4f2c-b2d1-a230fc3a53a3",
   "metadata": {
    "height": 710
   },
   "outputs": [
    {
     "data": {
      "text/markdown": [
       "\n",
       "**Project Type:** Website\n",
       "\n",
       "**Project Objectives:** Create a website for a small business\n",
       "\n",
       "**Industry:** Technology\n",
       "\n",
       "**Team Members:**\n",
       "\n",
       "- John Doe (Project Manager)\n",
       "- Jane Doe (Software Engineer)\n",
       "- Bob Smith (Designer)\n",
       "- Alice Johnson (QA Engineer)\n",
       "- Tom Brown (QA Engineer)\n",
       "\n",
       "**Project Requirements:**\n",
       "\n",
       "- Create a responsive design that works well on desktop and mobile devices\n",
       "- Implement a modern, visually appealing user interface with a clean look\n",
       "- Develop a user-friendly navigation system with intuitive menu structure\n",
       "- Include an \"About Us\" page highlighting the company's history and values\n",
       "- Design a \"Services\" page showcasing the business's offerings with descriptions\n",
       "- Create a \"Contact Us\" page with a form and integrated map for communication\n",
       "- Implement a blog section for sharing industry news and company updates\n",
       "- Ensure fast loading times and optimize for search engines (SEO)\n",
       "- Integrate social media links and sharing capabilities\n",
       "- Include a testimonials section to showcase customer feedback and build trust\n",
       "\n"
      ],
      "text/plain": [
       "<IPython.core.display.Markdown object>"
      ]
     },
     "metadata": {},
     "output_type": "display_data"
    }
   ],
   "source": [
    "from IPython.display import display, Markdown\n",
    "\n",
    "project = 'Website'\n",
    "industry = 'Technology'\n",
    "project_objectives = 'Create a website for a small business'\n",
    "team_members = \"\"\"\n",
    "- John Doe (Project Manager)\n",
    "- Jane Doe (Software Engineer)\n",
    "- Bob Smith (Designer)\n",
    "- Alice Johnson (QA Engineer)\n",
    "- Tom Brown (QA Engineer)\n",
    "\"\"\"\n",
    "project_requirements = \"\"\"\n",
    "- Create a responsive design that works well on desktop and mobile devices\n",
    "- Implement a modern, visually appealing user interface with a clean look\n",
    "- Develop a user-friendly navigation system with intuitive menu structure\n",
    "- Include an \"About Us\" page highlighting the company's history and values\n",
    "- Design a \"Services\" page showcasing the business's offerings with descriptions\n",
    "- Create a \"Contact Us\" page with a form and integrated map for communication\n",
    "- Implement a blog section for sharing industry news and company updates\n",
    "- Ensure fast loading times and optimize for search engines (SEO)\n",
    "- Integrate social media links and sharing capabilities\n",
    "- Include a testimonials section to showcase customer feedback and build trust\n",
    "\"\"\"\n",
    "\n",
    "# Format the dictionary as Markdown for a better display in Jupyter Lab\n",
    "formatted_output = f\"\"\"\n",
    "**Project Type:** {project}\n",
    "\n",
    "**Project Objectives:** {project_objectives}\n",
    "\n",
    "**Industry:** {industry}\n",
    "\n",
    "**Team Members:**\n",
    "{team_members}\n",
    "**Project Requirements:**\n",
    "{project_requirements}\n",
    "\"\"\"\n",
    "# Display the formatted output as Markdown\n",
    "display(Markdown(formatted_output))"
   ]
  },
  {
   "cell_type": "markdown",
   "id": "15198e13-e9ec-44d8-b15e-c97b7b7320bb",
   "metadata": {},
   "source": [
    "## Kicking off the crew"
   ]
  },
  {
   "cell_type": "code",
   "execution_count": 7,
   "id": "fa40b53e-0a49-4198-a263-c79a6a3af603",
   "metadata": {
    "height": 234
   },
   "outputs": [
    {
     "name": "stdout",
     "output_type": "stream",
     "text": [
      "\u001b[1m\u001b[95m# Agent:\u001b[00m \u001b[1m\u001b[92mThe Ultimate Project Planner\u001b[00m\n",
      "\u001b[95m## Task:\u001b[00m \u001b[92mCarefully analyze the project_requirements for the Website project and break them down into individual tasks. Define each task's scope in detail, set achievable timelines, and ensure that all dependencies are accounted for:\n",
      "\n",
      "- Create a responsive design that works well on desktop and mobile devices\n",
      "- Implement a modern, visually appealing user interface with a clean look\n",
      "- Develop a user-friendly navigation system with intuitive menu structure\n",
      "- Include an \"About Us\" page highlighting the company's history and values\n",
      "- Design a \"Services\" page showcasing the business's offerings with descriptions\n",
      "- Create a \"Contact Us\" page with a form and integrated map for communication\n",
      "- Implement a blog section for sharing industry news and company updates\n",
      "- Ensure fast loading times and optimize for search engines (SEO)\n",
      "- Integrate social media links and sharing capabilities\n",
      "- Include a testimonials section to showcase customer feedback and build trust\n",
      "\n",
      "\n",
      "Team members:\n",
      "\n",
      "- John Doe (Project Manager)\n",
      "- Jane Doe (Software Engineer)\n",
      "- Bob Smith (Designer)\n",
      "- Alice Johnson (QA Engineer)\n",
      "- Tom Brown (QA Engineer)\n",
      "\n",
      "\u001b[00m\n",
      "\n",
      "\n",
      "\u001b[1m\u001b[95m# Agent:\u001b[00m \u001b[1m\u001b[92mThe Ultimate Project Planner\u001b[00m\n",
      "\u001b[95m## Final Answer:\u001b[00m \u001b[92m\n",
      "### Comprehensive Breakdown of Website Project Tasks\n",
      "\n",
      "#### Project Overview\n",
      "The goal of this project is to create a professional website for a small business, ensuring a responsive, user-friendly, and appealing design that showcases the business effectively while optimizing for performance and search engine visibility.\n",
      "\n",
      "### Task Breakdown\n",
      "\n",
      "1. **Create Responsive Design**\n",
      "   - **Description:** Design a layout that adjusts seamlessly to various screen sizes (desktop, tablet, mobile).\n",
      "   - **Scope:** \n",
      "      - Research best practices in responsive design.\n",
      "      - Develop wireframes and prototypes for mobile-friendliness.\n",
      "   - **Team Lead:** Bob Smith\n",
      "   - **Duration:** 2 weeks (Start: Week 1, End: Week 2)\n",
      "   - **Dependencies:** None\n",
      "   - **Deliverable:** Responsive design mockups.\n",
      "\n",
      "2. **Implement User Interface**\n",
      "   - **Description:** Develop a modern user interface that is visually appealing and has a clean look.\n",
      "   - **Scope:**\n",
      "      - Select color schemes, fonts, and design elements.\n",
      "      - Ensure consistency across all pages.\n",
      "   - **Team Lead:** Bob Smith\n",
      "   - **Duration:** 3 weeks (Start: Week 3, End: Week 5)\n",
      "   - **Dependencies:** Completion of responsive design task.\n",
      "   - **Deliverable:** UI components ready for implementation.\n",
      "\n",
      "3. **Develop User-Friendly Navigation System**\n",
      "   - **Description:** Create a simple, intuitive navigation menu for the site.\n",
      "   - **Scope:**\n",
      "      - Conduct usability testing on navigation structure.\n",
      "      - Design and develop dropdown menus/sub-menu items.\n",
      "   - **Team Lead:** Jane Doe\n",
      "   - **Duration:** 2 weeks (Start: Week 6, End: Week 7)\n",
      "   - **Dependencies:** Completion of UI task.\n",
      "   - **Deliverable:** Functional navigation system.\n",
      "\n",
      "4. **Create \"About Us\" Page**\n",
      "   - **Description:** Highlight the company's history, mission, and values.\n",
      "   - **Scope:**\n",
      "      - Gather and finalize content from stakeholders.\n",
      "      - Design the layout and presentation of the page.\n",
      "   - **Team Lead:** Bob Smith\n",
      "   - **Duration:** 1 week (Start: Week 8, End: Week 8)\n",
      "   - **Dependencies:** None\n",
      "   - **Deliverable:** Complete \"About Us\" page.\n",
      "\n",
      "5. **Design \"Services\" Page**\n",
      "   - **Description:** Showcase business offerings with detailed descriptions.\n",
      "   - **Scope:**\n",
      "      - Collaborate with the business to draft service descriptions.\n",
      "      - Create layout and visuals for each service.\n",
      "   - **Team Lead:** Bob Smith\n",
      "   - **Duration:** 1 week (Start: Week 9, End: Week 9)\n",
      "   - **Dependencies:** None\n",
      "   - **Deliverable:** Complete \"Services\" page.\n",
      "\n",
      "6. **Create \"Contact Us\" Page**\n",
      "   - **Description:** Include a contact form and an integrated map for user convenience.\n",
      "   - **Scope:**\n",
      "      - Implement the contact form and integrate with email service.\n",
      "      - Embed a Google Map for the business location.\n",
      "   - **Team Lead:** Jane Doe\n",
      "   - **Duration:** 1 week (Start: Week 10, End: Week 10)\n",
      "   - **Dependencies:** None\n",
      "   - **Deliverable:** Complete \"Contact Us\" page.\n",
      "\n",
      "7. **Implement Blog Section**\n",
      "   - **Description:** Set up a blog for sharing industry news and company updates.\n",
      "   - **Scope:**\n",
      "      - Develop a content management system for blog posts.\n",
      "      - Create layouts for blog listings and individual posts.\n",
      "   - **Team Lead:** Jane Doe\n",
      "   - **Duration:** 2 weeks (Start: Week 11, End: Week 12)\n",
      "   - **Dependencies:** Completion of the UI task.\n",
      "   - **Deliverable:** Functional blog section.\n",
      "\n",
      "8. **Optimize for SEO and Loading Times**\n",
      "   - **Description:** Ensure fast loading times and adequate search engine optimization.\n",
      "   - **Scope:**\n",
      "      - Conduct performance assessments using tools (e.g., Google PageSpeed Insights).\n",
      "      - Implement proper metadata, alt text, and sitemap creation.\n",
      "   - **Team Lead:** Jane Doe\n",
      "   - **Duration:** 2 weeks (Start: Week 13, End: Week 14)\n",
      "   - **Dependencies:** Completion of all page designs.\n",
      "   - **Deliverable:** Optimized website.\n",
      "\n",
      "9. **Integrate Social Media Links**\n",
      "   - **Description:** Add social media buttons and sharing capabilities on relevant pages.\n",
      "   - **Scope:**\n",
      "      - Configure links that point to business’ social media profiles.\n",
      "      - Develop sharing functionality for blog articles and services.\n",
      "   - **Team Lead:** Jane Doe\n",
      "   - **Duration:** 1 week (Start: Week 15, End: Week 15)\n",
      "   - **Dependencies:** Completion of the blog section.\n",
      "   - **Deliverable:** Social media integration.\n",
      "\n",
      "10. **Include Testimonials Section**\n",
      "    - **Description:** Gather customer feedback and display it on a dedicated section.\n",
      "    - **Scope:**\n",
      "       - Collect testimonials from existing customers.\n",
      "       - Design and implement a visually appealing format for display.\n",
      "    - **Team Lead:** Bob Smith\n",
      "    - **Duration:** 1 week (Start: Week 16, End: Week 16)\n",
      "    - **Dependencies:** None\n",
      "    - **Deliverable:** Complete testimonials section.\n",
      "\n",
      "### Gantt Chart Timeline\n",
      "\n",
      "```plaintext\n",
      "| Week       | 1 | 2 | 3 | 4 | 5 | 6 | 7 | 8 | 9 | 10 | 11 | 12 | 13 | 14 | 15 | 16 |\n",
      "|------------|---|---|---|---|---|---|---|---|---|----|----|----|----|----|----|----|\n",
      "| Responsive | X | X |   |   |   |   |   |   |   |    |    |    |    |    |    |    |\n",
      "| UI         |   |   | X | X | X |   |   |   |   |    |    |    |    |    |    |    |\n",
      "| Navigation  |   |   |   |   |   | X | X |   |   |    |    |    |    |    |    |    |\n",
      "| About Us   |   |   |   |   |   |   |   | X |   |    |    |    |    |    |    |    |\n",
      "| Services   |   |   |   |   |   |   |   |   | X |    |    |    |    |    |    |    |\n",
      "| Contact Us |   |   |   |   |   |   |   |   |   | X  |    |    |    |    |    |    |\n",
      "| Blog       |   |   |   |   |   |   |   |   |   |    | X  | X  |    |    |    |    |\n",
      "| SEO        |   |   |   |   |   |   |   |   |   |    |    |    | X  | X  |    |    |\n",
      "| Social Media|  |   |   |   |   |   |   |   |   |    |    |    |    |    | X  |    |\n",
      "| Testimonials|  |   |   |   |   |   |   |   |   |    |    |    |    |    |    | X  |\n",
      "```\n",
      "\n",
      "### Conclusion\n",
      "This project plan outlines a structured approach to delivering a comprehensive, user-friendly, and highly functional small business website. Each task has been methodically laid out with clear dependencies and timelines to ensure timely completion and optimal performance post-launch. All components have been strategically targeted to meet the business objectives and enhance customer engagement.\u001b[00m\n",
      "\n",
      "\n",
      "\u001b[1m\u001b[95m# Agent:\u001b[00m \u001b[1m\u001b[92mExpert Estimation Analyst\u001b[00m\n",
      "\u001b[95m## Task:\u001b[00m \u001b[92mThoroughly evaluate each task in the Website project to estimate the time, resources, and effort required. Use historical data, task complexity, and available resources to provide a realistic estimation for each task.\n",
      "\u001b[00m\n",
      "\n",
      "\n",
      "\u001b[1m\u001b[95m# Agent:\u001b[00m \u001b[1m\u001b[92mExpert Estimation Analyst\u001b[00m\n",
      "\u001b[95m## Final Answer:\u001b[00m \u001b[92m\n",
      "### Detailed Estimation Report for Website Project\n",
      "\n",
      "#### Overview of the Project Tasks\n",
      "\n",
      "Below is a thorough evaluation of each task involved in the website project. Estimations regarding time, resources, and effort are provided, supplemented by potential risks and uncertainties associated with each task.\n",
      "\n",
      "---\n",
      "\n",
      "1. **Create Responsive Design**\n",
      "   - **Duration:** 2 weeks\n",
      "   - **Resources Required:** \n",
      "     - 1 UI/UX Designer (Bob Smith)\n",
      "     - Design tools (e.g., Figma, Adobe XD)\n",
      "   - **Effort:** 80 hours\n",
      "   - **Risks:** Potential delays in gathering stakeholder input on design preferences.\n",
      "\n",
      "2. **Implement User Interface**\n",
      "   - **Duration:** 3 weeks\n",
      "   - **Resources Required:** \n",
      "     - 1 UI/UX Designer (Bob Smith)\n",
      "     - 1 Frontend Developer\n",
      "     - Coding frameworks (e.g., React, Bootstrap)\n",
      "   - **Effort:** 120 hours\n",
      "   - **Risks:** Changes in design requirements after development begins may lead to additional backtracking.\n",
      "\n",
      "3. **Develop User-Friendly Navigation System**\n",
      "   - **Duration:** 2 weeks\n",
      "   - **Resources Required:** \n",
      "     - 1 UX Designer (Jane Doe)\n",
      "     - 1 Frontend Developer\n",
      "   - **Effort:** 80 hours\n",
      "   - **Risks:** Usability testing may indicate required changes which could cause schedule shifts.\n",
      "\n",
      "4. **Create \"About Us\" Page**\n",
      "   - **Duration:** 1 week\n",
      "   - **Resources Required:** \n",
      "     - 1 Content Writer\n",
      "     - 1 UI/UX Designer (Bob Smith)\n",
      "   - **Effort:** 40 hours\n",
      "   - **Risks:** Difficulty in gathering accurate history and values from stakeholders can lead to delays.\n",
      "\n",
      "5. **Design \"Services\" Page**\n",
      "   - **Duration:** 1 week\n",
      "   - **Resources Required:** \n",
      "     - 1 Content Writer\n",
      "     - 1 UI/UX Designer (Bob Smith)\n",
      "   - **Effort:** 40 hours\n",
      "   - **Risks:** Unclear service offerings can cause confusion and additional rounds of revisions.\n",
      "\n",
      "6. **Create \"Contact Us\" Page**\n",
      "   - **Duration:** 1 week\n",
      "   - **Resources Required:** \n",
      "     - 1 Web Developer (Jane Doe)\n",
      "     - API access for Google Maps\n",
      "   - **Effort:** 40 hours\n",
      "   - **Risks:** Issues with email service integration could delay form functionality.\n",
      "\n",
      "7. **Implement Blog Section**\n",
      "   - **Duration:** 2 weeks\n",
      "   - **Resources Required:** \n",
      "     - 1 Web Developer (Jane Doe)\n",
      "     - CMS implementation tools (e.g., WordPress)\n",
      "   - **Effort:** 80 hours\n",
      "   - **Risks:** Technical difficulties in setting up a CMS or integrating it with existing site could arise.\n",
      "\n",
      "8. **Optimize for SEO and Loading Times**\n",
      "   - **Duration:** 2 weeks\n",
      "   - **Resources Required:** \n",
      "     - 1 SEO Specialist (Jane Doe)\n",
      "     - Performance testing tools (e.g., GTmetrix, Google PageSpeed Insights)\n",
      "   - **Effort:** 80 hours\n",
      "   - **Risks:** Underestimating the complexity of SEO practices may falter the implementation phase.\n",
      "\n",
      "9. **Integrate Social Media Links**\n",
      "   - **Duration:** 1 week\n",
      "   - **Resources Required:** \n",
      "     - 1 Web Developer (Jane Doe)\n",
      "   - **Effort:** 20 hours\n",
      "   - **Risks:** Requirement changes on social media platforms could affect integration techniques.\n",
      "\n",
      "10. **Include Testimonials Section**\n",
      "    - **Duration:** 1 week\n",
      "    - **Resources Required:** \n",
      "      - 1 UI/UX Designer (Bob Smith)\n",
      "      - 1 Content Writer\n",
      "   - **Effort:** 40 hours\n",
      "   - **Risks:** Delays in collecting testimonials from clients could postpone this task.\n",
      "\n",
      "---\n",
      "\n",
      "### Summary of Risks and Uncertainties\n",
      "- Managing stakeholder expectations and timelines is critical; any miscommunication may lead to project overruns.\n",
      "- Design modifications may arise during development, leading to potential rework.\n",
      "- Reliance on third-party services (SEO tools, social media) may introduce unforeseen delays or complications.\n",
      "- Data collection for content pages can be contingent on stakeholder schedules and availability.\n",
      "\n",
      "### Overall Estimation Summary\n",
      "In total, the project will require approximately **580 hours** across **16 weeks**, accounting for design, development, testing, and revisions. By maintaining ongoing communication and setting clear project milestones, potential risks can be mitigated to ensure the successful and timely launch of the small business website.\n",
      "\n",
      "By implementing this estimation plan, we can navigate through the complexities of the project with a clear understanding of resource needs and constraints, ensuring delivery on time and within budget.\u001b[00m\n",
      "\n",
      "\n",
      "\u001b[1m\u001b[95m# Agent:\u001b[00m \u001b[1m\u001b[92mResource Allocation Strategist\u001b[00m\n",
      "\u001b[95m## Task:\u001b[00m \u001b[92mStrategically allocate tasks for the Website project to team members based on their skills, availability, and current workload. Ensure that each task is assigned to the most suitable team member and that the workload is evenly distributed.\n",
      "\n",
      "Team members:\n",
      "\n",
      "- John Doe (Project Manager)\n",
      "- Jane Doe (Software Engineer)\n",
      "- Bob Smith (Designer)\n",
      "- Alice Johnson (QA Engineer)\n",
      "- Tom Brown (QA Engineer)\n",
      "\n",
      "\u001b[00m\n",
      "\n",
      "\n",
      "\u001b[1m\u001b[95m# Agent:\u001b[00m \u001b[1m\u001b[92mResource Allocation Strategist\u001b[00m\n",
      "\u001b[95m## Final Answer:\u001b[00m \u001b[92m\n",
      "### Resource Allocation Chart for Website Project\n",
      "\n",
      "| Task                                    | Team Member    | Start Date  | End Date    | Hours  |\n",
      "|-----------------------------------------|----------------|-------------|-------------|--------|\n",
      "| Create Responsive Design                | Bob Smith      | 01-01-2024  | 01-14-2024  | 80     |\n",
      "| Implement User Interface                | Bob Smith, Jane Doe | 01-15-2024  | 02-04-2024  | 120    |\n",
      "| Develop User-Friendly Navigation System  | Jane Doe       | 01-15-2024  | 01-28-2024  | 80     |\n",
      "| Create \"About Us\" Page                 | Bob Smith      | 02-05-2024  | 02-11-2024  | 40     |\n",
      "| Design \"Services\" Page                 | Bob Smith      | 02-12-2024  | 02-18-2024  | 40     |\n",
      "| Create \"Contact Us\" Page               | Jane Doe       | 02-19-2024  | 02-25-2024  | 40     |\n",
      "| Implement Blog Section                  | Jane Doe       | 02-26-2024  | 03-10-2024  | 80     |\n",
      "| Optimize for SEO and Loading Times      | Jane Doe       | 03-11-2024  | 03-24-2024  | 80     |\n",
      "| Integrate Social Media Links            | Jane Doe       | 03-25-2024  | 03-31-2024  | 20     |\n",
      "| Include Testimonials Section             | Bob Smith      | 04-01-2024  | 04-07-2024  | 40     |\n",
      "\n",
      "### Rationale Behind Allocation Decisions:\n",
      "\n",
      "1. **Create Responsive Design**: Bob Smith, as the UI/UX Designer, is best suited for creating responsive designs given his expertise in user-centered design principles. The task duration of 2 weeks aligns with his availability.\n",
      "\n",
      "2. **Implement User Interface**: This task requires both design and development skills. Bob Smith and Jane Doe are allocated to ensure a smooth handoff from design to development, thus capitalizing on Bob's design knowledge and Jane's development skills. It spans 3 weeks to accommodate complexity.\n",
      "\n",
      "3. **Develop User-Friendly Navigation System**: Jane Doe, with her dual experience in software engineering and design, is assigned to this task. The 2-week duration supports the potential iterations post-usability testing.\n",
      "\n",
      "4. **Create \"About Us\" Page**: Bob Smith is designated for this task as it requires not only design skills but also a close interaction with content writers, leveraging Bob’s experience in creating engaging designs.\n",
      "\n",
      "5. **Design \"Services\" Page**: Continuing with Bob Smith, this task directly follows the \"About Us\" Page, allowing him to remain in the design flow without interrupting his schedules. This task will last 1 week.\n",
      "\n",
      "6. **Create \"Contact Us\" Page**: Jane Doe is assigned this task to utilize her technical skills in web development alongside the necessary API integration. The task is also planned for 1 week.\n",
      "\n",
      "7. **Implement Blog Section**: Jane Doe is predicted to have a good balance of work after the \"Contact Us\" page. This 2-week assignment allows her to set up the necessary features while integrating the CMS. \n",
      "\n",
      "8. **Optimize for SEO and Loading Times**: Jane Doe will also handle SEO optimizations, which might depend on previous content integrations and website performance post-implementation. Scheduling this task consecutively after the blog section allows her to efficiently transition.\n",
      "\n",
      "9. **Integrate Social Media Links**: A quick assignment of 1 week for Jane Doe, who is consistent in her development role, will optimize social media functions effectively following previous tasks.\n",
      "\n",
      "10. **Include Testimonials Section**: Bob Smith is assigned this task, which requires design input and collaboration with content writers to gather testimonials effectively. This scheduling allows for a focused workload toward the end of the project. \n",
      "\n",
      "This allocation ensures that team members are neither overburdened nor underutilized while balancing their current workloads based on availability and skills relevant to each task. By adhering to this structured approach, we encourage consistent communication and successful project completion within the established timeline.\u001b[00m\n",
      "\n",
      "\n"
     ]
    }
   ],
   "source": [
    "# The given Python dictionary\n",
    "inputs = {\n",
    "  'project_type': project,\n",
    "  'project_objectives': project_objectives,\n",
    "  'industry': industry,\n",
    "  'team_members': team_members,\n",
    "  'project_requirements': project_requirements\n",
    "}\n",
    "\n",
    "# Run the crew\n",
    "result = crew.kickoff(\n",
    "  inputs=inputs\n",
    ")"
   ]
  },
  {
   "cell_type": "markdown",
   "id": "7879258f-52df-4503-b08e-acd516d0a946",
   "metadata": {},
   "source": [
    "## Usage Metrics and Costs"
   ]
  },
  {
   "cell_type": "markdown",
   "id": "d94dad33-91c9-4aac-8e16-24117dbbef46",
   "metadata": {},
   "source": [
    "Let’s see how much it would cost each time if this crew runs at scale."
   ]
  },
  {
   "cell_type": "code",
   "execution_count": 8,
   "id": "66b3b165-2a4b-46cc-93f7-696dffff1e10",
   "metadata": {
    "height": 166
   },
   "outputs": [
    {
     "name": "stdout",
     "output_type": "stream",
     "text": [
      "Total costs: $0.0029\n"
     ]
    },
    {
     "data": {
      "text/html": [
       "<div>\n",
       "<style scoped>\n",
       "    .dataframe tbody tr th:only-of-type {\n",
       "        vertical-align: middle;\n",
       "    }\n",
       "\n",
       "    .dataframe tbody tr th {\n",
       "        vertical-align: top;\n",
       "    }\n",
       "\n",
       "    .dataframe thead th {\n",
       "        text-align: right;\n",
       "    }\n",
       "</style>\n",
       "<table border=\"1\" class=\"dataframe\">\n",
       "  <thead>\n",
       "    <tr style=\"text-align: right;\">\n",
       "      <th></th>\n",
       "      <th>total_tokens</th>\n",
       "      <th>prompt_tokens</th>\n",
       "      <th>completion_tokens</th>\n",
       "      <th>successful_requests</th>\n",
       "    </tr>\n",
       "  </thead>\n",
       "  <tbody>\n",
       "    <tr>\n",
       "      <th>0</th>\n",
       "      <td>19064</td>\n",
       "      <td>11796</td>\n",
       "      <td>7268</td>\n",
       "      <td>9</td>\n",
       "    </tr>\n",
       "  </tbody>\n",
       "</table>\n",
       "</div>"
      ],
      "text/plain": [
       "   total_tokens  prompt_tokens  completion_tokens  successful_requests\n",
       "0         19064          11796               7268                    9"
      ]
     },
     "execution_count": 8,
     "metadata": {},
     "output_type": "execute_result"
    }
   ],
   "source": [
    "import pandas as pd\n",
    "\n",
    "costs = 0.150 * (crew.usage_metrics.prompt_tokens + crew.usage_metrics.completion_tokens) / 1_000_000\n",
    "print(f\"Total costs: ${costs:.4f}\")\n",
    "\n",
    "# Convert UsageMetrics instance to a DataFrame\n",
    "df_usage_metrics = pd.DataFrame([crew.usage_metrics.dict()])\n",
    "df_usage_metrics"
   ]
  },
  {
   "cell_type": "markdown",
   "id": "4982e83a-9e54-4510-9f06-751b34848287",
   "metadata": {},
   "source": [
    "## Result"
   ]
  },
  {
   "cell_type": "code",
   "execution_count": 9,
   "id": "6396b0f6-e3ae-4a89-a3e9-ca53aa042c40",
   "metadata": {
    "height": 30
   },
   "outputs": [
    {
     "data": {
      "text/plain": [
       "{'tasks': [{'task_name': 'Create Responsive Design',\n",
       "   'estimated_time_hours': 80.0,\n",
       "   'required_resources': ['Bob Smith']},\n",
       "  {'task_name': 'Implement User Interface',\n",
       "   'estimated_time_hours': 120.0,\n",
       "   'required_resources': ['Bob Smith', 'Jane Doe']},\n",
       "  {'task_name': 'Develop User-Friendly Navigation System',\n",
       "   'estimated_time_hours': 80.0,\n",
       "   'required_resources': ['Jane Doe']},\n",
       "  {'task_name': 'Create \"About Us\" Page',\n",
       "   'estimated_time_hours': 40.0,\n",
       "   'required_resources': ['Bob Smith']},\n",
       "  {'task_name': 'Design \"Services\" Page',\n",
       "   'estimated_time_hours': 40.0,\n",
       "   'required_resources': ['Bob Smith']},\n",
       "  {'task_name': 'Create \"Contact Us\" Page',\n",
       "   'estimated_time_hours': 40.0,\n",
       "   'required_resources': ['Jane Doe']},\n",
       "  {'task_name': 'Implement Blog Section',\n",
       "   'estimated_time_hours': 80.0,\n",
       "   'required_resources': ['Jane Doe']},\n",
       "  {'task_name': 'Optimize for SEO and Loading Times',\n",
       "   'estimated_time_hours': 80.0,\n",
       "   'required_resources': ['Jane Doe']},\n",
       "  {'task_name': 'Integrate Social Media Links',\n",
       "   'estimated_time_hours': 20.0,\n",
       "   'required_resources': ['Jane Doe']},\n",
       "  {'task_name': 'Include Testimonials Section',\n",
       "   'estimated_time_hours': 40.0,\n",
       "   'required_resources': ['Bob Smith']}],\n",
       " 'milestones': [{'milestone_name': 'Website Design Phase',\n",
       "   'tasks': ['Create Responsive Design',\n",
       "    'Implement User Interface',\n",
       "    'Develop User-Friendly Navigation System',\n",
       "    'Create \"About Us\" Page',\n",
       "    'Design \"Services\" Page']},\n",
       "  {'milestone_name': 'Website Development Phase',\n",
       "   'tasks': ['Create \"Contact Us\" Page',\n",
       "    'Implement Blog Section',\n",
       "    'Optimize for SEO and Loading Times',\n",
       "    'Integrate Social Media Links']},\n",
       "  {'milestone_name': 'Final Review and Launch',\n",
       "   'tasks': ['Include Testimonials Section']}]}"
      ]
     },
     "execution_count": 9,
     "metadata": {},
     "output_type": "execute_result"
    }
   ],
   "source": [
    "result.pydantic.dict()"
   ]
  },
  {
   "cell_type": "markdown",
   "id": "18ffcc83-350e-4f99-b03b-458690cc0ed2",
   "metadata": {},
   "source": [
    "## Inspect further"
   ]
  },
  {
   "cell_type": "code",
   "execution_count": 10,
   "id": "da1bbf90-4bfc-4529-84dd-d0bd00198353",
   "metadata": {
    "height": 149
   },
   "outputs": [
    {
     "data": {
      "text/html": [
       "<style type=\"text/css\">\n",
       "#T_1eb39 th {\n",
       "  font-size: 120%;\n",
       "}\n",
       "#T_1eb39  td {\n",
       "  font-size: 120%;\n",
       "}\n",
       "</style>\n",
       "<table id=\"T_1eb39\" border=\"1\">\n",
       "  <caption>Task Details</caption>\n",
       "  <thead>\n",
       "    <tr>\n",
       "      <th class=\"blank level0\" >&nbsp;</th>\n",
       "      <th id=\"T_1eb39_level0_col0\" class=\"col_heading level0 col0\" >task_name</th>\n",
       "      <th id=\"T_1eb39_level0_col1\" class=\"col_heading level0 col1\" >estimated_time_hours</th>\n",
       "      <th id=\"T_1eb39_level0_col2\" class=\"col_heading level0 col2\" >required_resources</th>\n",
       "    </tr>\n",
       "  </thead>\n",
       "  <tbody>\n",
       "    <tr>\n",
       "      <th id=\"T_1eb39_level0_row0\" class=\"row_heading level0 row0\" >0</th>\n",
       "      <td id=\"T_1eb39_row0_col0\" class=\"data row0 col0\" >Create Responsive Design</td>\n",
       "      <td id=\"T_1eb39_row0_col1\" class=\"data row0 col1\" >80.000000</td>\n",
       "      <td id=\"T_1eb39_row0_col2\" class=\"data row0 col2\" >['Bob Smith']</td>\n",
       "    </tr>\n",
       "    <tr>\n",
       "      <th id=\"T_1eb39_level0_row1\" class=\"row_heading level0 row1\" >1</th>\n",
       "      <td id=\"T_1eb39_row1_col0\" class=\"data row1 col0\" >Implement User Interface</td>\n",
       "      <td id=\"T_1eb39_row1_col1\" class=\"data row1 col1\" >120.000000</td>\n",
       "      <td id=\"T_1eb39_row1_col2\" class=\"data row1 col2\" >['Bob Smith', 'Jane Doe']</td>\n",
       "    </tr>\n",
       "    <tr>\n",
       "      <th id=\"T_1eb39_level0_row2\" class=\"row_heading level0 row2\" >2</th>\n",
       "      <td id=\"T_1eb39_row2_col0\" class=\"data row2 col0\" >Develop User-Friendly Navigation System</td>\n",
       "      <td id=\"T_1eb39_row2_col1\" class=\"data row2 col1\" >80.000000</td>\n",
       "      <td id=\"T_1eb39_row2_col2\" class=\"data row2 col2\" >['Jane Doe']</td>\n",
       "    </tr>\n",
       "    <tr>\n",
       "      <th id=\"T_1eb39_level0_row3\" class=\"row_heading level0 row3\" >3</th>\n",
       "      <td id=\"T_1eb39_row3_col0\" class=\"data row3 col0\" >Create \"About Us\" Page</td>\n",
       "      <td id=\"T_1eb39_row3_col1\" class=\"data row3 col1\" >40.000000</td>\n",
       "      <td id=\"T_1eb39_row3_col2\" class=\"data row3 col2\" >['Bob Smith']</td>\n",
       "    </tr>\n",
       "    <tr>\n",
       "      <th id=\"T_1eb39_level0_row4\" class=\"row_heading level0 row4\" >4</th>\n",
       "      <td id=\"T_1eb39_row4_col0\" class=\"data row4 col0\" >Design \"Services\" Page</td>\n",
       "      <td id=\"T_1eb39_row4_col1\" class=\"data row4 col1\" >40.000000</td>\n",
       "      <td id=\"T_1eb39_row4_col2\" class=\"data row4 col2\" >['Bob Smith']</td>\n",
       "    </tr>\n",
       "    <tr>\n",
       "      <th id=\"T_1eb39_level0_row5\" class=\"row_heading level0 row5\" >5</th>\n",
       "      <td id=\"T_1eb39_row5_col0\" class=\"data row5 col0\" >Create \"Contact Us\" Page</td>\n",
       "      <td id=\"T_1eb39_row5_col1\" class=\"data row5 col1\" >40.000000</td>\n",
       "      <td id=\"T_1eb39_row5_col2\" class=\"data row5 col2\" >['Jane Doe']</td>\n",
       "    </tr>\n",
       "    <tr>\n",
       "      <th id=\"T_1eb39_level0_row6\" class=\"row_heading level0 row6\" >6</th>\n",
       "      <td id=\"T_1eb39_row6_col0\" class=\"data row6 col0\" >Implement Blog Section</td>\n",
       "      <td id=\"T_1eb39_row6_col1\" class=\"data row6 col1\" >80.000000</td>\n",
       "      <td id=\"T_1eb39_row6_col2\" class=\"data row6 col2\" >['Jane Doe']</td>\n",
       "    </tr>\n",
       "    <tr>\n",
       "      <th id=\"T_1eb39_level0_row7\" class=\"row_heading level0 row7\" >7</th>\n",
       "      <td id=\"T_1eb39_row7_col0\" class=\"data row7 col0\" >Optimize for SEO and Loading Times</td>\n",
       "      <td id=\"T_1eb39_row7_col1\" class=\"data row7 col1\" >80.000000</td>\n",
       "      <td id=\"T_1eb39_row7_col2\" class=\"data row7 col2\" >['Jane Doe']</td>\n",
       "    </tr>\n",
       "    <tr>\n",
       "      <th id=\"T_1eb39_level0_row8\" class=\"row_heading level0 row8\" >8</th>\n",
       "      <td id=\"T_1eb39_row8_col0\" class=\"data row8 col0\" >Integrate Social Media Links</td>\n",
       "      <td id=\"T_1eb39_row8_col1\" class=\"data row8 col1\" >20.000000</td>\n",
       "      <td id=\"T_1eb39_row8_col2\" class=\"data row8 col2\" >['Jane Doe']</td>\n",
       "    </tr>\n",
       "    <tr>\n",
       "      <th id=\"T_1eb39_level0_row9\" class=\"row_heading level0 row9\" >9</th>\n",
       "      <td id=\"T_1eb39_row9_col0\" class=\"data row9 col0\" >Include Testimonials Section</td>\n",
       "      <td id=\"T_1eb39_row9_col1\" class=\"data row9 col1\" >40.000000</td>\n",
       "      <td id=\"T_1eb39_row9_col2\" class=\"data row9 col2\" >['Bob Smith']</td>\n",
       "    </tr>\n",
       "  </tbody>\n",
       "</table>\n"
      ],
      "text/plain": [
       "<pandas.io.formats.style.Styler at 0x7f0f02a2f750>"
      ]
     },
     "execution_count": 10,
     "metadata": {},
     "output_type": "execute_result"
    }
   ],
   "source": [
    "tasks = result.pydantic.dict()['tasks']\n",
    "df_tasks = pd.DataFrame(tasks)\n",
    "\n",
    "# Display the DataFrame as an HTML table\n",
    "df_tasks.style.set_table_attributes('border=\"1\"').set_caption(\"Task Details\").set_table_styles(\n",
    "    [{'selector': 'th, td', 'props': [('font-size', '120%')]}]\n",
    ")"
   ]
  },
  {
   "cell_type": "markdown",
   "id": "1210cae8-e028-4f7e-90ed-950ef86d41e5",
   "metadata": {},
   "source": [
    "### Inspecting Milestones"
   ]
  },
  {
   "cell_type": "code",
   "execution_count": 11,
   "id": "91c2f18c-2d5b-41a9-837b-265e7aa245d0",
   "metadata": {
    "height": 149
   },
   "outputs": [
    {
     "data": {
      "text/html": [
       "<style type=\"text/css\">\n",
       "#T_612bb th {\n",
       "  font-size: 120%;\n",
       "}\n",
       "#T_612bb  td {\n",
       "  font-size: 120%;\n",
       "}\n",
       "</style>\n",
       "<table id=\"T_612bb\" border=\"1\">\n",
       "  <caption>Task Details</caption>\n",
       "  <thead>\n",
       "    <tr>\n",
       "      <th class=\"blank level0\" >&nbsp;</th>\n",
       "      <th id=\"T_612bb_level0_col0\" class=\"col_heading level0 col0\" >milestone_name</th>\n",
       "      <th id=\"T_612bb_level0_col1\" class=\"col_heading level0 col1\" >tasks</th>\n",
       "    </tr>\n",
       "  </thead>\n",
       "  <tbody>\n",
       "    <tr>\n",
       "      <th id=\"T_612bb_level0_row0\" class=\"row_heading level0 row0\" >0</th>\n",
       "      <td id=\"T_612bb_row0_col0\" class=\"data row0 col0\" >Website Design Phase</td>\n",
       "      <td id=\"T_612bb_row0_col1\" class=\"data row0 col1\" >['Create Responsive Design', 'Implement User Interface', 'Develop User-Friendly Navigation System', 'Create \"About Us\" Page', 'Design \"Services\" Page']</td>\n",
       "    </tr>\n",
       "    <tr>\n",
       "      <th id=\"T_612bb_level0_row1\" class=\"row_heading level0 row1\" >1</th>\n",
       "      <td id=\"T_612bb_row1_col0\" class=\"data row1 col0\" >Website Development Phase</td>\n",
       "      <td id=\"T_612bb_row1_col1\" class=\"data row1 col1\" >['Create \"Contact Us\" Page', 'Implement Blog Section', 'Optimize for SEO and Loading Times', 'Integrate Social Media Links']</td>\n",
       "    </tr>\n",
       "    <tr>\n",
       "      <th id=\"T_612bb_level0_row2\" class=\"row_heading level0 row2\" >2</th>\n",
       "      <td id=\"T_612bb_row2_col0\" class=\"data row2 col0\" >Final Review and Launch</td>\n",
       "      <td id=\"T_612bb_row2_col1\" class=\"data row2 col1\" >['Include Testimonials Section']</td>\n",
       "    </tr>\n",
       "  </tbody>\n",
       "</table>\n"
      ],
      "text/plain": [
       "<pandas.io.formats.style.Styler at 0x7f0f00d62a50>"
      ]
     },
     "execution_count": 11,
     "metadata": {},
     "output_type": "execute_result"
    }
   ],
   "source": [
    "milestones = result.pydantic.dict()['milestones']\n",
    "df_milestones = pd.DataFrame(milestones)\n",
    "\n",
    "# Display the DataFrame as an HTML table\n",
    "df_milestones.style.set_table_attributes('border=\"1\"').set_caption(\"Task Details\").set_table_styles(\n",
    "    [{'selector': 'th, td', 'props': [('font-size', '120%')]}]\n",
    ")"
   ]
  },
  {
   "cell_type": "code",
   "execution_count": null,
   "id": "a593fd80-36ef-48a1-a7c7-e45c37815f67",
   "metadata": {
    "height": 30
   },
   "outputs": [],
   "source": []
  },
  {
   "cell_type": "code",
   "execution_count": null,
   "id": "2e2c2526-de6d-4006-bd25-8c51e1f3d5f7",
   "metadata": {
    "height": 30
   },
   "outputs": [],
   "source": []
  },
  {
   "cell_type": "code",
   "execution_count": null,
   "id": "1ac3e1e0-e14f-446e-a912-18794337925c",
   "metadata": {
    "height": 30
   },
   "outputs": [],
   "source": []
  },
  {
   "cell_type": "code",
   "execution_count": null,
   "id": "c34b5062-29e2-4fbb-b771-02f5f547e47c",
   "metadata": {
    "height": 30
   },
   "outputs": [],
   "source": []
  },
  {
   "cell_type": "code",
   "execution_count": null,
   "id": "70303180-389e-4e90-8444-aba384ec8751",
   "metadata": {
    "height": 30
   },
   "outputs": [],
   "source": []
  },
  {
   "cell_type": "code",
   "execution_count": null,
   "id": "109926d3-50e5-43e7-87f8-a1d38e45d79d",
   "metadata": {
    "height": 30
   },
   "outputs": [],
   "source": []
  }
 ],
 "metadata": {
  "kernelspec": {
   "display_name": "Python 3 (ipykernel)",
   "language": "python",
   "name": "python3"
  },
  "language_info": {
   "codemirror_mode": {
    "name": "ipython",
    "version": 3
   },
   "file_extension": ".py",
   "mimetype": "text/x-python",
   "name": "python",
   "nbconvert_exporter": "python",
   "pygments_lexer": "ipython3",
   "version": "3.11.9"
  }
 },
 "nbformat": 4,
 "nbformat_minor": 5
}
