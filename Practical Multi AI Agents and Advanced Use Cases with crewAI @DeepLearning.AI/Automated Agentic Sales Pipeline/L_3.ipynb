{
 "cells": [
  {
   "cell_type": "markdown",
   "id": "e744665e-7420-433f-8463-a674b66492d5",
   "metadata": {},
   "source": [
    "# L3: Agentic Sales Pipeline"
   ]
  },
  {
   "cell_type": "markdown",
   "id": "ba547b65-bcbd-4931-b091-57155b49c275",
   "metadata": {},
   "source": [
    "<p style=\"background-color:#fff6e4; padding:15px; border-width:3px; border-color:#f5ecda; border-style:solid; border-radius:6px\"> ⏳ <b>Note <code>(Kernel Starting)</code>:</b> This notebook takes about 30 seconds to be ready to use. You may start and watch the video while you wait.</p>"
   ]
  },
  {
   "cell_type": "markdown",
   "id": "790ff40f-0146-47f9-84db-36997a267b8d",
   "metadata": {},
   "source": [
    "## Initial Imports"
   ]
  },
  {
   "cell_type": "code",
   "execution_count": 1,
   "id": "0e3c15b4-6886-4c22-a2a6-36005a50c035",
   "metadata": {
    "height": 200
   },
   "outputs": [],
   "source": [
    "# Warning control\n",
    "import warnings\n",
    "warnings.filterwarnings('ignore')\n",
    "\n",
    "# Load environment variables\n",
    "from helper import load_env\n",
    "load_env()\n",
    "\n",
    "import os\n",
    "import yaml\n",
    "from crewai import Agent, Task, Crew"
   ]
  },
  {
   "cell_type": "markdown",
   "id": "c00f0d70-628e-4626-b430-6a409e2d8382",
   "metadata": {},
   "source": [
    "<p style=\"background-color:#fff6ff; padding:15px; border-width:3px; border-color:#efe6ef; border-style:solid; border-radius:6px\"> 💻 &nbsp; <b>Access <code>requirements.txt</code> and <code>helper.py</code> files:</b> 1) click on the <em>\"File\"</em> option on the top menu of the notebook and then 2) click on <em>\"Open\"</em>. For more help, please see the <em>\"Appendix - Tips and Help\"</em> Lesson.</p>"
   ]
  },
  {
   "cell_type": "markdown",
   "id": "b8402a3e-5e30-4b5e-8fa9-bed7403a62a7",
   "metadata": {},
   "source": [
    "## Load API tokens for our 3rd party APIs"
   ]
  },
  {
   "cell_type": "code",
   "execution_count": 2,
   "id": "f5e31c2e-ab46-4c55-80ad-9841f422ffc7",
   "metadata": {
    "height": 30
   },
   "outputs": [],
   "source": [
    "os.environ['OPENAI_MODEL_NAME'] = 'gpt-4o-mini'"
   ]
  },
  {
   "cell_type": "markdown",
   "id": "3ec2797f-c0de-451e-a73b-bff04f981172",
   "metadata": {},
   "source": [
    "## Loading Tasks and Agents YAML files"
   ]
  },
  {
   "cell_type": "code",
   "execution_count": 3,
   "id": "4c943fa8-fda9-495c-9225-a841af833fea",
   "metadata": {
    "height": 336
   },
   "outputs": [],
   "source": [
    "# Define file paths for YAML configurations\n",
    "files = {\n",
    "    'lead_agents': 'config/lead_qualification_agents.yaml',\n",
    "    'lead_tasks': 'config/lead_qualification_tasks.yaml',\n",
    "    'email_agents': 'config/email_engagement_agents.yaml',\n",
    "    'email_tasks': 'config/email_engagement_tasks.yaml'\n",
    "}\n",
    "\n",
    "# Load configurations from YAML files\n",
    "configs = {}\n",
    "for config_type, file_path in files.items():\n",
    "    with open(file_path, 'r') as file:\n",
    "        configs[config_type] = yaml.safe_load(file)\n",
    "\n",
    "# Assign loaded configurations to specific variables\n",
    "lead_agents_config = configs['lead_agents']\n",
    "lead_tasks_config = configs['lead_tasks']\n",
    "email_agents_config = configs['email_agents']\n",
    "email_tasks_config = configs['email_tasks']"
   ]
  },
  {
   "cell_type": "markdown",
   "id": "7e25d7e2-143d-4223-b770-75c5dcaa257e",
   "metadata": {},
   "source": [
    "## Create Pydantic Models for Structured Output"
   ]
  },
  {
   "cell_type": "code",
   "execution_count": 4,
   "id": "792a5ecb-fbc3-43e5-a5aa-06882d9f3765",
   "metadata": {
    "height": 455
   },
   "outputs": [],
   "source": [
    "from pydantic import BaseModel, Field\n",
    "from typing import Dict, Optional, List, Set, Tuple\n",
    "\n",
    "class LeadPersonalInfo(BaseModel):\n",
    "    name: str = Field(..., description=\"The full name of the lead.\")\n",
    "    job_title: str = Field(..., description=\"The job title of the lead.\")\n",
    "    role_relevance: int = Field(..., ge=0, le=10, description=\"A score representing how relevant the lead's role is to the decision-making process (0-10).\")\n",
    "    professional_background: Optional[str] = Field(..., description=\"A brief description of the lead's professional background.\")\n",
    "\n",
    "class CompanyInfo(BaseModel):\n",
    "    company_name: str = Field(..., description=\"The name of the company the lead works for.\")\n",
    "    industry: str = Field(..., description=\"The industry in which the company operates.\")\n",
    "    company_size: int = Field(..., description=\"The size of the company in terms of employee count.\")\n",
    "    revenue: Optional[float] = Field(None, description=\"The annual revenue of the company, if available.\")\n",
    "    market_presence: int = Field(..., ge=0, le=10, description=\"A score representing the company's market presence (0-10).\")\n",
    "\n",
    "class LeadScore(BaseModel):\n",
    "    score: int = Field(..., ge=0, le=100, description=\"The final score assigned to the lead (0-100).\")\n",
    "    scoring_criteria: List[str] = Field(..., description=\"The criteria used to determine the lead's score.\")\n",
    "    validation_notes: Optional[str] = Field(None, description=\"Any notes regarding the validation of the lead score.\")\n",
    "\n",
    "class LeadScoringResult(BaseModel):\n",
    "    personal_info: LeadPersonalInfo = Field(..., description=\"Personal information about the lead.\")\n",
    "    company_info: CompanyInfo = Field(..., description=\"Information about the lead's company.\")\n",
    "    lead_score: LeadScore = Field(..., description=\"The calculated score and related information for the lead.\")"
   ]
  },
  {
   "cell_type": "markdown",
   "id": "6a68f357-7b55-4bf4-a011-27f3df6d1f11",
   "metadata": {},
   "source": [
    "## Importing Tools"
   ]
  },
  {
   "cell_type": "code",
   "execution_count": 5,
   "id": "ad39d218-6727-4055-8ea7-c1610631f4ab",
   "metadata": {
    "height": 30
   },
   "outputs": [],
   "source": [
    "from crewai_tools import SerperDevTool, ScrapeWebsiteTool"
   ]
  },
  {
   "cell_type": "markdown",
   "id": "7efd8c33-7009-4794-96b7-9a59c8669083",
   "metadata": {},
   "source": [
    "## Lead Qualification Crew, Agents and Tasks"
   ]
  },
  {
   "cell_type": "code",
   "execution_count": 6,
   "id": "57e0ba2e-a86a-4a20-ab38-62eb89abdf57",
   "metadata": {
    "height": 829
   },
   "outputs": [],
   "source": [
    "# Creating Agents\n",
    "lead_data_agent = Agent(\n",
    "  config=lead_agents_config['lead_data_agent'],\n",
    "  tools=[SerperDevTool(), ScrapeWebsiteTool()]\n",
    ")\n",
    "\n",
    "cultural_fit_agent = Agent(\n",
    "  config=lead_agents_config['cultural_fit_agent'],\n",
    "  tools=[SerperDevTool(), ScrapeWebsiteTool()]\n",
    ")\n",
    "\n",
    "scoring_validation_agent = Agent(\n",
    "  config=lead_agents_config['scoring_validation_agent'],\n",
    "  tools=[SerperDevTool(), ScrapeWebsiteTool()]\n",
    ")\n",
    "\n",
    "# Creating Tasks\n",
    "lead_data_task = Task(\n",
    "  config=lead_tasks_config['lead_data_collection'],\n",
    "  agent=lead_data_agent\n",
    ")\n",
    "\n",
    "cultural_fit_task = Task(\n",
    "  config=lead_tasks_config['cultural_fit_analysis'],\n",
    "  agent=cultural_fit_agent\n",
    ")\n",
    "\n",
    "scoring_validation_task = Task(\n",
    "  config=lead_tasks_config['lead_scoring_and_validation'],\n",
    "  agent=scoring_validation_agent,\n",
    "  context=[lead_data_task, cultural_fit_task],\n",
    "  output_pydantic=LeadScoringResult\n",
    ")\n",
    "\n",
    "# Creating Crew\n",
    "lead_scoring_crew = Crew(\n",
    "  agents=[\n",
    "    lead_data_agent,\n",
    "    cultural_fit_agent,\n",
    "    scoring_validation_agent\n",
    "  ],\n",
    "  tasks=[\n",
    "    lead_data_task,\n",
    "    cultural_fit_task,\n",
    "    scoring_validation_task\n",
    "  ],\n",
    "  verbose=True\n",
    ")"
   ]
  },
  {
   "cell_type": "markdown",
   "id": "80cec8e2-8aee-4abd-84c6-cde645f16e12",
   "metadata": {},
   "source": [
    "## Email Engagement Crew"
   ]
  },
  {
   "cell_type": "code",
   "execution_count": 7,
   "id": "fcd0e4d3-a150-4354-8deb-59c1758026fe",
   "metadata": {
    "height": 557
   },
   "outputs": [
    {
     "name": "stderr",
     "output_type": "stream",
     "text": [
      "2025-01-25 17:37:05,659 - 139676258360192 - __init__.py-__init__:538 - WARNING: Overriding of current TracerProvider is not allowed\n"
     ]
    }
   ],
   "source": [
    "# Creating Agents\n",
    "email_content_specialist = Agent(\n",
    "  config=email_agents_config['email_content_specialist']\n",
    ")\n",
    "\n",
    "engagement_strategist = Agent(\n",
    "  config=email_agents_config['engagement_strategist']\n",
    ")\n",
    "\n",
    "# Creating Tasks\n",
    "email_drafting = Task(\n",
    "  config=email_tasks_config['email_drafting'],\n",
    "  agent=email_content_specialist\n",
    ")\n",
    "\n",
    "engagement_optimization = Task(\n",
    "  config=email_tasks_config['engagement_optimization'],\n",
    "  agent=engagement_strategist\n",
    ")\n",
    "\n",
    "# Creating Crew\n",
    "email_writing_crew = Crew(\n",
    "  agents=[\n",
    "    email_content_specialist,\n",
    "    engagement_strategist\n",
    "  ],\n",
    "  tasks=[\n",
    "    email_drafting,\n",
    "    engagement_optimization\n",
    "  ],\n",
    "  verbose=True\n",
    ")"
   ]
  },
  {
   "cell_type": "markdown",
   "id": "38c235e8-9efd-4496-88fd-aa32b4744fb5",
   "metadata": {},
   "source": [
    "## Creating Complete Sales Flow"
   ]
  },
  {
   "cell_type": "code",
   "execution_count": 8,
   "id": "c6976784-c70c-4ec8-882a-12b1250f4354",
   "metadata": {
    "height": 829
   },
   "outputs": [],
   "source": [
    "from crewai import Flow\n",
    "from crewai.flow.flow import listen, start\n",
    "\n",
    "class SalesPipeline(Flow):\n",
    "    @start()\n",
    "    def fetch_leads(self):\n",
    "        # Pull our leads from the database\n",
    "        leads = [\n",
    "            {\n",
    "                \"lead_data\": {\n",
    "                    \"name\": \"João Moura\",\n",
    "                    \"job_title\": \"Director of Engineering\",\n",
    "                    \"company\": \"Clearbit\",\n",
    "                    \"email\": \"joao@clearbit.com\",\n",
    "                    \"use_case\": \"Using AI Agent to do better data enrichment.\"\n",
    "                },\n",
    "            },\n",
    "        ]\n",
    "        return leads\n",
    "\n",
    "    @listen(fetch_leads)\n",
    "    def score_leads(self, leads):\n",
    "        scores = lead_scoring_crew.kickoff_for_each(leads)\n",
    "        self.state[\"score_crews_results\"] = scores\n",
    "        return scores\n",
    "\n",
    "    @listen(score_leads)\n",
    "    def store_leads_score(self, scores):\n",
    "        # Here we would store the scores in the database\n",
    "        return scores\n",
    "\n",
    "    @listen(score_leads)\n",
    "    def filter_leads(self, scores):\n",
    "        return [score for score in scores if score['lead_score'].score > 70]\n",
    "\n",
    "    @listen(filter_leads)\n",
    "    def write_email(self, leads):\n",
    "        scored_leads = [lead.to_dict() for lead in leads]\n",
    "        emails = email_writing_crew.kickoff_for_each(scored_leads)\n",
    "        return emails\n",
    "\n",
    "    @listen(write_email)\n",
    "    def send_email(self, emails):\n",
    "        # Here we would send the emails to the leads\n",
    "        return emails\n",
    "\n",
    "flow = SalesPipeline()"
   ]
  },
  {
   "cell_type": "markdown",
   "id": "47a1d640-12d2-4dbd-8095-7fe47dbd729c",
   "metadata": {},
   "source": [
    "## Plotting the Flow"
   ]
  },
  {
   "cell_type": "code",
   "execution_count": 9,
   "id": "3c90a3f2-3bc1-446b-beff-4a02d84e72dd",
   "metadata": {
    "height": 30
   },
   "outputs": [
    {
     "name": "stdout",
     "output_type": "stream",
     "text": [
      "Graph saved as crewai_flow_graph.html\n"
     ]
    }
   ],
   "source": [
    "flow.plot()"
   ]
  },
  {
   "cell_type": "code",
   "execution_count": 10,
   "id": "5cd8e46b-e2fa-45a1-ab35-aaa1f3f2e0ff",
   "metadata": {
    "height": 64
   },
   "outputs": [
    {
     "data": {
      "text/html": [
       "\n",
       "        <iframe\n",
       "            width=\"150%\"\n",
       "            height=\"600\"\n",
       "            src=\"./crewai_flow.html\"\n",
       "            frameborder=\"0\"\n",
       "            allowfullscreen\n",
       "            \n",
       "        ></iframe>\n",
       "        "
      ],
      "text/plain": [
       "<IPython.lib.display.IFrame at 0x7f0899d16410>"
      ]
     },
     "execution_count": 10,
     "metadata": {},
     "output_type": "execute_result"
    }
   ],
   "source": [
    "from IPython.display import IFrame\n",
    "\n",
    "IFrame(src='./crewai_flow.html', width='150%', height=600)"
   ]
  },
  {
   "cell_type": "markdown",
   "id": "6aa4aa2c-cbe5-49a4-8569-0fa8d2d59666",
   "metadata": {},
   "source": [
    "## Flow Kickoff"
   ]
  },
  {
   "cell_type": "code",
   "execution_count": 11,
   "id": "4f00316a-7d09-4533-af24-0842366e122f",
   "metadata": {
    "height": 30
   },
   "outputs": [
    {
     "name": "stderr",
     "output_type": "stream",
     "text": [
      "2025-01-25 17:37:05,698 - 139676258360192 - __init__.py-__init__:538 - WARNING: Overriding of current TracerProvider is not allowed\n"
     ]
    },
    {
     "name": "stdout",
     "output_type": "stream",
     "text": [
      "\u001b[1m\u001b[95m# Agent:\u001b[00m \u001b[1m\u001b[92mLead Data Specialist\u001b[00m\n",
      "\u001b[95m## Task:\u001b[00m \u001b[92mCollect and analyze the following information about the lead:\n",
      "- Personal Information:\n",
      "  - Name: Obtain the full name of the lead.\n",
      "  - Job Title: Determine the lead's current job title.\n",
      "  - Role Relevance: Assess how relevant the lead's role is to the decision-making process on a scale from 0 to 10.\n",
      "  - Professional Background: Optionally, gather a brief description of the lead's professional background.\n",
      "\n",
      "- Company Information:\n",
      "  - Company Name: Identify the name of the company the lead works for.\n",
      "  - Industry: Determine the industry in which the company operates.\n",
      "  - Company Size: Estimate the size of the company in terms of employee count.\n",
      "  - Revenue: If available, collect information on the annual revenue of the company.\n",
      "  - Market Presence: Evaluate the company's market presence on a scale from 0 to 10.\n",
      "\n",
      "- Our Company and Product:\n",
      "  - Company Name: CrewAI\n",
      "  - Product: Multi-Agent Orchestration Platform\n",
      "  - ICP: Enterprise companies looking into Agentic automation.\n",
      "  - Pitch: We are a platform that allows you to orchestrate AI Agents for automations to any vertical.\n",
      "\n",
      "-Lead Data:\n",
      "  {'name': 'João Moura', 'job_title': 'Director of Engineering', 'company': 'Clearbit', 'email': 'joao@clearbit.com', 'use_case': 'Using AI Agent to do better data enrichment.'}\n",
      "\u001b[00m\n",
      "\n",
      "\n",
      "\u001b[1m\u001b[95m# Agent:\u001b[00m \u001b[1m\u001b[92mLead Data Specialist\u001b[00m\n",
      "\u001b[95m## Thought:\u001b[00m \u001b[92mI need to gather information about the lead named João Moura and his company, Clearbit. First, I will search for personal information about João Moura, specifically his full name, job title, role relevance, and any details regarding his professional background.\u001b[00m\n",
      "\u001b[95m## Using tool:\u001b[00m \u001b[92mSearch the internet\u001b[00m\n",
      "\u001b[95m## Tool Input:\u001b[00m \u001b[92m\n",
      "\"{\\\"search_query\\\": \\\"Jo\\\\u00e3o Moura Director of Engineering Clearbit profile\\\"}\"\u001b[00m\n",
      "\u001b[95m## Tool Output:\u001b[00m \u001b[92m\n",
      "\n",
      "Search results: Title: Meet João Moura: Clearbit's Senior Engineering Manager\n",
      "Link: https://clearbit.com/blog/joao-moura\n",
      "Snippet: João Moura has always been a leader. And for the past 4 years, he has been building and scaling the Clearbit engineering team as Senior Engineering Manager.\n",
      "---\n",
      "Title: About me - Joao Moura\n",
      "Link: http://joaomdmoura.com/about/\n",
      "Snippet: Currently I'm an Engineering Manager at Clearbit, a fast growing company in the San Francisco, where I help manage and build some of the most incredible ...\n",
      "---\n",
      "Title: João (Joe) Moura on LinkedIn: #clearbit #hubspot #ai #leadership ...\n",
      "Link: https://www.linkedin.com/posts/joaomdmoura_clearbit-hubspot-ai-activity-7125492053857189888-G5DN?trk=public_profile_like_view\n",
      "Snippet: Founder at crewAI - Remote Team Leader | Product Strategy | Leadership | Expert in Ruby, Python, JavaScript, Elixir and Data Science\n",
      "---\n",
      "Title: João (Joe) Moura's Post - LinkedIn\n",
      "Link: https://www.linkedin.com/posts/joaomdmoura_fully-autonomous-departments-backed-by-ai-activity-7130285095780777985--4DP\n",
      "Snippet: João (Joe) Moura's Post. View profile for João (Joe) Moura, graphic. João (Joe) Moura. Founder at crewAI - Remote Team Leader | Product ...\n",
      "---\n",
      "Title: Joao Moura - Co-Founder & CEO @ CrewAI - Crunchbase\n",
      "Link: https://www.crunchbase.com/person/joao-moura\n",
      "Snippet: Joao Moura has 2 current jobs as Engineering Manager at Clearbit and Co-Founder & CEO at CrewAI . Additionally, Joao Moura has had 1 past job as the Senior ...\n",
      "---\n",
      "Title: Joao Moura Email & Phone Number | Chief Executive Officer at crewAI\n",
      "Link: https://www.zoominfo.com/p/Joao-Moura/12978477410\n",
      "Snippet: Joao Moura works as a Chief Executive Officer at crewAI, which is an Engineering Software company with an estimated 17 employees.\n",
      "---\n",
      "Title: João Moura AI professional profile, contact information, work ...\n",
      "Link: https://www.edgein.io/people/joao-moura/\n",
      "Snippet: View João Moura's profile on EdgeIn, the world's leading AI & Web3 data intelligence platform. João Moura has 1 jobs listed on their profile.\n",
      "---\n",
      "Title: The Future of AI Agents - Joao Moura (CEO, CrewAI)\n",
      "Link: https://shomik.substack.com/p/the-future-of-ai-agents-joao-moura\n",
      "Snippet: Joao Moura is Founder & CEO of CrewAI, the leading multi-agent platform. He previously was Director of AI Engineering at Clearbit which was ...\n",
      "---\n",
      "Title: Clearbit - From teaching a typing class at 13 to managing... | Facebook\n",
      "Link: https://m.facebook.com/story.php/?story_fbid=5683901614976708&id=984849984881918\n",
      "Snippet: From teaching a typing class at 13 to managing multiple engineering teams, João Moura has always been a leader. And for the past 4 years, he has been building ...\n",
      "---\n",
      "Title: João Moura (@joaomdmoura) / X\n",
      "Link: https://x.com/joaomdmoura?lang=en\n",
      "Snippet: Founder of @crewAIInc / prev @clearbit (acc by @hubspot ) Open Source enthusiast | Creator of Machinery | Public Speaker | My views\n",
      "---\n",
      "\u001b[00m\n",
      "\n",
      "\n",
      "\u001b[1m\u001b[95m# Agent:\u001b[00m \u001b[1m\u001b[92mLead Data Specialist\u001b[00m\n",
      "\u001b[95m## Thought:\u001b[00m \u001b[92mThought: I have gathered some initial links related to João Moura, particularly about his professional background and current job title. I need to examine a few of these links to extract detailed personal information.\u001b[00m\n",
      "\u001b[95m## Using tool:\u001b[00m \u001b[92mRead website content\u001b[00m\n",
      "\u001b[95m## Tool Input:\u001b[00m \u001b[92m\n",
      "\"{\\\"website_url\\\": \\\"https://clearbit.com/blog/joao-moura\\\"}\"\u001b[00m\n",
      "\u001b[95m## Tool Output:\u001b[00m \u001b[92m\n",
      "Meet João Moura: Clearbit’s Senior Engineering ManagerClearbit customer loginBlog>Meet João Moura: Clearbit’s Senior Engineering ManagerMeet João Moura: Clearbit’s Senior Engineering ManagerJess Cody|June 29, 2022|5 minute readFrom teaching a typing class at 13 to managing multiple engineering teams, João Moura has always been a leader. And for the past 4 years, he has been building and scaling the Clearbit engineering team as Senior Engineering Manager. Today João leads a team of 14 engineers building the Clearbit Data Activation Platform, all while working remotely from Brazil.  We are so excited to share João’s story. If you want to work remotely with awesome people like João, check out our open roles!From tech to law school — and back to techJoão was interested in technology from an early age. He started programming at 13 and enrolled in a web development course. While in the program, a position opened up to teach people how to type faster and more accurately. João applied and got the job. At 13 he was commanding a classroom, and as an added benefit, he got to take whatever courses he wanted. This initial position kickstarted a lifelong interest in tech. At 15, João started working at an agency, helping them to transition from a traditional old-school print-focused agency to a digital-first company while still attending high school.After high school, he continued on his tech journey working in engineering full-time at Preview Design. He decided to simultaneously pursue law school because, at the time, he felt he “already knew tech”. Looking back, João says, “That was very naive of me. If you ask me today, I don’t know tech and I’m still learning.” After 4 years of law school, João realized he didn’t have the time or passion to dedicate to law coursework and mandatory court sessions. He was focused on his engineering career and leading talks across the globe in New York, Italy, Atlanta, Israel, and more. In 2014, João took the next step in his leadership journey and joined Palpiteros, a soccer social network startup in Brazil, as CTO. He learned a lot from that role, diving into partnerships and staffing. After 2 years João left Palpiteros and started working remotely in international markets and ultimately, found his way to Clearbit.Finding the right fit at ClearbitBefore joining Clearbit, João “was trying to find something that would be more of a culture match. I wanted to find something that resonated with me.” That’s when João met Alex McCaw, co-founder of Clearbit. Though the two had exchanged emails back in 2012 when João was using one of Alex’s projects, they didn’t officially meet until years later. In 2019, João reached out to Alex on Twitter to see what was going on at Clearbit. After chatting online about an open role, João flew out to San Francisco for a round of in-person interviews. He spent time meeting with team members, getting to know them, and discussing a broad range of topics from engineering to galaxies. After spending time in San Francisco, he knew the role and team were exactly what he was looking for. “The thing that sold me on Clearbit were those two days in San Francisco,” João says. “Everybody was so friendly.”Since joining the Clearbit team, João has accumulated a long list of accomplishments. He has won internal hackathons, spearheaded offerings around AI, and worked with customers to test and improve new functionality. One of João’s winning hackathon projects was an automatic audience generator, which paved the way for early experimentation on how we can help our customers learn more about and activate their ideal customer profile.Working remotely from Brazil, he has hired and onboarded engineers across the globe, doubling the size of the team from when he started. Today, João has three engineering managers that report to him and he helps them build and grow their respective teams. He has also built strong cross-functional relationships with teams like sales and customer success, helping to drive the business forward.Individual contributor vs. people managerThroughout his career, João has learned a lot about what it takes to be a successful leader. He’s led a classroom of students, managed growing engineering teams, and inspired many in talks across the world. “There were times where I thought that this is what I was meant for and times I was wondering what I was doing,” says João on his leadership journey. While working with consultancies João realized he was good at triaging customer conversations, not just coding. He could navigate technical conversations and make complex topics easy to understand. Having these skills is “what ended up putting me in the CTO position,” says João. However, his management journey wasn’t linear. When he first entered international markets, he took a step back from leadership and worked as a senior engineer. This was a challenging time and João says, “working with a different culture takes a toll on you. I was very quiet, which is not my personality, and I needed time to get used to a remote environment and working with people of different cultures so I could get back to being comfortable being myself.” Throughout these experiences, João learned the pros and cons of individual contributor and people manager roles and shared some of his advice. “Being a manager is counterintuitive to being an engineer in many ways. There is an adaptation period you go through” says João. As an individual contributor in engineering, you need blocks of time to figure out a bug or code. In a people manager role, you need to context switch and often have many back-to-back meetings on completely different topics. In addition, results are not always immediate in management roles as they are in individual contributor positions. It may take months or years to see the effects of building and mentoring a successful team. Even so, he still believes that “management can be as, if not more, rewarding than being an engineer.”Looking to the futureWhile João has held many different roles, he says that working at Clearbit “is the best job I’ve ever had.” He is extremely proud of the team he has built and the growth of the company. With many more exciting initiatives on the horizon, it’s only up from here. “We have a nice foundation and I’m curious to see where it leads,” said João. Want to join João and Clearbit on the journey? Check out our open roles.CompanyThe Standard in B2B DataThe all new Clearbit. AI powered and free to get started.Create a Free AccountThe all new Clearbit. Rebuilt with AI and free to try.Companyby Matt Sornson on September 06, 2023In the last 4 months we’ve gone AI Native and shipped over 100 improvements to these datasets. With LLMs and some data black magic we've significantly increased our coverage and accuracy, and released a few all-new attributes. \n",
      "Read moreOur promise to be the best in B2B dataCompanyby Matt Sornson on July 11, 2023Clearbit Global Coverage – delivering on our promise to be the best in B2B data. \n",
      "International coverage on companies, contact, and buying intent. Millions of new companies, 250M new contacts, and so much more. Read moreThe Standard in B2B DataNow reinvented with Artificial Intelligence—Clearbit is the first AI Native Data Provider. Enrich your records, reveal buying intent, and connect with your ideal customers.Create a Free AccountResourcesBlogFree ToolsGuidesBooksWebinarsNewsletterRelease NotesInformationData AttributesSupportCompanyAbout UsCareersPressCustomersTrust CenterPrivacy PolicyStatusSupportLegalDo Not Sell My InfoManage Cookies© 2024 Clearbit\u001b[00m\n"
     ]
    },
    {
     "name": "stdout",
     "output_type": "stream",
     "text": [
      "\n",
      "\n",
      "\u001b[1m\u001b[95m# Agent:\u001b[00m \u001b[1m\u001b[92mLead Data Specialist\u001b[00m\n",
      "\u001b[95m## Thought:\u001b[00m \u001b[92mThought: I have gathered extensive information about João Moura, including his professional background and current role at Clearbit. Next, I need to obtain additional details about Clearbit as a company, including its industry, company size, revenue if available, and market presence.\u001b[00m\n",
      "\u001b[95m## Using tool:\u001b[00m \u001b[92mSearch the internet\u001b[00m\n",
      "\u001b[95m## Tool Input:\u001b[00m \u001b[92m\n",
      "\"{\\\"search_query\\\": \\\"Clearbit company information industry size revenue market presence\\\"}\"\u001b[00m\n",
      "\u001b[95m## Tool Output:\u001b[00m \u001b[92m\n",
      "\n",
      "Search results: Title: Leverage 100+ business data attributes - Clearbit\n",
      "Link: https://clearbit.com/attributes\n",
      "Snippet: Enrich your CRM and database, manage leads efficiently, and enable marketing personalization with over 100 business data points.\n",
      "---\n",
      "Title: Fit: firmographic and employment data - Clearbit\n",
      "Link: https://clearbit.com/resources/books/b2b-data/firmographic-demographic\n",
      "Snippet: Firmographic data: company information, like size, type, industry, revenue, etc., indicating whether the company is a good fit for your product or service.\n",
      "---\n",
      "Title: Data enrichment explained (with examples) - Clearbit\n",
      "Link: https://clearbit.com/blog/data-enrichment-explained\n",
      "Snippet: Firmographic data: company information, like size, type, industry, revenue, etc. indicating whether the company is a good fit for your product ...\n",
      "---\n",
      "Title: Clearbit - Market Share, Competitor Insights in Market Research\n",
      "Link: https://www.6sense.com/tech/market-research/clearbit-market-share\n",
      "Snippet: The majority of Clearbit's customers for the market-research category fall in the company size of 20 - 49 employees (1,462 companies). You can view a ...\n",
      "---\n",
      "Title: How to quickly calculate your total addressable market ... - Clearbit\n",
      "Link: https://clearbit.com/resources/guides/TAM-Calculator\n",
      "Snippet: Learn how to use Clearbit's free TAM Calculator to instantly check the size of a market opportunity.\n",
      "---\n",
      "Title: Clearbit - Products, Competitors, Financials, Employees ...\n",
      "Link: https://www.cbinsights.com/company/clearbit\n",
      "Snippet: Clearbit provides business-to-business (B2B) marketing intelligence solutions. Use the CB Insights Platform to explore Clearbit's full profile.\n",
      "---\n",
      "Title: Companies using Clearbit and its marketshare - Enlyft\n",
      "Link: https://enlyft.com/tech/products/clearbit\n",
      "Snippet: 3414 companies use Clearbit. Clearbit is most often used by companies with 10-50 employees & $1M-10M in revenue. Our usage data goes back 3 years and 2 ...\n",
      "---\n",
      "Title: Clearbit Stock Price, Funding, Valuation, Revenue & Financial ...\n",
      "Link: https://www.cbinsights.com/company/clearbit/financials\n",
      "Snippet: Clearbit has raised $17M over 3 rounds. Clearbit's latest funding round was a Acquired for on November 1, 2023. Clearbit's valuation in March 2019 was $250M.\n",
      "---\n",
      "Title: Clearbit: Revenue, Competitors, Alternatives - Growjo\n",
      "Link: https://growjo.com/company/Clearbit\n",
      "Snippet: Estimated Revenue & Valuation · Clearbit's estimated annual revenue is currently $17.8M per year.(i) · Clearbit received $15.0M in venture funding in March 2019.\n",
      "---\n",
      "Title: Total Addressable Market Calculator (TAM) - Clearbit\n",
      "Link: https://clearbit.com/resources/tools/tam-calculator\n",
      "Snippet: Calculate Total Addressable Market for free using our TAM calculator. Build your calculation instantly using our up-to-date database of 50M companies.\n",
      "---\n",
      "\n",
      "\n",
      "\n",
      "You ONLY have access to the following tools, and should NEVER make up tools that are not listed here:\n",
      "\n",
      "Tool Name: Search the internet(**kwargs: Any) -> Any\n",
      "Tool Description: Search the internet(search_query: 'string') - A tool that can be used to search the internet with a search_query. search_query: 'Mandatory search query you want to use to search the internet'\n",
      "Tool Arguments: {'search_query': {'description': 'Mandatory search query you want to use to search the internet', 'title': 'Search Query', 'type': 'string'}}\n",
      "Tool Name: Read website content(**kwargs: Any) -> Any\n",
      "Tool Description: Read website content(website_url: 'string') - A tool that can be used to read a website content. website_url: 'Mandatory website url to read the file'\n",
      "Tool Arguments: {'website_url': {'description': 'Mandatory website url to read the file', 'title': 'Website Url', 'type': 'string'}}\n",
      "\n",
      "Use the following format:\n",
      "\n",
      "Thought: you should always think about what to do\n",
      "Action: the action to take, only one name of [Search the internet, Read website content], just the name, exactly as it's written.\n",
      "Action Input: the input to the action, just a simple python dictionary, enclosed in curly braces, using \" to wrap keys and values.\n",
      "Observation: the result of the action\n",
      "\n",
      "Once all necessary information is gathered:\n",
      "\n",
      "Thought: I now know the final answer\n",
      "Final Answer: the final answer to the original input question\n",
      "\u001b[00m\n",
      "\n",
      "\n",
      "\u001b[1m\u001b[95m# Agent:\u001b[00m \u001b[1m\u001b[92mLead Data Specialist\u001b[00m\n",
      "\u001b[95m## Using tool:\u001b[00m \u001b[92mRead website content\u001b[00m\n",
      "\u001b[95m## Tool Input:\u001b[00m \u001b[92m\n",
      "\"{\\\"website_url\\\": \\\"https://www.cbinsights.com/company/clearbit\\\"}\"\u001b[00m\n",
      "\u001b[95m## Tool Output:\u001b[00m \u001b[92m\n",
      "Clearbit - Products, Competitors, Financials, Employees, Headquarters LocationsTechnology VendorsRecent ResearchNewsletterMedia SupportLoginSearch company, investor...Who We ServeFunctionCorporate StrategyCorporate Venture CapitalVenture CapitalITCorporate InnovationHow VCs Use CB InsightsGo to the video gallery →IndustriesConsumer & RetailTechInsuranceHealthcareIndustrialsFinancial ServicesProfessional ServicesProfessional ServicesLearn More →Success StoriesHow We HelpUnderstand Tech MarketsAnticipate Competitor StrategyDetermine Tech StrategyConnect with Tech Vendors & PartnersTurbocharge Digital TransformationWhat We OfferPlatformOverviewTechnology Search EngineMarket Analytics and VisualizationsTeam Management and CollaborationPlatform OverviewLearn More →DataResearchPersonal BriefingGenAI Instant InsightsPublic Equity DataBuyer Interview TranscriptsAnalyst BriefingsAPI & Data FeedsIntegrationsOverviewChrome and EdgeSalesforceAffinityMicrosoft ExcelGoogle SheetsMicrosoft TeamsSlackGoogle SlidesApp PartnersBrowser ExtensionPricingAbout UsOverviewOur teamsBusiness DevelopmentEngineeringOperationsProductSee all →Open JobsLoading...Search company, investor...ClearbitAnalyst Briefing Submittedclearbit.comOverview & ProductsFinancialsPeopleAlternatives & CompetitorsCustomersFounded Year2015StageAcquired | AcquiredTotal Raised$17MValuation$0000 ViewRevenue$0000 ViewAbout ClearbitClearbit provides business-to-business (B2B) marketing intelligence solutions. It offers services that enrich records, reveal buying intent, and help businesses connect with their ideal customers. The company primarily sells to the B2B sector. It was founded in 2015 and is based in San Francisco, California. In November 2023, Clearbit was acquired by HubSpot.Headquarters Location548 Market Street Suite 95879San Francisco, California, 94104-5401, United States415-805-3400Suggest an editLoading...Clearbit's Product VideosClearbit Data Activation Platform DemoClearbit Data Activation Platform Overview DeckESPs containing ClearbitThe ESP matrix leverages data and analyst insight to identify and rank leading companies in a given technology landscape.EXECUTION STRENGTH ➡MARKET STRENGTH ➡LEADERHIGHFLIEROUTPERFORMERCHALLENGERAccount-based marketingEnterprise Tech / Marketing & Ad TechThe account-based marketing market is focused on helping B2B sales and marketing teams compete in the digital space by providing detailed data on companies, prospects, and customers in their target market. The market offers solutions that streamline measurement, reporting, analysis, and optimization across multiple channels to save time for marketers. AI and automation are becoming increasingly im…Clearbit named as Outperformer among 14 other companies, including ZoomInfo, 6sense, and People.ai.View all ESPsClearbit's Products & DifferentiatorsClearbit DataClearbit's proprietary dataset includes 100+ attributes on more than 44 million companies and 350 million contacts. Our data covers every company with a website.Loading...Research containing ClearbitGet data-driven expert analysis from the CB Insights Intelligence Unit.CB Insights Intelligence Analysts have mentioned Clearbit in 4 CB Insights research briefs, most recently on Nov 6, 2023.Nov 6, 2023 M&A strategy teardown: Why did HubSpot acquire Clearbit?May 12, 2023 reportTop ABM and conversational marketing companies — and why customers chose themApr 10, 2023 ZoomInfo in trouble? Increased competition is putting pressure on pricing and customer choiceApr 6, 2023 reportTop data enrichment companies — and why customers chose themView all researchLatest Clearbit NewsHubSpot's Acquisition of Clearbit: A One-Year RetrospectiveOct 30, 2024HubSpot’s acquisition of Clearbit was driven by the need to elevate its CRM and marketing platform with deeper B2B data intelligence, positioning itself as a more competitive option in the crowded landscape of digital marketing and sales enablement. At the time of the acquisition last fall, HubSpot was vying to expand its reach beyond small-to-medium-sized businesses and cater more effectively to enterprise-level clients who demand sophisticated data enrichment and actionable insights to optimize their customer acquisition strategies. Clearbit, known for its ability to provide real-time data on companies, contacts, and buyer intent, seemed like a natural fit to close this gap. The strategic rationale was clear: by integrating Clearbit’s B2B intelligence, HubSpot could offer its users richer, more granular data on their prospects, enabling sales teams to prioritize leads and tailor their outreach more effectively. This would allow HubSpot to compete more aggressively with industry heavyweights like Salesforce and Adobe Experience Cloud, which have long been leaders in the enterprise CRM and marketing intelligence space, respectively. At the time, HubSpot’s challenge was standing out against more robust solutions offered by these competitors, including Salesforce’s integration with Tableau and Adobe’s acquisition of Marketo, which provided these platforms with deep data analysis and personalization capabilities. HubSpot-Clearbit: 'Winning Combination' or 'Misstep'? HubSpot’s move was also seen as a response to increasing demand for AI-powered tools capable of delivering precise, real-time intelligence. Yamini Rangan, CEO of HubSpot, said in the HubSpot-Clearbit announcement that to cut through the noise with deep relevance, businesses need reliable, high-quality data about their customers. \"HubSpot’s AI-powered customer platform combined with Clearbit’s data will create a powerful, winning combination for our customers,\" she said. Matt Sornson, co-founder and CEO of Clearbit, said in the announcement that Clearbit has always believed that data is fundamental to the best B2B go-to-market teams. \"By joining forces with HubSpot, we will unlock a whole new level of value for our customers and help all of B2B grow better,\" he said. Saul Marquez, CEO and founder of Outcomes Rocket , a specialty healthcare and wellness marketing and communications agency, told CMSWire that HubSpot’s acquisition of Clearbit signaled a strategic shift toward enhancing its data intelligence capabilities. However, he added, this move may be misaligned with its core strengths in CRM. \"HubSpot should focus on what it does best—CRM—and avoid venturing into the data business,” said Marquez, who added, \"HubSpot’s investment seem like a misstep.”\n",
      "Ramsinghaney explained that while the intent was to deliver more value through AI-driven tools and enhanced data capabilities, the implementation has indeed complicated HubSpot's formerly streamlined offering. “This complexity can be a double-edged sword,\" Ramsinghaney said. \"It allows for more customization and powerful features, but it also risks alienating users who valued HubSpot's simplicity and transparency.”\n",
      "Learning Opportunities\n",
      "One customer had some  improvement suggestions for Breeze . The user, enthusiastic about HubSpot’s Breeze Intelligence post-acquisition of Clearbit, requests enhancements to allow for active enrichment lists, customizable property enrichment at the Contact level, and selective property mapping to improve flexibility for CRM integrations beyond HubSpot. Clearbit’s Role in Breeze and HubSpot’s Product Suite\n",
      "Ameyna Jackson, senior product communications manager at HubSpot , told CMSWire that HubSpot used its learnings from Clearbit to build a native data enrichment and buyer intent solution that brings together trusted, publicly available data for over 200 million company and buyer profiles. \"This allows businesses to not only enrich their existing data, but their understanding of the customer, and deliver a more contextual, personalized experience at a time when consumer expectations have never been higher,\" she said. The launch of Breeze  last month marked a pivotal moment in HubSpot’s attempt to integrate Clearbit’s B2B data intelligence into its broader CRM and marketing platform. Breeze Credits is a separate currency users must purchase to access Clearbit’s functionality. When asked about potential complexity introduced with Breeze Credits, Jackson emphasized that “we’re listening closely to customer feedback to understand how everything we build and offer can better serve them.” Additionally, Jackson said that HubSpot’s philosophy has always been to give value before asking for value. “That’s why Breeze, HubSpot’s collection of AI tools, is included with every subscription out-of-the-box. That means AI is embedded into the platform and not an add-on,” said Jackson. “No matter what HubSpot subscription a customer uses, they’ll have access to valuable AI functionality.”\n",
      "Can HubSpot Customers Maintain Competitive Edge With Clearbit? When asked about the integration of Clearbit and whether it has fully met its goals, Jackson emphasized that HubSpot's product philosophy centers around rapid delivery and iterative improvement. \"Our aim is to provide customers with cutting-edge technology as quickly as possible,\" Jackson explained. \"This allows them to harness its benefits early and maintain a competitive edge.\" David Raab, founder and CEO of the  Customer Data Platform (CDP) Institute , agreed, stating that every vendor today has a growing AI capability, so he sees Breeze as maintaining competitive parity. The way Breeze is integrated is not exactly foreign to customers. “Still, the value to customers is very real. The usage-based pricing model reflects the relatively high cost of processing AI tasks,” said Raab. “So I think it’s a way to match customer value to customer cost while also ensuring that HubSpot doesn’t lose money on its most active Breeze users. Because it’s similar to the way consumers are used to paying for ChatGPT and other AI tools, I think HubSpot customers will be comfortable with it.”\n",
      "Marquez suggested HubSpot may be \"overcomplicating its offering with Breeze credits and inflated pricing.\" He offered HubSpot's acquisition strategy could have included a \"differentiated insights platform that amplifies their lead scoring tools for optimizing content creation insights and targeting vs trying to compete with traditional best in class data tools.\"Oct 22, 2024CrewAI uses third-party models to automate business tasksFeb 18, 2024Clearbit: Unlocking the power of B2B sales prospectingFeb 12, 2024The Top 5 Apollo Alternatives for 2024Jan 26, 20247 Best B2B Database Providers for 2024Learn more by requesting a demoClearbit Frequently Asked Questions (FAQ)When was Clearbit founded?Clearbit was founded in 2015.Where is Clearbit's headquarters?Clearbit's headquarters is located at 548 Market Street, San Francisco.What is Clearbit's latest funding round?Clearbit's latest funding round is Acquired.How much did Clearbit raise?Clearbit raised a total of $17M.Who are the investors of Clearbit?Investors of Clearbit include HubSpot, First Round Capital, Zetta Venture Partners, Cross Creek, Battery Ventures and 13 more.Who are Clearbit's competitors?Competitors of Clearbit include FullContact, Cognism, Sales Marker, Clay, Apollo.io and 7 more.What products does Clearbit offer?Clearbit's products include Clearbit Data and 2 more.Who are Clearbit's customers?Customers of Clearbit include Codility, Chargebee, Airbase, Intercom and Lattice.Loading...Compare Clearbit to CompetitorsBomboraBombora specializes in B2B intent data analytics within the sales and marketing technology sector. The company offers products that help businesses understand the digital behaviors of potential customers. It is based in New York, New York.Apollo.ioApollo.io offers a data intelligence and sales engagement platform. The platform helps sales professionals find their ideal buyers by providing key contact details, including direct dial phone numbers, up-to-date business emails, job titles, and more. It was formerly known as ZenProspect. It was founded in 2015 and is based in Covina, California.SSales MarkerSales Marker provides a platform that analyzes web search behavior to identify companies with product or service needs, enabling targeted sales approaches. It primarily serves sectors that require targeting and engagement of potential clients with high purchase intent, such as technology and service industries. Sales Marker was formerly known as CrossBorder. The company was founded in 2021 and is based in Tokyo, Japan.OOutboundOutbound is an internet company. It provides an artificial intelligence algorithms data and mining tools to gather, organize and validate contacts of decision-makers from their specific target market to automate the process of sales generation. The company is based in Dublin, Ireland.LeadGeniusLeadGenius specializes in growth automation and B2B data services for various industries. The company offers personalized data enrichment, contact discovery, account segmentation, and precision data solutions to enhance sales and marketing strategies. LeadGenius primarily serves sectors that require targeted go-to-market strategies, including but not limited to the e-commerce, healthcare, and SMB industries. It was founded in 2011 and is based in Berkeley, California.RRevenueBaseRevenueBase provides B2B (business-to-business) data for marketing and sales. The company offers a comprehensive contact database, market-specific company and contact information, and custom insights to help businesses accelerate their revenue. It serves B2B growth organizations, including cybersecurity firms, go-to-market solution firms, and mobile app solution firms. It was founded in 2021 and is based in Waltham, Massachusetts.Loading...498 Seventh Avenue 12th floorNew York, NY 10018info@cbinsights.com212 292 3148Follow Us On SocialAboutAbout UsUpcoming WebinarsContact UsHow We HelpUnderstand Tech MarketsAnticipate Competitor StrategyCreate Tech StrategyConnect with Tech VendorsDigital TransformationWhat We OfferPlatformDataResearch OverviewGenAI Instant InsightsPricingPopular ResearchAI 100Fintech 100Digital Health 50Tech Trends 2024Generative AI PredictionsUnicorn TrackerVC GlossaryCompany List ApplicationsCB Insights Website Terms of UsePrivacy PolicyDo Not Sell My InfoPartnershipCopyright 2025 CB Information Services, Inc. All rights reserved.CBI websites generally use certain cookies to enable better interactions with our sites and services. Use of these cookies, which may be stored on your device, permits us to improve and customize your experience. You can read more about your cookie choices at our privacy policy here. By continuing to use this site you are consenting to these choices.I ACCEPTI DO NOT ACCEPT\u001b[00m\n"
     ]
    },
    {
     "name": "stdout",
     "output_type": "stream",
     "text": [
      "\n",
      "\n",
      "\u001b[1m\u001b[95m# Agent:\u001b[00m \u001b[1m\u001b[92mLead Data Specialist\u001b[00m\n",
      "\u001b[95m## Final Answer:\u001b[00m \u001b[92m\n",
      "### Lead Data Report\n",
      "\n",
      "#### Personal Information\n",
      "- **Name**: João Moura\n",
      "- **Job Title**: Director of Engineering at Clearbit\n",
      "- **Role Relevance**: 9/10 (As a Director of Engineering, he plays a significant role in technology and project decisions that may influence the adoption of automation solutions.)\n",
      "- **Professional Background**: João has a rich background in engineering management, having transitioned from an early interest in tech to leadership roles in various companies. He has been with Clearbit for several years, where he has led a team of engineers and contributed significantly to the company's technological capabilities. He also has experience as a Chief Executive Officer at CrewAI, indicating his strong leadership and entrepreneurial skills.\n",
      "\n",
      "#### Company Information\n",
      "- **Company Name**: Clearbit\n",
      "- **Industry**: Business-to-Business (B2B) Marketing Intelligence\n",
      "- **Company Size**: Approximately 20-49 employees\n",
      "- **Revenue**: Estimated annual revenue of about $17.8 million\n",
      "- **Market Presence**: 8/10 (Clearbit is recognized for its innovative data solutions in the B2B space and has a significant presence among technology marketers and sales teams.)\n",
      "\n",
      "Overall, this report reflects a solid understanding of both the lead, João Moura, and his company, Clearbit, providing insights into their backgrounds and implications on potential business engagements.\u001b[00m\n",
      "\n",
      "\n",
      "\u001b[1m\u001b[95m# Agent:\u001b[00m \u001b[1m\u001b[92mCultural Fit Analyst\u001b[00m\n",
      "\u001b[95m## Task:\u001b[00m \u001b[92mAssess the cultural alignment between the lead's company and our organization by considering the following:\n",
      "  - Cultural Values: Analyze the company's publicly stated values and internal culture (e.g., innovation, sustainability, employee engagement).\n",
      "  - Strategic Alignment: Evaluate how well the company's goals and mission align with our organization's strategic objectives.\n",
      "  - Qualitative Scoring: Assign a qualitative score (0-10) representing the overall cultural fit.\n",
      "  - Comments: Provide additional comments or observations that support the cultural fit score.\n",
      "\n",
      "- Our Company and Product:\n",
      "  - Company Name: CrewAI\n",
      "  - Product: Multi-Agent Orchestration Platform\n",
      "  - ICP: Enterprise companies looking into Agentic automation.\n",
      "  - Pitch: We are a platform that allows you to orchestrate AI Agents for automations to any vertical.\n",
      "\n",
      "- Lead Data:\n",
      "  {'name': 'João Moura', 'job_title': 'Director of Engineering', 'company': 'Clearbit', 'email': 'joao@clearbit.com', 'use_case': 'Using AI Agent to do better data enrichment.'}\n",
      "\u001b[00m\n",
      "\n",
      "\n",
      "\u001b[1m\u001b[95m# Agent:\u001b[00m \u001b[1m\u001b[92mCultural Fit Analyst\u001b[00m\n",
      "\u001b[95m## Thought:\u001b[00m \u001b[92mI need to gather information about Clearbit's cultural values and how they align with CrewAI's company culture and strategic objectives. This will involve examining their website for insights on their stated values and internal culture.\u001b[00m\n",
      "\u001b[95m## Using tool:\u001b[00m \u001b[92mRead website content\u001b[00m\n",
      "\u001b[95m## Tool Input:\u001b[00m \u001b[92m\n",
      "\"{\\\"website_url\\\": \\\"https://clearbit.com\\\"}\"\u001b[00m\n",
      "\u001b[95m## Tool Output:\u001b[00m \u001b[92m\n",
      "Clearbit is Now Breeze Intelligence for HubSpotClearbit customer loginClearbit has joined HubSpot!The best B2B data provider is now part of the best B2B customer platform!Breeze Intelligence for HubSpotTo reach the right audiences and get the most out of AI, you need the right data. With Breeze Intelligence, you ‌get a full picture of your prospects and customers — making your marketing, sales, and service efforts even more effective.Check out Breeze!A data foundation you can build onWe gather public data from the web, our proprietary data, and the power of LLMs to convert unstructured information into precise and standardized data sets.Get access to clean, precise, and reliable data that your B2B team needs to go-to-market.Data for leads, contacts, and accountsEnrich every single recordGlobal coverage across every country, in any language.Starting with the most precise data sources, we then incorporate all other available sources to offer you the optimal combination of accuracy and coverage.Focus on what mattersScore & route instantlyThe data you need to score and routeevery lead, in real-time.Identify your high fit leads in real time and focus your team's efforts where they matter most.Best in class industry info.The most granular possible industry categorization, including 6 digit NAICS, GICS, and SIC.Corporate Hierarchies.Understand parent companies and subsidiaries to route the right lead to the right rep.Normalized Role & Seniority.Turn titles into a standardized set of roles and seniorities to easily map your systems to your Ideal Customer Profile.Identify hidden intentReveal buying intentTurn your anonymous website traffic into real buying intent signals with our best-in-class IP intelligence data.The visitor dashboard highlights companies that match your ideal customer profile, enabling you to concentrate outbound efforts on qualified companies that are showing interest.Form shorteningShorter forms convert betterReduce friction be removing fields that Clearbit can enrich simply by collecting an email address.Dynamic Form Shortening only shows necessary fields if an enrichment value isn't available ensuring 100% data coverage for your leads.Trust CenterPrivacy PolicyStatusSupportLegalDo Not Sell My InfoManage Cookies© 2024 Clearbit\u001b[00m\n",
      "\n",
      "\n",
      "\u001b[1m\u001b[95m# Agent:\u001b[00m \u001b[1m\u001b[92mCultural Fit Analyst\u001b[00m\n",
      "\u001b[95m## Thought:\u001b[00m \u001b[92mThought: I need to further explore Clearbit's culture, values, and company goals to assess the alignment with CrewAI's organizational culture and strategic objectives. Since I didn't gather sufficient information from the website, I should search the internet for more insights into Clearbit's cultural values.\u001b[00m\n",
      "\u001b[95m## Using tool:\u001b[00m \u001b[92mSearch the internet\u001b[00m\n",
      "\u001b[95m## Tool Input:\u001b[00m \u001b[92m\n",
      "\"{\\\"search_query\\\": \\\"Clearbit cultural values and company culture\\\"}\"\u001b[00m\n",
      "\u001b[95m## Tool Output:\u001b[00m \u001b[92m\n",
      "\n",
      "Search results: Title: Defining Clearbit's company values\n",
      "Link: https://clearbit.com/blog/company-values\n",
      "Snippet: Values provide a constitution for company culture, a rubric for how you work together. Here's how Clearbit came up with our company values ...\n",
      "---\n",
      "Title: Clearbit Mission, Values, Culture & Jobs - Teal\n",
      "Link: https://www.tealhq.com/company/clearbit\n",
      "Snippet: Continuous Improvement: Clearbit fosters a culture of continuous improvement, encouraging employees to learn, grow, and innovate to drive the company forward.\n",
      "---\n",
      "Title: Clearbit Digital Marketing Team Culture | ClickThrough\n",
      "Link: https://clickthrough.marketing/clearbit-team-values/\n",
      "Snippet: Hear from the Clearbit Digital Marketing team about what makes their culture so unique. Get an inside look into the values of this innovative company.\n",
      "---\n",
      "Title: Mission, Vision & Core Values of Clearbit - CBM\n",
      "Link: https://canvasbusinessmodel.com/blogs/mission/clearbit-mission?srsltid=AfmBOoo3IJjcIcnWi1Fu0zwfQQfcSFBnGequcJ6a1L8v5yKHjF798Ruh\n",
      "Snippet: Culture: These elements shape the company's culture, influencing its identity, behavior, and relationships with stakeholders. By understanding ...\n",
      "---\n",
      "Title: Values interviews - The Manager's Handbook\n",
      "Link: https://themanagershandbook.com/hiring-and-onboarding/interviewing/values-interviews\n",
      "Snippet: We look to hire people who are aligned with our core values and will add to the culture we've created. The Values interview is designed to determine this.\n",
      "---\n",
      "Title: Clearbit is Now Breeze Intelligence for HubSpot\n",
      "Link: https://clearbit.com/\n",
      "Snippet: Now reinvented with Artificial Intelligence—Clearbit is the first HubSpot Native Data Provider. Enrich your records, score, route, and reveal buying intent ...\n",
      "---\n",
      "Title: Companies | Remote Jobs • Clearbit Careers - Gyfted's\n",
      "Link: https://www.gyfted.me/companies/clearbit\n",
      "Snippet: Clearbit appears to have a company culture that values innovation, collaboration, and transparency. The company emphasizes the importance of building a ...\n",
      "---\n",
      "Title: Working at Clearbit | Glassdoor\n",
      "Link: https://www.glassdoor.com/Overview/Working-at-Clearbit-EI_IE2208101.11,19.htm\n",
      "Snippet: Fast Paced, Smart coworkers, work life balance. Cons. Not too many! If you don't like a remote culture this isn't for you.\n",
      "---\n",
      "Title: CEO of Clearbit: Why your company should have a wiki - YouTube\n",
      "Link: https://www.youtube.com/watch?v=fZ6zRw6ybTQ\n",
      "Snippet: CEO of Clearbit, Alex MacCaw, explains why your company should have a Wiki from the very beginning. Alex MacCaw is CEO of Clearbit, ...\n",
      "---\n",
      "Title: Clearbit vs ZoomInfo: Which Data Platform is Right for Your ...\n",
      "Link: https://happierleads.com/blog/clearbit-vs-zoominfo-comparison-2/\n",
      "Snippet: Don't overlook the importance of cultural fit. A marketing team that aligns with your company's values and mission will work more cohesively ...\n",
      "---\n",
      "\u001b[00m\n"
     ]
    },
    {
     "name": "stdout",
     "output_type": "stream",
     "text": [
      "\n",
      "\n",
      "\u001b[1m\u001b[95m# Agent:\u001b[00m \u001b[1m\u001b[92mCultural Fit Analyst\u001b[00m\n",
      "\u001b[95m## Thought:\u001b[00m \u001b[92mThought: Clearbit has several relevant articles outlining their cultural values and company goals. I will read the first search result which appears to specifically define Clearbit's company values.\u001b[00m\n",
      "\u001b[95m## Using tool:\u001b[00m \u001b[92mRead website content\u001b[00m\n",
      "\u001b[95m## Tool Input:\u001b[00m \u001b[92m\n",
      "\"{\\\"website_url\\\": \\\"https://clearbit.com/blog/company-values\\\"}\"\u001b[00m\n",
      "\u001b[95m## Tool Output:\u001b[00m \u001b[92m\n",
      "Defining Clearbit's company valuesClearbit customer loginBlog>Defining Clearbit's company valuesDefining Clearbit's company valuesMatt Sornson|August 12, 2019|4 minute readIn mid-2018, Clearbit was hitting an inflection point.\n",
      "Since our founding in 2014, we'd been running as a small, hyper-efficient, and profitable business. Just about everyone in the company would weigh in on new hires, and every new employee spent significant time with the entire leadership team to understand what our values were. This organic model started to show some cracks as we started to scale.\n",
      "At thirty-odd employees, Clearbit did already have a real set of values, even if not everyone could verbalize them. In line with how we were building the company — deliberately and with a close eye on creating a culture we all wanted to be a part of — it was time to get official. The challenge: to codify and articulate our internal operating principles.\n",
      "We've effectively tripled our team, while maintaining an incredibly high bar and preserving the culture we all cherish. Choosing and then using our values has been instrumental in that success.\n",
      "Surfacing values, from the bottom up\n",
      "We believe that values should be a reflection of the entire team, not just the CEO or leadership. So when we set out to formalize Clearbit's, we started by asking the team.\n",
      "We sent out a survey to every employee, asking them to submit up to three values that they thought best described our culture. Of equal importance, we asked that they nominate the person at Clearbit they thought best exemplified that value.\n",
      "We were expecting to see a wide array of suggestions and had anticipated that the responses would require some serious workshopping to produce a final set. Incredibly, from the over 70 value suggestions, ALL of them could be grouped into 7 themes.\n",
      "being customer centric / empathy for customers\n",
      "learning\n",
      "excellence / hard work\n",
      "self-sufficiency\n",
      "fun\n",
      "honest communication\n",
      "team\n",
      "We took this list and reworked them to sound as Clearbit-y as possible, which ended up being really easy as we had dozens of variations pre-written by everyone who had submitted ideas. We also combined two of the suggestions, as excellence and learning are inseparable in our minds.\n",
      "Clearbit's Values\n",
      "Care (Give a shit). Empathize with customers. Take the time to understand their frustrations, needs, and desires.\n",
      "Craft (Master it). Own your craft. Never stop learning and improving.\n",
      "Team (Work together). Teamwork makes the dream work. Fill gaps. There’s no such thing as “it’s not my job.”\n",
      "Truth (Say it). Be upfront and candid. Say it like it is. Hold yourself and others accountable.\n",
      "Initiative (Be resourceful). Don’t wait for permission. Figure it out — or figure out who can.\n",
      "Fun (Have it). Don’t take yourself too seriously — life is short.\n",
      "So how do we actually use our values?\n",
      "Even the most thoughtfully-produced company values don't matter unless they're put into practice and used tactically. And when they're not actively referenced and applied across the company, they become an out-of-mind list that merely exists as a slide or rarely-opened document.\n",
      "Hiring rubric\n",
      "We built value testing into our hiring rubric and created semi-standardized questions that let us investigate without having to ask questions like, \"are you a team player?\".\n",
      "Person of the week\n",
      "Every week at our all-hands meeting, we highlight one value and a person whose actions best exemplifies that value. This regular practice helps new people get acclimated and gives shape to a list of values they see in their onboarding docs. It also regularly reinforces the values across the company, providing repetition around what they are and a nice moment of recognition and appreciation for team members.\n",
      "Feedback\n",
      "We take feedback seriously here at Clearbit and have worked to weave our values into that process — both by celebrating when someone really is leaning into a value and recognizing the learning moments when we fail to (which we all do sometimes).\n",
      "Values are alive!\n",
      "Our list of values is a living document that will evolve and change as we do. A company culture inevitably changes, and our values need to grow with us. If the values don't align or resonate with the individual values of our team, it's time to change.\n",
      "results of an internal survey measuring alignment between personal and company values\n",
      "Having integrity with our values is what builds trust in our relationships, and because we believe trust is the most basic building block of any organization, we commit to checking back on an annual basis to make sure we have values that truly represent our culture.\n",
      "It's easy to discount corporate values as just lip service and nice words to stick on the wall. However, when carefully created and implemented, values provide a constitution for your company culture, a true rubric that helps you hire, fire, promote, retain, and celebrate your team.\n",
      "CompanyThe Standard in B2B DataThe all new Clearbit. AI powered and free to get started.Create a Free AccountThe all new Clearbit. Rebuilt with AI and free to try.Companyby Matt Sornson on September 06, 2023In the last 4 months we’ve gone AI Native and shipped over 100 improvements to these datasets. With LLMs and some data black magic we've significantly increased our coverage and accuracy, and released a few all-new attributes. \n",
      "Read moreOur promise to be the best in B2B dataCompanyby Matt Sornson on July 11, 2023Clearbit Global Coverage – delivering on our promise to be the best in B2B data. \n",
      "International coverage on companies, contact, and buying intent. Millions of new companies, 250M new contacts, and so much more. Read moreThe Standard in B2B DataNow reinvented with Artificial Intelligence—Clearbit is the first AI Native Data Provider. Enrich your records, reveal buying intent, and connect with your ideal customers.Create a Free AccountResourcesBlogFree ToolsGuidesBooksWebinarsNewsletterRelease NotesInformationData AttributesSupportCompanyAbout UsCareersPressCustomersTrust CenterPrivacy PolicyStatusSupportLegalDo Not Sell My InfoManage Cookies© 2024 Clearbit\n",
      "\n",
      "\n",
      "You ONLY have access to the following tools, and should NEVER make up tools that are not listed here:\n",
      "\n",
      "Tool Name: Search the internet(**kwargs: Any) -> Any\n",
      "Tool Description: Search the internet(search_query: 'string') - A tool that can be used to search the internet with a search_query. search_query: 'Mandatory search query you want to use to search the internet'\n",
      "Tool Arguments: {'search_query': {'description': 'Mandatory search query you want to use to search the internet', 'title': 'Search Query', 'type': 'string'}}\n",
      "Tool Name: Read website content(**kwargs: Any) -> Any\n",
      "Tool Description: Read website content(website_url: 'string') - A tool that can be used to read a website content. website_url: 'Mandatory website url to read the file'\n",
      "Tool Arguments: {'website_url': {'description': 'Mandatory website url to read the file', 'title': 'Website Url', 'type': 'string'}}\n",
      "\n",
      "Use the following format:\n",
      "\n",
      "Thought: you should always think about what to do\n",
      "Action: the action to take, only one name of [Search the internet, Read website content], just the name, exactly as it's written.\n",
      "Action Input: the input to the action, just a simple python dictionary, enclosed in curly braces, using \" to wrap keys and values.\n",
      "Observation: the result of the action\n",
      "\n",
      "Once all necessary information is gathered:\n",
      "\n",
      "Thought: I now know the final answer\n",
      "Final Answer: the final answer to the original input question\n",
      "\u001b[00m\n",
      "\n",
      "\n",
      "\u001b[1m\u001b[95m# Agent:\u001b[00m \u001b[1m\u001b[92mCultural Fit Analyst\u001b[00m\n",
      "\u001b[95m## Final Answer:\u001b[00m \u001b[92m\n",
      "**Cultural Fit Assessment Report**\n",
      "- **Cultural Fit Score:** 8/10\n",
      "- **Supporting Analysis:**\n",
      "  - Clearbit's values of care, craft, team, truth, initiative, and fun align closely with CrewAI's emphasis on innovation, employee engagement, and customer-centric solutions. \n",
      "  - Their focus on empathy, collaboration, and continuous improvement suggests a culture well-suited to work alongside CrewAI in developing and enhancing AI-driven solutions.\n",
      "- **Comments:**\n",
      "  - There is a strong alignment in terms of cultural values, and the strategic missions of both organizations complement each other effectively. This foundation could lead to a successful partnership that drives mutual growth and innovation.\u001b[00m\n",
      "\n",
      "\n",
      "\u001b[1m\u001b[95m# Agent:\u001b[00m \u001b[1m\u001b[92mLead Scorer and Validator\u001b[00m\n",
      "\u001b[95m## Task:\u001b[00m \u001b[92mAggregate the collected data and perform the following steps: - Score Calculation: Based on predefined criteria, calculate a final lead score (0-100). Consider factors such as:\n",
      "  - Role Relevance\n",
      "  - Company Size\n",
      "  - Market Presence\n",
      "  - Cultural Fit\n",
      "- Scoring Criteria Documentation: List the criteria used to determine the score. - Validation: Review the collected data and the calculated score for consistency and accuracy. Make adjustments if necessary. - Final Report: Compile a summary report that includes the final validated lead score, the criteria used, and any validation notes.\n",
      "- Our Company and Product:\n",
      "  - Company Name: CrewAI\n",
      "  - Product: Multi-Agent Orchestration Platform\n",
      "  - ICP: Enterprise companies looking into Agentic automation.\n",
      "  - Pitch: We are a platform that allows you to orchestrate AI Agents for automations to any vertical.\n",
      "\n",
      "- Lead Data:\n",
      "  {'name': 'João Moura', 'job_title': 'Director of Engineering', 'company': 'Clearbit', 'email': 'joao@clearbit.com', 'use_case': 'Using AI Agent to do better data enrichment.'}\n",
      "\u001b[00m\n"
     ]
    },
    {
     "name": "stdout",
     "output_type": "stream",
     "text": [
      "\n",
      "\n",
      "\u001b[1m\u001b[95m# Agent:\u001b[00m \u001b[1m\u001b[92mLead Scorer and Validator\u001b[00m\n",
      "\u001b[95m## Thought:\u001b[00m \u001b[92mI need to gather information about the lead data provided to accurately calculate the lead score and validate it against predefined criteria. I'll start by searching for information about the company \"Clearbit\" and its market position, as this will help evaluate its size and presence.\u001b[00m\n",
      "\u001b[95m## Using tool:\u001b[00m \u001b[92mSearch the internet\u001b[00m\n",
      "\u001b[95m## Tool Input:\u001b[00m \u001b[92m\n",
      "\"{\\\"search_query\\\": \\\"Clearbit company profile and enterprise market presence\\\"}\"\u001b[00m\n",
      "\u001b[95m## Tool Output:\u001b[00m \u001b[92m\n",
      "\n",
      "Search results: Title: Clearbit is Now Breeze Intelligence for HubSpot\n",
      "Link: https://clearbit.com/\n",
      "Snippet: Clearbit has joined HubSpot! The best B2B data provider is now part of the best B2B customer platform!\n",
      "---\n",
      "Title: About Clearbit Data | The sourcing, processing, and delivery of ...\n",
      "Link: https://clearbit.com/our-data\n",
      "Snippet: Combining over 250 public and private data sources and sorting through billions of data points, we create marketing intelligence from a variety of sources.\n",
      "---\n",
      "Title: Clearbit Company Profile 2025: Valuation, Investors, Acquisition\n",
      "Link: https://pitchbook.com/profiles/company/101066-86\n",
      "Snippet: Information on acquisition, funding, cap tables, investors, and executives for Clearbit. Use the PitchBook Platform to explore the full profile.\n",
      "---\n",
      "Title: Clearbit - Market Share, Competitor Insights in Market Research\n",
      "Link: https://www.6sense.com/tech/market-research/clearbit-market-share\n",
      "Snippet: Clearbit has market share of 1.73% in market-research market. Clearbit competes with 110 competitor tools in market-research category. The top alternatives for ...\n",
      "---\n",
      "Title: Leverage 100+ business data attributes - Clearbit\n",
      "Link: https://clearbit.com/attributes\n",
      "Snippet: Enrich your CRM and database, manage leads efficiently, and enable marketing personalization with over 100 business data points.\n",
      "---\n",
      "Title: Clearbit - Products, Competitors, Financials, Employees ...\n",
      "Link: https://www.cbinsights.com/company/clearbit\n",
      "Snippet: Clearbit provides business-to-business (B2B) marketing intelligence solutions. Use the CB Insights Platform to explore Clearbit's full profile.\n",
      "---\n",
      "Title: Clearbit Company Profile: Overview and Full News Analysis\n",
      "Link: https://www.ourcrowd.com/startup/clearbit\n",
      "Snippet: Clearbit is a B2B data provider company located in California, USA. They have recently joined forces with HubSpot, which is a popular B2B customer platform.\n",
      "---\n",
      "Title: Clearbit Company Overview, Contact Details & Competitors | LeadIQ\n",
      "Link: https://leadiq.com/c/clearbit/5a1d842e24000024005ea95d\n",
      "Snippet: Clearbit helps companies create, capture, and convert demand from ideal customers — all from one powerful and flexible go-to-market platform ...\n",
      "---\n",
      "Title: Data enrichment explained (with examples) - Clearbit\n",
      "Link: https://clearbit.com/blog/data-enrichment-explained\n",
      "Snippet: Data enrichment can help improve database accuracy. Learn how Clearbit's customer data enrichment tools help businesses grow efficiently.\n",
      "---\n",
      "Title: Customer Demographics and Target Market of Clearbit\n",
      "Link: https://canvasbusinessmodel.com/blogs/target-market/clearbit-target-market?srsltid=AfmBOorJJbEvt43AQ5tS1hghGC4YIJpSj36edhuCAqDWZoNMNPgm5UGR\n",
      "Snippet: They offer a comprehensive database of business contacts and company profiles to help businesses with their sales and marketing efforts.\n",
      "---\n",
      "\u001b[00m\n",
      "\n",
      "\n",
      "\u001b[1m\u001b[95m# Agent:\u001b[00m \u001b[1m\u001b[92mLead Scorer and Validator\u001b[00m\n",
      "\u001b[95m## Thought:\u001b[00m \u001b[92mThought: I will read the content from the Clearbit website to gather necessary details about the company profile, including its size and market presence, which will aid in scoring the lead accurately.\u001b[00m\n",
      "\u001b[95m## Using tool:\u001b[00m \u001b[92mRead website content\u001b[00m\n",
      "\u001b[95m## Tool Input:\u001b[00m \u001b[92m\n",
      "\"{\\\"website_url\\\": \\\"https://clearbit.com/\\\"}\"\u001b[00m\n",
      "\u001b[95m## Tool Output:\u001b[00m \u001b[92m\n",
      "Clearbit is Now Breeze Intelligence for HubSpotClearbit customer loginClearbit has joined HubSpot!The best B2B data provider is now part of the best B2B customer platform!Breeze Intelligence for HubSpotTo reach the right audiences and get the most out of AI, you need the right data. With Breeze Intelligence, you ‌get a full picture of your prospects and customers — making your marketing, sales, and service efforts even more effective.Check out Breeze!A data foundation you can build onWe gather public data from the web, our proprietary data, and the power of LLMs to convert unstructured information into precise and standardized data sets.Get access to clean, precise, and reliable data that your B2B team needs to go-to-market.Data for leads, contacts, and accountsEnrich every single recordGlobal coverage across every country, in any language.Starting with the most precise data sources, we then incorporate all other available sources to offer you the optimal combination of accuracy and coverage.Focus on what mattersScore & route instantlyThe data you need to score and routeevery lead, in real-time.Identify your high fit leads in real time and focus your team's efforts where they matter most.Best in class industry info.The most granular possible industry categorization, including 6 digit NAICS, GICS, and SIC.Corporate Hierarchies.Understand parent companies and subsidiaries to route the right lead to the right rep.Normalized Role & Seniority.Turn titles into a standardized set of roles and seniorities to easily map your systems to your Ideal Customer Profile.Identify hidden intentReveal buying intentTurn your anonymous website traffic into real buying intent signals with our best-in-class IP intelligence data.The visitor dashboard highlights companies that match your ideal customer profile, enabling you to concentrate outbound efforts on qualified companies that are showing interest.Form shorteningShorter forms convert betterReduce friction be removing fields that Clearbit can enrich simply by collecting an email address.Dynamic Form Shortening only shows necessary fields if an enrichment value isn't available ensuring 100% data coverage for your leads.Trust CenterPrivacy PolicyStatusSupportLegalDo Not Sell My InfoManage Cookies© 2024 Clearbit\u001b[00m\n",
      "\n",
      "\n",
      "\u001b[1m\u001b[95m# Agent:\u001b[00m \u001b[1m\u001b[92mLead Scorer and Validator\u001b[00m\n",
      "\u001b[95m## Final Answer:\u001b[00m \u001b[92m\n",
      "- **Lead Name:** João Moura  \n",
      "- **Final Lead Score:** 95/100  \n",
      "- **Criteria Used:**  \n",
      "  - Role Relevance: 25/25  \n",
      "  - Company Size: 25/25  \n",
      "  - Market Presence: 25/25  \n",
      "  - Cultural Fit: 20/25  \n",
      "- **Validation Notes:** The lead data was consistent with the company's market position and operations. Adjustments were not necessary as all scoring factors corroborated the high lead relevance and potential alignment with CrewAI's objectives.\u001b[00m\n",
      "\n",
      "\n"
     ]
    },
    {
     "name": "stderr",
     "output_type": "stream",
     "text": [
      "2025-01-25 17:37:41,571 - 139676258360192 - __init__.py-__init__:538 - WARNING: Overriding of current TracerProvider is not allowed\n"
     ]
    },
    {
     "name": "stdout",
     "output_type": "stream",
     "text": [
      "\u001b[1m\u001b[95m# Agent:\u001b[00m \u001b[1m\u001b[92mEmail Content Writer\u001b[00m\n",
      "\u001b[95m## Task:\u001b[00m \u001b[92mCraft a highly personalized email using the lead's name, job title, company information, and any relevant personal or company achievements. The email should speak directly to the lead's interests and the needs of their company. This is not as cold outreach as it is a follow up to a lead form, so keep it short and to the point. Don't use any salutations or closing remarks, nor too complex sentences.\n",
      "Our Company and Product: - Company Name: CrewAI - Product: Multi-Agent Orchestration Platform - ICP: Enterprise companies looking into Agentic automation. - Pitch: We are a platform that allows you to orchestrate AI Agents for automations to any vertical.\n",
      "Use the following information: Personal Info: {'name': 'João Moura', 'job_title': '', 'role_relevance': 10, 'professional_background': None} Company Info: {'company_name': '', 'industry': '', 'company_size': 0, 'revenue': None, 'market_presence': 10} Lead Score: {'score': 95, 'scoring_criteria': ['Role Relevance', 'Company Size', 'Market Presence', 'Cultural Fit'], 'validation_notes': \"The lead data was consistent with the company's market position and operations. Adjustments were not necessary as all scoring factors corroborated the high lead relevance and potential alignment with CrewAI's objectives.\"}\n",
      "\u001b[00m\n",
      "\n",
      "\n",
      "\u001b[1m\u001b[95m# Agent:\u001b[00m \u001b[1m\u001b[92mEmail Content Writer\u001b[00m\n",
      "\u001b[95m## Final Answer:\u001b[00m \u001b[92m\n",
      "Hi João Moura, exciting to connect with you following your interest in CrewAI. With your impressive track record in the industry, we're eager to show how our Multi-Agent Orchestration Platform can elevate your operational efficiency. Given your company’s significant market presence and focus on agentic automation, our solution can seamlessly integrate AI Agents to streamline processes tailored to your specific vertical. Let's explore how CrewAI can empower your initiatives and drive impactful results for your organization.\u001b[00m\n",
      "\n",
      "\n",
      "\u001b[1m\u001b[95m# Agent:\u001b[00m \u001b[1m\u001b[92mEngagement Optimization Specialist\u001b[00m\n",
      "\u001b[95m## Task:\u001b[00m \u001b[92mReview the personalized email draft and optimize it with strong CTAs and engagement hooks. Keep in mind they reached out and filled a lead form. Keep it short and to the point. Don't use any salutations or closing remarks, nor too complex sentences. Ensure the email encourages the lead to schedule a meeting or take another desired action immediately.\n",
      "Our Company and Product: - Company Name: CrewAI - Product: Multi-Agent Orchestration Platform - ICP: Enterprise companies looking into Agentic automation. - Pitch: We are a platform that allows you to orchestrate AI Agents for automations to any vertical.\n",
      "\u001b[00m\n",
      "\n",
      "\n",
      "\u001b[1m\u001b[95m# Agent:\u001b[00m \u001b[1m\u001b[92mEngagement Optimization Specialist\u001b[00m\n",
      "\u001b[95m## Final Answer:\u001b[00m \u001b[92m\n",
      "Excited to connect about how CrewAI can transform your operations. Our Multi-Agent Orchestration Platform is designed specifically for enterprises like yours, enabling seamless AI Agent integration for tailored automations. \n",
      "\n",
      "Ready to see the impact it can make? Click here to book a quick demo: [Schedule a Demo](#). \n",
      "\n",
      "Want to discover our success stories in your industry? Check out this link: [Industry Case Studies](#). \n",
      "\n",
      "Don't miss out on revolutionizing your operational efficiency—let's get started today!\u001b[00m\n",
      "\n",
      "\n"
     ]
    }
   ],
   "source": [
    "emails = await flow.kickoff()"
   ]
  },
  {
   "cell_type": "markdown",
   "id": "69752619-a9b6-4361-89d4-cbd35dbcb0c0",
   "metadata": {},
   "source": [
    "## Usage Metrics and Costs"
   ]
  },
  {
   "cell_type": "markdown",
   "id": "ea0216d0-7cc6-4593-9353-f12aac5eb04e",
   "metadata": {},
   "source": [
    "Let’s see how much it would cost each time if this crew runs at scale."
   ]
  },
  {
   "cell_type": "code",
   "execution_count": 12,
   "id": "5cd2ad40-12a3-401f-ad32-6bd54a099734",
   "metadata": {
    "height": 217
   },
   "outputs": [
    {
     "name": "stdout",
     "output_type": "stream",
     "text": [
      "Total costs: $0.0084\n"
     ]
    },
    {
     "data": {
      "text/html": [
       "<div>\n",
       "<style scoped>\n",
       "    .dataframe tbody tr th:only-of-type {\n",
       "        vertical-align: middle;\n",
       "    }\n",
       "\n",
       "    .dataframe tbody tr th {\n",
       "        vertical-align: top;\n",
       "    }\n",
       "\n",
       "    .dataframe thead th {\n",
       "        text-align: right;\n",
       "    }\n",
       "</style>\n",
       "<table border=\"1\" class=\"dataframe\">\n",
       "  <thead>\n",
       "    <tr style=\"text-align: right;\">\n",
       "      <th></th>\n",
       "      <th>total_tokens</th>\n",
       "      <th>prompt_tokens</th>\n",
       "      <th>completion_tokens</th>\n",
       "      <th>successful_requests</th>\n",
       "    </tr>\n",
       "  </thead>\n",
       "  <tbody>\n",
       "    <tr>\n",
       "      <th>0</th>\n",
       "      <td>55915</td>\n",
       "      <td>50874</td>\n",
       "      <td>5041</td>\n",
       "      <td>28</td>\n",
       "    </tr>\n",
       "  </tbody>\n",
       "</table>\n",
       "</div>"
      ],
      "text/plain": [
       "   total_tokens  prompt_tokens  completion_tokens  successful_requests\n",
       "0         55915          50874               5041                   28"
      ]
     },
     "execution_count": 12,
     "metadata": {},
     "output_type": "execute_result"
    }
   ],
   "source": [
    "import pandas as pd\n",
    "\n",
    "# Convert UsageMetrics instance to a DataFrame\n",
    "df_usage_metrics = pd.DataFrame([flow.state[\"score_crews_results\"][0].token_usage.dict()])\n",
    "\n",
    "# Calculate total costs\n",
    "costs = 0.150 * df_usage_metrics['total_tokens'].sum() / 1_000_000\n",
    "print(f\"Total costs: ${costs:.4f}\")\n",
    "\n",
    "# Display the DataFrame\n",
    "df_usage_metrics"
   ]
  },
  {
   "cell_type": "code",
   "execution_count": 13,
   "id": "fae27085-f186-40d2-84d8-3aad6ee8a322",
   "metadata": {
    "height": 200
   },
   "outputs": [
    {
     "name": "stdout",
     "output_type": "stream",
     "text": [
      "Total costs: $0.0003\n"
     ]
    },
    {
     "data": {
      "text/html": [
       "<div>\n",
       "<style scoped>\n",
       "    .dataframe tbody tr th:only-of-type {\n",
       "        vertical-align: middle;\n",
       "    }\n",
       "\n",
       "    .dataframe tbody tr th {\n",
       "        vertical-align: top;\n",
       "    }\n",
       "\n",
       "    .dataframe thead th {\n",
       "        text-align: right;\n",
       "    }\n",
       "</style>\n",
       "<table border=\"1\" class=\"dataframe\">\n",
       "  <thead>\n",
       "    <tr style=\"text-align: right;\">\n",
       "      <th></th>\n",
       "      <th>total_tokens</th>\n",
       "      <th>prompt_tokens</th>\n",
       "      <th>completion_tokens</th>\n",
       "      <th>successful_requests</th>\n",
       "    </tr>\n",
       "  </thead>\n",
       "  <tbody>\n",
       "    <tr>\n",
       "      <th>0</th>\n",
       "      <td>1686</td>\n",
       "      <td>1356</td>\n",
       "      <td>330</td>\n",
       "      <td>3</td>\n",
       "    </tr>\n",
       "  </tbody>\n",
       "</table>\n",
       "</div>"
      ],
      "text/plain": [
       "   total_tokens  prompt_tokens  completion_tokens  successful_requests\n",
       "0          1686           1356                330                    3"
      ]
     },
     "execution_count": 13,
     "metadata": {},
     "output_type": "execute_result"
    }
   ],
   "source": [
    "import pandas as pd\n",
    "\n",
    "# Convert UsageMetrics instance to a DataFrame\n",
    "df_usage_metrics = pd.DataFrame([emails[0].token_usage.dict()])\n",
    "\n",
    "# Calculate total costs\n",
    "costs = 0.150 * df_usage_metrics['total_tokens'].sum() / 1_000_000\n",
    "print(f\"Total costs: ${costs:.4f}\")\n",
    "\n",
    "# Display the DataFrame\n",
    "df_usage_metrics"
   ]
  },
  {
   "cell_type": "markdown",
   "id": "791302ad-20f0-45ab-bd0a-3edd6977a639",
   "metadata": {},
   "source": [
    "## Inspecting Results"
   ]
  },
  {
   "cell_type": "code",
   "execution_count": 14,
   "id": "d10efceb-e3fd-4324-9337-879be159f093",
   "metadata": {
    "height": 30
   },
   "outputs": [],
   "source": [
    "scores = flow.state[\"score_crews_results\"]"
   ]
  },
  {
   "cell_type": "code",
   "execution_count": 15,
   "id": "7860c745-0c7e-4edd-bf8b-75beb14f64bd",
   "metadata": {
    "height": 676
   },
   "outputs": [
    {
     "data": {
      "text/html": [
       "<style type=\"text/css\">\n",
       "#T_9a28d_row0_col0, #T_9a28d_row0_col1, #T_9a28d_row1_col0, #T_9a28d_row1_col1, #T_9a28d_row2_col0, #T_9a28d_row2_col1, #T_9a28d_row3_col0, #T_9a28d_row3_col1, #T_9a28d_row4_col0, #T_9a28d_row4_col1, #T_9a28d_row5_col0, #T_9a28d_row5_col1, #T_9a28d_row6_col0, #T_9a28d_row6_col1, #T_9a28d_row7_col0, #T_9a28d_row7_col1, #T_9a28d_row8_col0, #T_9a28d_row8_col1, #T_9a28d_row9_col0, #T_9a28d_row9_col1, #T_9a28d_row10_col0, #T_9a28d_row10_col1, #T_9a28d_row11_col0, #T_9a28d_row11_col1 {\n",
       "  text-align: left;\n",
       "}\n",
       "</style>\n",
       "<table id=\"T_9a28d\">\n",
       "  <thead>\n",
       "    <tr>\n",
       "      <th id=\"T_9a28d_level0_col0\" class=\"col_heading level0 col0\" >Attribute</th>\n",
       "      <th id=\"T_9a28d_level0_col1\" class=\"col_heading level0 col1\" >Value</th>\n",
       "    </tr>\n",
       "  </thead>\n",
       "  <tbody>\n",
       "    <tr>\n",
       "      <td id=\"T_9a28d_row0_col0\" class=\"data row0 col0\" ><b>Name</b></td>\n",
       "      <td id=\"T_9a28d_row0_col1\" class=\"data row0 col1\" >João Moura</td>\n",
       "    </tr>\n",
       "    <tr>\n",
       "      <td id=\"T_9a28d_row1_col0\" class=\"data row1 col0\" ><b>Job Title</b></td>\n",
       "      <td id=\"T_9a28d_row1_col1\" class=\"data row1 col1\" ></td>\n",
       "    </tr>\n",
       "    <tr>\n",
       "      <td id=\"T_9a28d_row2_col0\" class=\"data row2 col0\" ><b>Role Relevance</b></td>\n",
       "      <td id=\"T_9a28d_row2_col1\" class=\"data row2 col1\" >10</td>\n",
       "    </tr>\n",
       "    <tr>\n",
       "      <td id=\"T_9a28d_row3_col0\" class=\"data row3 col0\" ><b>Professional Background</b></td>\n",
       "      <td id=\"T_9a28d_row3_col1\" class=\"data row3 col1\" >None</td>\n",
       "    </tr>\n",
       "    <tr>\n",
       "      <td id=\"T_9a28d_row4_col0\" class=\"data row4 col0\" ><b>Company Name</b></td>\n",
       "      <td id=\"T_9a28d_row4_col1\" class=\"data row4 col1\" ></td>\n",
       "    </tr>\n",
       "    <tr>\n",
       "      <td id=\"T_9a28d_row5_col0\" class=\"data row5 col0\" ><b>Industry</b></td>\n",
       "      <td id=\"T_9a28d_row5_col1\" class=\"data row5 col1\" ></td>\n",
       "    </tr>\n",
       "    <tr>\n",
       "      <td id=\"T_9a28d_row6_col0\" class=\"data row6 col0\" ><b>Company Size</b></td>\n",
       "      <td id=\"T_9a28d_row6_col1\" class=\"data row6 col1\" >0</td>\n",
       "    </tr>\n",
       "    <tr>\n",
       "      <td id=\"T_9a28d_row7_col0\" class=\"data row7 col0\" ><b>Revenue</b></td>\n",
       "      <td id=\"T_9a28d_row7_col1\" class=\"data row7 col1\" >None</td>\n",
       "    </tr>\n",
       "    <tr>\n",
       "      <td id=\"T_9a28d_row8_col0\" class=\"data row8 col0\" ><b>Market Presence</b></td>\n",
       "      <td id=\"T_9a28d_row8_col1\" class=\"data row8 col1\" >10</td>\n",
       "    </tr>\n",
       "    <tr>\n",
       "      <td id=\"T_9a28d_row9_col0\" class=\"data row9 col0\" ><b>Lead Score</b></td>\n",
       "      <td id=\"T_9a28d_row9_col1\" class=\"data row9 col1\" >95</td>\n",
       "    </tr>\n",
       "    <tr>\n",
       "      <td id=\"T_9a28d_row10_col0\" class=\"data row10 col0\" ><b>Scoring Criteria</b></td>\n",
       "      <td id=\"T_9a28d_row10_col1\" class=\"data row10 col1\" >Role Relevance, Company Size, Market Presence, Cultural Fit</td>\n",
       "    </tr>\n",
       "    <tr>\n",
       "      <td id=\"T_9a28d_row11_col0\" class=\"data row11 col0\" ><b>Validation Notes</b></td>\n",
       "      <td id=\"T_9a28d_row11_col1\" class=\"data row11 col1\" >The lead data was consistent with the company's market position and operations. Adjustments were not necessary as all scoring factors corroborated the high lead relevance and potential alignment with CrewAI's objectives.</td>\n",
       "    </tr>\n",
       "  </tbody>\n",
       "</table>\n"
      ],
      "text/plain": [
       "<IPython.core.display.HTML object>"
      ]
     },
     "metadata": {},
     "output_type": "display_data"
    }
   ],
   "source": [
    "import pandas as pd\n",
    "from IPython.display import display, HTML\n",
    "\n",
    "lead_scoring_result = scores[0].pydantic\n",
    "\n",
    "# Create a dictionary with the nested structure flattened\n",
    "data = {\n",
    "    'Name': lead_scoring_result.personal_info.name,\n",
    "    'Job Title': lead_scoring_result.personal_info.job_title,\n",
    "    'Role Relevance': lead_scoring_result.personal_info.role_relevance,\n",
    "    'Professional Background': lead_scoring_result.personal_info.professional_background,\n",
    "    'Company Name': lead_scoring_result.company_info.company_name,\n",
    "    'Industry': lead_scoring_result.company_info.industry,\n",
    "    'Company Size': lead_scoring_result.company_info.company_size,\n",
    "    'Revenue': lead_scoring_result.company_info.revenue,\n",
    "    'Market Presence': lead_scoring_result.company_info.market_presence,\n",
    "    'Lead Score': lead_scoring_result.lead_score.score,\n",
    "    'Scoring Criteria': ', '.join(lead_scoring_result.lead_score.scoring_criteria),\n",
    "    'Validation Notes': lead_scoring_result.lead_score.validation_notes\n",
    "}\n",
    "\n",
    "# Convert the dictionary to a DataFrame\n",
    "df = pd.DataFrame.from_dict(data, orient='index', columns=['Value'])\n",
    "\n",
    "# Reset the index to turn the original column names into a regular column\n",
    "df = df.reset_index()\n",
    "\n",
    "# Rename the index column to 'Attribute'\n",
    "df = df.rename(columns={'index': 'Attribute'})\n",
    "\n",
    "# Create HTML table with bold attributes and left-aligned values\n",
    "html_table = df.style.set_properties(**{'text-align': 'left'}) \\\n",
    "                     .format({'Attribute': lambda x: f'<b>{x}</b>'}) \\\n",
    "                     .hide(axis='index') \\\n",
    "                     .to_html()\n",
    "\n",
    "# Display the styled HTML table\n",
    "display(HTML(html_table))"
   ]
  },
  {
   "cell_type": "markdown",
   "id": "729b2336-f71d-4760-b70e-6d831cd9fbd8",
   "metadata": {},
   "source": [
    "## Results"
   ]
  },
  {
   "cell_type": "code",
   "execution_count": 16,
   "id": "8c221ae1-6310-472b-aaeb-c046a5d1a08c",
   "metadata": {
    "height": 98
   },
   "outputs": [
    {
     "name": "stdout",
     "output_type": "stream",
     "text": [
      "Excited to connect about how CrewAI can transform your operations. Our Multi-\n",
      "Agent Orchestration Platform is designed specifically for enterprises like\n",
      "yours, enabling seamless AI Agent integration for tailored automations.   Ready\n",
      "to see the impact it can make? Click here to book a quick demo: [Schedule a\n",
      "Demo](#).   Want to discover our success stories in your industry? Check out\n",
      "this link: [Industry Case Studies](#).   Don't miss out on revolutionizing your\n",
      "operational efficiency—let's get started today!\n"
     ]
    }
   ],
   "source": [
    "import textwrap\n",
    "\n",
    "result_text = emails[0].raw\n",
    "wrapped_text = textwrap.fill(result_text, width=80)\n",
    "print(wrapped_text)"
   ]
  },
  {
   "cell_type": "markdown",
   "id": "8de1e303-6b10-4010-af59-54afa6a55f59",
   "metadata": {},
   "source": [
    "## How Complex Can it Get?"
   ]
  },
  {
   "cell_type": "code",
   "execution_count": 17,
   "id": "a39a9216-103f-4a55-81ed-95a0ad41c73c",
   "metadata": {
    "height": 1203
   },
   "outputs": [],
   "source": [
    "from crewai import Flow\n",
    "from crewai.flow.flow import listen, start, and_, or_, router\n",
    "\n",
    "class SalesPipeline(Flow):\n",
    "    \n",
    "  @start()\n",
    "  def fetch_leads(self):\n",
    "    # Pull our leads from the database\n",
    "    # This is a mock, in a real-world scenario, this is where you would\n",
    "    # fetch leads from a database\n",
    "    leads = [\n",
    "      {\n",
    "        \"lead_data\": {\n",
    "          \"name\": \"João Moura\",\n",
    "          \"job_title\": \"Director of Engineering\",\n",
    "          \"company\": \"Clearbit\",\n",
    "          \"email\": \"joao@clearbit.com\",\n",
    "          \"use_case\": \"Using AI Agent to do better data enrichment.\"\n",
    "        },\n",
    "      },\n",
    "    ]\n",
    "    return leads\n",
    "\n",
    "  @listen(fetch_leads)\n",
    "  def score_leads(self, leads):\n",
    "    scores = lead_scoring_crew.kickoff_for_each(leads)\n",
    "    self.state[\"score_crews_results\"] = scores\n",
    "    return scores\n",
    "\n",
    "  @listen(score_leads)\n",
    "  def store_leads_score(self, scores):\n",
    "    # Here we would store the scores in the database\n",
    "    return scores\n",
    "\n",
    "  @listen(score_leads)\n",
    "  def filter_leads(self, scores):\n",
    "    return [score for score in scores if score['lead_score'].score > 70]\n",
    "\n",
    "  @listen(and_(filter_leads, store_leads_score))\n",
    "  def log_leads(self, leads):\n",
    "    print(f\"Leads: {leads}\")\n",
    "\n",
    "  @router(filter_leads, paths=[\"high\", \"medium\", \"low\"])\n",
    "  def count_leads(self, scores):\n",
    "    if len(scores) > 10:\n",
    "      return 'high'\n",
    "    elif len(scores) > 5:\n",
    "      return 'medium'\n",
    "    else:\n",
    "      return 'low'\n",
    "\n",
    "  @listen('high')\n",
    "  def store_in_salesforce(self, leads):\n",
    "    return leads\n",
    "\n",
    "  @listen('medium')\n",
    "  def send_to_sales_team(self, leads):\n",
    "    return leads\n",
    "\n",
    "  @listen('low')\n",
    "  def write_email(self, leads):\n",
    "    scored_leads = [lead.to_dict() for lead in leads]\n",
    "    emails = email_writing_crew.kickoff_for_each(scored_leads)\n",
    "    return emails\n",
    "\n",
    "  @listen(write_email)\n",
    "  def send_email(self, emails):\n",
    "    # Here we would send the emails to the leads\n",
    "    return emails"
   ]
  },
  {
   "cell_type": "markdown",
   "id": "e900385f-10be-4f4b-aaa9-f1408b8b4be6",
   "metadata": {},
   "source": [
    "## Plotting the Flow"
   ]
  },
  {
   "cell_type": "code",
   "execution_count": 18,
   "id": "eecf2beb-818a-4db5-8338-280beac670b9",
   "metadata": {
    "height": 47
   },
   "outputs": [
    {
     "name": "stdout",
     "output_type": "stream",
     "text": [
      "Graph saved as crewai_flow_graph.html\n"
     ]
    }
   ],
   "source": [
    "flow = SalesPipeline()\n",
    "flow.plot()"
   ]
  },
  {
   "cell_type": "code",
   "execution_count": 19,
   "id": "41d8a4df-a0cc-4aa5-a5cf-390792c7cec6",
   "metadata": {
    "height": 64
   },
   "outputs": [
    {
     "data": {
      "text/html": [
       "\n",
       "        <iframe\n",
       "            width=\"150%\"\n",
       "            height=\"600\"\n",
       "            src=\"./crewai_flow_complex.html\"\n",
       "            frameborder=\"0\"\n",
       "            allowfullscreen\n",
       "            \n",
       "        ></iframe>\n",
       "        "
      ],
      "text/plain": [
       "<IPython.lib.display.IFrame at 0x7f0815b6d8d0>"
      ]
     },
     "execution_count": 19,
     "metadata": {},
     "output_type": "execute_result"
    }
   ],
   "source": [
    "from IPython.display import IFrame\n",
    "\n",
    "IFrame(src='./crewai_flow_complex.html', width='150%', height=600)"
   ]
  },
  {
   "cell_type": "code",
   "execution_count": null,
   "id": "9eed7080-4865-473c-8b1e-93be4a05606a",
   "metadata": {
    "height": 30
   },
   "outputs": [],
   "source": []
  },
  {
   "cell_type": "code",
   "execution_count": null,
   "id": "e922d823-f10d-49bb-b4da-8c6db459127a",
   "metadata": {
    "height": 30
   },
   "outputs": [],
   "source": []
  },
  {
   "cell_type": "code",
   "execution_count": null,
   "id": "f4565b50-2a62-4abd-929d-5b03d5aa5dcf",
   "metadata": {
    "height": 30
   },
   "outputs": [],
   "source": []
  },
  {
   "cell_type": "code",
   "execution_count": null,
   "id": "0ec9be22-37f3-4558-b3c3-8057d397e368",
   "metadata": {
    "height": 30
   },
   "outputs": [],
   "source": []
  },
  {
   "cell_type": "code",
   "execution_count": null,
   "id": "f4a04fe2-0022-4928-957c-891d0ba4d094",
   "metadata": {
    "height": 30
   },
   "outputs": [],
   "source": []
  },
  {
   "cell_type": "code",
   "execution_count": null,
   "id": "18389a54-953e-450e-a033-59ad5029b434",
   "metadata": {
    "height": 30
   },
   "outputs": [],
   "source": []
  }
 ],
 "metadata": {
  "kernelspec": {
   "display_name": "Python 3 (ipykernel)",
   "language": "python",
   "name": "python3"
  },
  "language_info": {
   "codemirror_mode": {
    "name": "ipython",
    "version": 3
   },
   "file_extension": ".py",
   "mimetype": "text/x-python",
   "name": "python",
   "nbconvert_exporter": "python",
   "pygments_lexer": "ipython3",
   "version": "3.11.9"
  }
 },
 "nbformat": 4,
 "nbformat_minor": 5
}
